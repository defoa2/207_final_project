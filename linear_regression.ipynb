{
 "cells": [
  {
   "cell_type": "code",
   "execution_count": 15,
   "metadata": {},
   "outputs": [],
   "source": [
    "import numpy as np\n",
    "import matplotlib.pyplot as plt\n",
    "import pandas as pd\n",
    "import random\n",
    "\n",
    "import tensorflow as tf\n",
    "from tensorflow import keras\n",
    "from keras import metrics\n",
    "\n",
    "\n",
    "from sklearn import tree\n",
    "from sklearn.tree import DecisionTreeRegressor\n",
    "from sklearn.metrics import mean_squared_error\n",
    "from sklearn.metrics import r2_score"
   ]
  },
  {
   "cell_type": "code",
   "execution_count": 2,
   "metadata": {},
   "outputs": [],
   "source": [
    "x_train = np.load('207_data/saved_data/x_train_3500_balanced.npy')\n",
    "y_train = np.load('207_data/saved_data/y_train_3500_balanced.npy')"
   ]
  },
  {
   "cell_type": "code",
   "execution_count": 3,
   "metadata": {},
   "outputs": [],
   "source": [
    "x_train = np.reshape(x_train/255, (331240000, 3))\n",
    "y_train = y_train.flatten()"
   ]
  },
  {
   "cell_type": "code",
   "execution_count": 19,
   "metadata": {},
   "outputs": [],
   "source": [
    "tf.keras.backend.clear_session()\n",
    "tf.random.set_seed(0)\n",
    "\n",
    "model = tf.keras.Sequential()\n",
    "\n",
    "model.add(tf.keras.layers.Dense(\n",
    "      units=1,                     # output dim\n",
    "      input_shape=[3, ],  # input dim\n",
    "      use_bias=True,               # use a bias (intercept) param\n",
    "      kernel_initializer=tf.ones_initializer,  # initialize params to 1\n",
    "      bias_initializer=tf.ones_initializer,    # initialize bias to 1\n",
    "))\n",
    "\n",
    "optimizer = tf.keras.optimizers.Adam(learning_rate=0.001)\n",
    "\n",
    "model.compile(loss='mse', optimizer=optimizer)"
   ]
  },
  {
   "cell_type": "code",
   "execution_count": 20,
   "metadata": {},
   "outputs": [
    {
     "name": "stdout",
     "output_type": "stream",
     "text": [
      "Epoch 1/5\n",
      "298116/298116 [==============================] - 273s 811us/step - loss: 782.8646 - val_loss: 665.5745\n",
      "Epoch 2/5\n",
      "298116/298116 [==============================] - 223s 749us/step - loss: 715.5324 - val_loss: 665.0290\n",
      "Epoch 3/5\n",
      "298116/298116 [==============================] - 220s 738us/step - loss: 714.9691 - val_loss: 664.7670\n",
      "Epoch 4/5\n",
      "298116/298116 [==============================] - 209s 702us/step - loss: 714.7817 - val_loss: 664.6130\n",
      "Epoch 5/5\n",
      "298116/298116 [==============================] - 209s 702us/step - loss: 714.6171 - val_loss: 664.6484\n"
     ]
    },
    {
     "data": {
      "text/html": [
       "<div>\n",
       "<style scoped>\n",
       "    .dataframe tbody tr th:only-of-type {\n",
       "        vertical-align: middle;\n",
       "    }\n",
       "\n",
       "    .dataframe tbody tr th {\n",
       "        vertical-align: top;\n",
       "    }\n",
       "\n",
       "    .dataframe thead th {\n",
       "        text-align: right;\n",
       "    }\n",
       "</style>\n",
       "<table border=\"1\" class=\"dataframe\">\n",
       "  <thead>\n",
       "    <tr style=\"text-align: right;\">\n",
       "      <th></th>\n",
       "      <th>loss</th>\n",
       "      <th>val_loss</th>\n",
       "    </tr>\n",
       "  </thead>\n",
       "  <tbody>\n",
       "    <tr>\n",
       "      <th>0</th>\n",
       "      <td>736.708435</td>\n",
       "      <td>665.574463</td>\n",
       "    </tr>\n",
       "    <tr>\n",
       "      <th>1</th>\n",
       "      <td>717.202881</td>\n",
       "      <td>665.028992</td>\n",
       "    </tr>\n",
       "    <tr>\n",
       "      <th>2</th>\n",
       "      <td>716.771851</td>\n",
       "      <td>664.766968</td>\n",
       "    </tr>\n",
       "    <tr>\n",
       "      <th>3</th>\n",
       "      <td>716.576660</td>\n",
       "      <td>664.612976</td>\n",
       "    </tr>\n",
       "    <tr>\n",
       "      <th>4</th>\n",
       "      <td>716.507324</td>\n",
       "      <td>664.648376</td>\n",
       "    </tr>\n",
       "  </tbody>\n",
       "</table>\n",
       "</div>"
      ],
      "text/plain": [
       "         loss    val_loss\n",
       "0  736.708435  665.574463\n",
       "1  717.202881  665.028992\n",
       "2  716.771851  664.766968\n",
       "3  716.576660  664.612976\n",
       "4  716.507324  664.648376"
      ]
     },
     "metadata": {},
     "output_type": "display_data"
    },
    {
     "name": "stdout",
     "output_type": "stream",
     "text": [
      "Wall time: 19min 27s\n"
     ]
    }
   ],
   "source": [
    "%%time\n",
    "\n",
    "history = model.fit(\n",
    "  x = x_train,\n",
    "  y = y_train,\n",
    "  validation_split=0.1,  # use 10% of the examples as a validation set\n",
    "  batch_size = 1000,\n",
    "  epochs = 5\n",
    ")\n",
    "\n",
    "history = pd.DataFrame(history.history)\n",
    "display(history)"
   ]
  },
  {
   "cell_type": "code",
   "execution_count": 7,
   "metadata": {},
   "outputs": [
    {
     "name": "stdout",
     "output_type": "stream",
     "text": [
      "Epoch 1/4\n",
      "596232/596232 [==============================] - 676s 1ms/step - loss: 715.6182 - val_loss: 664.5818\n",
      "Epoch 2/4\n",
      "596232/596232 [==============================] - 605s 1ms/step - loss: 715.5630 - val_loss: 664.5900\n",
      "Epoch 3/4\n",
      "596232/596232 [==============================] - 593s 994us/step - loss: 715.5612 - val_loss: 664.6179\n",
      "Epoch 4/4\n",
      "596232/596232 [==============================] - 588s 987us/step - loss: 715.5619 - val_loss: 664.5395\n"
     ]
    },
    {
     "data": {
      "text/html": [
       "<div>\n",
       "<style scoped>\n",
       "    .dataframe tbody tr th:only-of-type {\n",
       "        vertical-align: middle;\n",
       "    }\n",
       "\n",
       "    .dataframe tbody tr th {\n",
       "        vertical-align: top;\n",
       "    }\n",
       "\n",
       "    .dataframe thead th {\n",
       "        text-align: right;\n",
       "    }\n",
       "</style>\n",
       "<table border=\"1\" class=\"dataframe\">\n",
       "  <thead>\n",
       "    <tr style=\"text-align: right;\">\n",
       "      <th></th>\n",
       "      <th>loss</th>\n",
       "      <th>val_loss</th>\n",
       "    </tr>\n",
       "  </thead>\n",
       "  <tbody>\n",
       "    <tr>\n",
       "      <th>0</th>\n",
       "      <td>715.618225</td>\n",
       "      <td>664.581848</td>\n",
       "    </tr>\n",
       "    <tr>\n",
       "      <th>1</th>\n",
       "      <td>715.563049</td>\n",
       "      <td>664.589966</td>\n",
       "    </tr>\n",
       "    <tr>\n",
       "      <th>2</th>\n",
       "      <td>715.561218</td>\n",
       "      <td>664.617859</td>\n",
       "    </tr>\n",
       "    <tr>\n",
       "      <th>3</th>\n",
       "      <td>715.561890</td>\n",
       "      <td>664.539490</td>\n",
       "    </tr>\n",
       "  </tbody>\n",
       "</table>\n",
       "</div>"
      ],
      "text/plain": [
       "         loss    val_loss\n",
       "0  715.618225  664.581848\n",
       "1  715.563049  664.589966\n",
       "2  715.561218  664.617859\n",
       "3  715.561890  664.539490"
      ]
     },
     "metadata": {},
     "output_type": "display_data"
    },
    {
     "name": "stdout",
     "output_type": "stream",
     "text": [
      "Wall time: 41min 58s\n"
     ]
    }
   ],
   "source": [
    "%%time\n",
    "\n",
    "history = model.fit(\n",
    "  x = x_train,\n",
    "  y = y_train,\n",
    "  validation_split=0.1,  # use 10% of the examples as a validation set\n",
    "  batch_size = 500,\n",
    "  epochs = 4\n",
    ")\n",
    "\n",
    "history = pd.DataFrame(history.history)\n",
    "display(history)"
   ]
  },
  {
   "cell_type": "code",
   "execution_count": 4,
   "metadata": {},
   "outputs": [],
   "source": [
    "tf.keras.backend.clear_session()\n",
    "tf.random.set_seed(0)\n",
    "\n",
    "model = tf.keras.Sequential()\n",
    "\n",
    "model.add(tf.keras.layers.Dense(\n",
    "      units=1,                     # output dim\n",
    "      input_shape=[3, ],  # input dim\n",
    "      use_bias=True,               # use a bias (intercept) param\n",
    "      kernel_initializer=tf.ones_initializer,  # initialize params to 1\n",
    "      bias_initializer=tf.ones_initializer,    # initialize bias to 1\n",
    "))\n",
    "\n",
    "optimizer = tf.keras.optimizers.Adam(learning_rate=0.01)\n",
    "\n",
    "model.compile(loss='mse', optimizer=optimizer)"
   ]
  },
  {
   "cell_type": "code",
   "execution_count": 5,
   "metadata": {},
   "outputs": [
    {
     "name": "stdout",
     "output_type": "stream",
     "text": [
      "Epoch 1/5\n",
      "298116/298116 [==============================] - 288s 856us/step - loss: 728.7706 - val_loss: 664.5154\n",
      "Epoch 2/5\n",
      "298116/298116 [==============================] - 211s 707us/step - loss: 714.6126 - val_loss: 664.4692\n",
      "Epoch 3/5\n",
      "298116/298116 [==============================] - 209s 701us/step - loss: 714.5714 - val_loss: 665.0229\n",
      "Epoch 4/5\n",
      "298116/298116 [==============================] - 207s 694us/step - loss: 714.6198 - val_loss: 664.5200\n",
      "Epoch 5/5\n",
      "298116/298116 [==============================] - 198s 665us/step - loss: 714.5552 - val_loss: 664.7070\n"
     ]
    },
    {
     "data": {
      "text/html": [
       "<div>\n",
       "<style scoped>\n",
       "    .dataframe tbody tr th:only-of-type {\n",
       "        vertical-align: middle;\n",
       "    }\n",
       "\n",
       "    .dataframe tbody tr th {\n",
       "        vertical-align: top;\n",
       "    }\n",
       "\n",
       "    .dataframe thead th {\n",
       "        text-align: right;\n",
       "    }\n",
       "</style>\n",
       "<table border=\"1\" class=\"dataframe\">\n",
       "  <thead>\n",
       "    <tr style=\"text-align: right;\">\n",
       "      <th></th>\n",
       "      <th>loss</th>\n",
       "      <th>val_loss</th>\n",
       "    </tr>\n",
       "  </thead>\n",
       "  <tbody>\n",
       "    <tr>\n",
       "      <th>0</th>\n",
       "      <td>719.187439</td>\n",
       "      <td>664.515442</td>\n",
       "    </tr>\n",
       "    <tr>\n",
       "      <th>1</th>\n",
       "      <td>716.452881</td>\n",
       "      <td>664.469238</td>\n",
       "    </tr>\n",
       "    <tr>\n",
       "      <th>2</th>\n",
       "      <td>716.439331</td>\n",
       "      <td>665.022949</td>\n",
       "    </tr>\n",
       "    <tr>\n",
       "      <th>3</th>\n",
       "      <td>716.442688</td>\n",
       "      <td>664.520020</td>\n",
       "    </tr>\n",
       "    <tr>\n",
       "      <th>4</th>\n",
       "      <td>716.454224</td>\n",
       "      <td>664.706970</td>\n",
       "    </tr>\n",
       "  </tbody>\n",
       "</table>\n",
       "</div>"
      ],
      "text/plain": [
       "         loss    val_loss\n",
       "0  719.187439  664.515442\n",
       "1  716.452881  664.469238\n",
       "2  716.439331  665.022949\n",
       "3  716.442688  664.520020\n",
       "4  716.454224  664.706970"
      ]
     },
     "metadata": {},
     "output_type": "display_data"
    },
    {
     "name": "stdout",
     "output_type": "stream",
     "text": [
      "Wall time: 19min 7s\n"
     ]
    }
   ],
   "source": [
    "%%time\n",
    "\n",
    "history = model.fit(\n",
    "  x = x_train,\n",
    "  y = y_train,\n",
    "  validation_split=0.1,  # use 10% of the examples as a validation set\n",
    "  batch_size = 1000,\n",
    "  epochs = 5\n",
    ")\n",
    "\n",
    "history = pd.DataFrame(history.history)\n",
    "display(history)"
   ]
  },
  {
   "cell_type": "code",
   "execution_count": 9,
   "metadata": {},
   "outputs": [],
   "source": [
    "tf.keras.backend.clear_session()\n",
    "tf.random.set_seed(0)\n",
    "\n",
    "model = tf.keras.Sequential()\n",
    "\n",
    "model.add(tf.keras.layers.Dense(\n",
    "      units=1,                     # output dim\n",
    "      input_shape=[3, ],  # input dim\n",
    "      use_bias=True,               # use a bias (intercept) param\n",
    "      kernel_initializer=tf.ones_initializer,  # initialize params to 1\n",
    "      bias_initializer=tf.ones_initializer,    # initialize bias to 1\n",
    "))\n",
    "\n",
    "optimizer = tf.keras.optimizers.Adam(learning_rate=0.0001)\n",
    "\n",
    "model.compile(loss='mse', optimizer=optimizer)"
   ]
  },
  {
   "cell_type": "code",
   "execution_count": 10,
   "metadata": {},
   "outputs": [
    {
     "name": "stdout",
     "output_type": "stream",
     "text": [
      "Epoch 1/5\n",
      "298116/298116 [==============================] - 270s 796us/step - loss: 973.0282 - val_loss: 702.5196\n",
      "Epoch 2/5\n",
      "298116/298116 [==============================] - 212s 712us/step - loss: 747.1490 - val_loss: 681.2690\n",
      "Epoch 3/5\n",
      "298116/298116 [==============================] - 217s 727us/step - loss: 729.5161 - val_loss: 671.8822\n",
      "Epoch 4/5\n",
      "298116/298116 [==============================] - 202s 676us/step - loss: 721.6793 - val_loss: 668.0873\n",
      "Epoch 5/5\n",
      "298116/298116 [==============================] - 194s 651us/step - loss: 718.3319 - val_loss: 666.6896\n"
     ]
    },
    {
     "data": {
      "text/html": [
       "<div>\n",
       "<style scoped>\n",
       "    .dataframe tbody tr th:only-of-type {\n",
       "        vertical-align: middle;\n",
       "    }\n",
       "\n",
       "    .dataframe tbody tr th {\n",
       "        vertical-align: top;\n",
       "    }\n",
       "\n",
       "    .dataframe thead th {\n",
       "        text-align: right;\n",
       "    }\n",
       "</style>\n",
       "<table border=\"1\" class=\"dataframe\">\n",
       "  <thead>\n",
       "    <tr style=\"text-align: right;\">\n",
       "      <th></th>\n",
       "      <th>loss</th>\n",
       "      <th>val_loss</th>\n",
       "    </tr>\n",
       "  </thead>\n",
       "  <tbody>\n",
       "    <tr>\n",
       "      <th>0</th>\n",
       "      <td>850.216309</td>\n",
       "      <td>702.519592</td>\n",
       "    </tr>\n",
       "    <tr>\n",
       "      <th>1</th>\n",
       "      <td>743.618530</td>\n",
       "      <td>681.269043</td>\n",
       "    </tr>\n",
       "    <tr>\n",
       "      <th>2</th>\n",
       "      <td>728.929749</td>\n",
       "      <td>671.882202</td>\n",
       "    </tr>\n",
       "    <tr>\n",
       "      <th>3</th>\n",
       "      <td>722.501038</td>\n",
       "      <td>668.087341</td>\n",
       "    </tr>\n",
       "    <tr>\n",
       "      <th>4</th>\n",
       "      <td>719.804443</td>\n",
       "      <td>666.689636</td>\n",
       "    </tr>\n",
       "  </tbody>\n",
       "</table>\n",
       "</div>"
      ],
      "text/plain": [
       "         loss    val_loss\n",
       "0  850.216309  702.519592\n",
       "1  743.618530  681.269043\n",
       "2  728.929749  671.882202\n",
       "3  722.501038  668.087341\n",
       "4  719.804443  666.689636"
      ]
     },
     "metadata": {},
     "output_type": "display_data"
    },
    {
     "name": "stdout",
     "output_type": "stream",
     "text": [
      "Wall time: 18min 55s\n"
     ]
    }
   ],
   "source": [
    "%%time\n",
    "\n",
    "history = model.fit(\n",
    "  x = x_train,\n",
    "  y = y_train,\n",
    "  validation_split=0.1,  # use 10% of the examples as a validation set\n",
    "  batch_size = 1000,\n",
    "  epochs = 5\n",
    ")\n",
    "\n",
    "history = pd.DataFrame(history.history)\n",
    "display(history)"
   ]
  },
  {
   "cell_type": "code",
   "execution_count": 6,
   "metadata": {},
   "outputs": [],
   "source": [
    "tf.keras.backend.clear_session()\n",
    "tf.random.set_seed(0)\n",
    "\n",
    "model = tf.keras.Sequential()\n",
    "\n",
    "model.add(tf.keras.layers.Dense(\n",
    "      units=1,                     # output dim\n",
    "      input_shape=[3, ],  # input dim\n",
    "      use_bias=True,               # use a bias (intercept) param\n",
    "      kernel_initializer=tf.ones_initializer,  # initialize params to 1\n",
    "      bias_initializer=tf.ones_initializer,    # initialize bias to 1\n",
    "))\n",
    "\n",
    "optimizer = tf.keras.optimizers.SGD(learning_rate=0.001)\n",
    "\n",
    "model.compile(loss='mse', optimizer=optimizer)"
   ]
  },
  {
   "cell_type": "code",
   "execution_count": 7,
   "metadata": {},
   "outputs": [
    {
     "name": "stdout",
     "output_type": "stream",
     "text": [
      "Epoch 1/5\n",
      "298116/298116 [==============================] - 268s 790us/step - loss: 733.1064 - val_loss: 665.2596\n",
      "Epoch 2/5\n",
      "298116/298116 [==============================] - 204s 686us/step - loss: 715.1746 - val_loss: 664.7521\n",
      "Epoch 3/5\n",
      "298116/298116 [==============================] - 207s 695us/step - loss: 714.7203 - val_loss: 664.6592\n",
      "Epoch 4/5\n",
      "298116/298116 [==============================] - 196s 658us/step - loss: 714.6503 - val_loss: 664.5413\n",
      "Epoch 5/5\n",
      "298116/298116 [==============================] - 186s 624us/step - loss: 714.5554 - val_loss: 664.6319\n"
     ]
    },
    {
     "data": {
      "text/html": [
       "<div>\n",
       "<style scoped>\n",
       "    .dataframe tbody tr th:only-of-type {\n",
       "        vertical-align: middle;\n",
       "    }\n",
       "\n",
       "    .dataframe tbody tr th {\n",
       "        vertical-align: top;\n",
       "    }\n",
       "\n",
       "    .dataframe thead th {\n",
       "        text-align: right;\n",
       "    }\n",
       "</style>\n",
       "<table border=\"1\" class=\"dataframe\">\n",
       "  <thead>\n",
       "    <tr style=\"text-align: right;\">\n",
       "      <th></th>\n",
       "      <th>loss</th>\n",
       "      <th>val_loss</th>\n",
       "    </tr>\n",
       "  </thead>\n",
       "  <tbody>\n",
       "    <tr>\n",
       "      <th>0</th>\n",
       "      <td>722.240906</td>\n",
       "      <td>665.259583</td>\n",
       "    </tr>\n",
       "    <tr>\n",
       "      <th>1</th>\n",
       "      <td>716.867126</td>\n",
       "      <td>664.752075</td>\n",
       "    </tr>\n",
       "    <tr>\n",
       "      <th>2</th>\n",
       "      <td>716.550720</td>\n",
       "      <td>664.659180</td>\n",
       "    </tr>\n",
       "    <tr>\n",
       "      <th>3</th>\n",
       "      <td>716.464905</td>\n",
       "      <td>664.541321</td>\n",
       "    </tr>\n",
       "    <tr>\n",
       "      <th>4</th>\n",
       "      <td>716.454468</td>\n",
       "      <td>664.631897</td>\n",
       "    </tr>\n",
       "  </tbody>\n",
       "</table>\n",
       "</div>"
      ],
      "text/plain": [
       "         loss    val_loss\n",
       "0  722.240906  665.259583\n",
       "1  716.867126  664.752075\n",
       "2  716.550720  664.659180\n",
       "3  716.464905  664.541321\n",
       "4  716.454468  664.631897"
      ]
     },
     "metadata": {},
     "output_type": "display_data"
    },
    {
     "name": "stdout",
     "output_type": "stream",
     "text": [
      "Wall time: 18min 24s\n"
     ]
    }
   ],
   "source": [
    "%%time\n",
    "\n",
    "history = model.fit(\n",
    "  x = x_train,\n",
    "  y = y_train,\n",
    "  validation_split=0.1,  # use 10% of the examples as a validation set\n",
    "  batch_size = 1000,\n",
    "  epochs = 5\n",
    ")\n",
    "\n",
    "history = pd.DataFrame(history.history)\n",
    "display(history)"
   ]
  },
  {
   "cell_type": "code",
   "execution_count": 8,
   "metadata": {},
   "outputs": [
    {
     "name": "stdout",
     "output_type": "stream",
     "text": [
      "Epoch 1/5\n",
      "397488/397488 [==============================] - 476s 1ms/step - loss: 713.1429 - val_loss: 664.5854\n",
      "Epoch 2/5\n",
      "397488/397488 [==============================] - 407s 1ms/step - loss: 713.1369 - val_loss: 664.5798\n",
      "Epoch 3/5\n",
      "397488/397488 [==============================] - 409s 1ms/step - loss: 713.1405 - val_loss: 664.6474\n",
      "Epoch 4/5\n",
      "397488/397488 [==============================] - 397s 1000us/step - loss: 713.1459 - val_loss: 664.5449\n",
      "Epoch 5/5\n",
      "397488/397488 [==============================] - 385s 967us/step - loss: 713.1429 - val_loss: 664.6412\n"
     ]
    },
    {
     "data": {
      "text/html": [
       "<div>\n",
       "<style scoped>\n",
       "    .dataframe tbody tr th:only-of-type {\n",
       "        vertical-align: middle;\n",
       "    }\n",
       "\n",
       "    .dataframe tbody tr th {\n",
       "        vertical-align: top;\n",
       "    }\n",
       "\n",
       "    .dataframe thead th {\n",
       "        text-align: right;\n",
       "    }\n",
       "</style>\n",
       "<table border=\"1\" class=\"dataframe\">\n",
       "  <thead>\n",
       "    <tr style=\"text-align: right;\">\n",
       "      <th></th>\n",
       "      <th>loss</th>\n",
       "      <th>val_loss</th>\n",
       "    </tr>\n",
       "  </thead>\n",
       "  <tbody>\n",
       "    <tr>\n",
       "      <th>0</th>\n",
       "      <td>713.142944</td>\n",
       "      <td>664.585388</td>\n",
       "    </tr>\n",
       "    <tr>\n",
       "      <th>1</th>\n",
       "      <td>713.136902</td>\n",
       "      <td>664.579834</td>\n",
       "    </tr>\n",
       "    <tr>\n",
       "      <th>2</th>\n",
       "      <td>713.140503</td>\n",
       "      <td>664.647400</td>\n",
       "    </tr>\n",
       "    <tr>\n",
       "      <th>3</th>\n",
       "      <td>713.145935</td>\n",
       "      <td>664.544861</td>\n",
       "    </tr>\n",
       "    <tr>\n",
       "      <th>4</th>\n",
       "      <td>713.142944</td>\n",
       "      <td>664.641174</td>\n",
       "    </tr>\n",
       "  </tbody>\n",
       "</table>\n",
       "</div>"
      ],
      "text/plain": [
       "         loss    val_loss\n",
       "0  713.142944  664.585388\n",
       "1  713.136902  664.579834\n",
       "2  713.140503  664.647400\n",
       "3  713.145935  664.544861\n",
       "4  713.142944  664.641174"
      ]
     },
     "metadata": {},
     "output_type": "display_data"
    },
    {
     "name": "stdout",
     "output_type": "stream",
     "text": [
      "Wall time: 35min 18s\n"
     ]
    }
   ],
   "source": [
    "%%time\n",
    "\n",
    "history = model.fit(\n",
    "  x = x_train,\n",
    "  y = y_train,\n",
    "  validation_split=0.1,  # use 10% of the examples as a validation set\n",
    "  batch_size = 750,\n",
    "  epochs = 5\n",
    ")\n",
    "\n",
    "history = pd.DataFrame(history.history)\n",
    "display(history)"
   ]
  },
  {
   "cell_type": "code",
   "execution_count": 16,
   "metadata": {},
   "outputs": [
    {
     "name": "stdout",
     "output_type": "stream",
     "text": [
      "Epoch 1/5\n",
      "298116/298116 [==============================] - 252s 748us/step - loss: 716.4370 - val_loss: 664.5810\n",
      "Epoch 2/5\n",
      "298116/298116 [==============================] - 195s 653us/step - loss: 716.4355 - val_loss: 664.5909\n",
      "Epoch 3/5\n",
      "298116/298116 [==============================] - 197s 662us/step - loss: 716.4254 - val_loss: 664.6243\n",
      "Epoch 4/5\n",
      "298116/298116 [==============================] - 195s 654us/step - loss: 716.4287 - val_loss: 664.5421\n",
      "Epoch 5/5\n",
      "298116/298116 [==============================] - 189s 634us/step - loss: 716.4455 - val_loss: 664.6324\n"
     ]
    },
    {
     "data": {
      "text/html": [
       "<div>\n",
       "<style scoped>\n",
       "    .dataframe tbody tr th:only-of-type {\n",
       "        vertical-align: middle;\n",
       "    }\n",
       "\n",
       "    .dataframe tbody tr th {\n",
       "        vertical-align: top;\n",
       "    }\n",
       "\n",
       "    .dataframe thead th {\n",
       "        text-align: right;\n",
       "    }\n",
       "</style>\n",
       "<table border=\"1\" class=\"dataframe\">\n",
       "  <thead>\n",
       "    <tr style=\"text-align: right;\">\n",
       "      <th></th>\n",
       "      <th>loss</th>\n",
       "      <th>val_loss</th>\n",
       "    </tr>\n",
       "  </thead>\n",
       "  <tbody>\n",
       "    <tr>\n",
       "      <th>0</th>\n",
       "      <td>716.437012</td>\n",
       "      <td>664.580994</td>\n",
       "    </tr>\n",
       "    <tr>\n",
       "      <th>1</th>\n",
       "      <td>716.435547</td>\n",
       "      <td>664.590881</td>\n",
       "    </tr>\n",
       "    <tr>\n",
       "      <th>2</th>\n",
       "      <td>716.425354</td>\n",
       "      <td>664.624329</td>\n",
       "    </tr>\n",
       "    <tr>\n",
       "      <th>3</th>\n",
       "      <td>716.428711</td>\n",
       "      <td>664.542114</td>\n",
       "    </tr>\n",
       "    <tr>\n",
       "      <th>4</th>\n",
       "      <td>716.445496</td>\n",
       "      <td>664.632446</td>\n",
       "    </tr>\n",
       "  </tbody>\n",
       "</table>\n",
       "</div>"
      ],
      "text/plain": [
       "         loss    val_loss\n",
       "0  716.437012  664.580994\n",
       "1  716.435547  664.590881\n",
       "2  716.425354  664.624329\n",
       "3  716.428711  664.542114\n",
       "4  716.445496  664.632446"
      ]
     },
     "metadata": {},
     "output_type": "display_data"
    },
    {
     "name": "stdout",
     "output_type": "stream",
     "text": [
      "Wall time: 17min 55s\n"
     ]
    }
   ],
   "source": [
    "%%time\n",
    "\n",
    "history = model.fit(\n",
    "  x = x_train,\n",
    "  y = y_train,\n",
    "  validation_split=0.1,  # use 10% of the examples as a validation set\n",
    "  batch_size = 1000,\n",
    "  epochs = 5\n",
    ")\n",
    "\n",
    "history = pd.DataFrame(history.history)\n",
    "display(history)"
   ]
  },
  {
   "cell_type": "code",
   "execution_count": 17,
   "metadata": {},
   "outputs": [],
   "source": [
    "tf.keras.backend.clear_session()\n",
    "tf.random.set_seed(0)\n",
    "\n",
    "model = tf.keras.Sequential()\n",
    "\n",
    "model.add(tf.keras.layers.Dense(\n",
    "      units=1,                     # output dim\n",
    "      input_shape=[3, ],  # input dim\n",
    "      use_bias=True,               # use a bias (intercept) param\n",
    "      kernel_initializer=tf.ones_initializer,  # initialize params to 1\n",
    "      bias_initializer=tf.ones_initializer,    # initialize bias to 1\n",
    "))\n",
    "\n",
    "optimizer = tf.keras.optimizers.SGD(learning_rate=0.0001)\n",
    "\n",
    "model.compile(loss='mse', optimizer=optimizer)"
   ]
  },
  {
   "cell_type": "code",
   "execution_count": 18,
   "metadata": {},
   "outputs": [
    {
     "name": "stdout",
     "output_type": "stream",
     "text": [
      "Epoch 1/5\n",
      "298116/298116 [==============================] - 253s 752us/step - loss: 787.9128 - val_loss: 677.6419\n",
      "Epoch 2/5\n",
      "298116/298116 [==============================] - 208s 696us/step - loss: 725.4750 - val_loss: 668.5673\n",
      "Epoch 3/5\n",
      "298116/298116 [==============================] - 207s 695us/step - loss: 718.5300 - val_loss: 666.5287\n",
      "Epoch 4/5\n",
      "298116/298116 [==============================] - 204s 685us/step - loss: 716.8142 - val_loss: 666.0115\n",
      "Epoch 5/5\n",
      "298116/298116 [==============================] - 192s 644us/step - loss: 716.1997 - val_loss: 665.8743\n"
     ]
    },
    {
     "data": {
      "text/html": [
       "<div>\n",
       "<style scoped>\n",
       "    .dataframe tbody tr th:only-of-type {\n",
       "        vertical-align: middle;\n",
       "    }\n",
       "\n",
       "    .dataframe tbody tr th {\n",
       "        vertical-align: top;\n",
       "    }\n",
       "\n",
       "    .dataframe thead th {\n",
       "        text-align: right;\n",
       "    }\n",
       "</style>\n",
       "<table border=\"1\" class=\"dataframe\">\n",
       "  <thead>\n",
       "    <tr style=\"text-align: right;\">\n",
       "      <th></th>\n",
       "      <th>loss</th>\n",
       "      <th>val_loss</th>\n",
       "    </tr>\n",
       "  </thead>\n",
       "  <tbody>\n",
       "    <tr>\n",
       "      <th>0</th>\n",
       "      <td>753.713257</td>\n",
       "      <td>677.641907</td>\n",
       "    </tr>\n",
       "    <tr>\n",
       "      <th>1</th>\n",
       "      <td>724.862244</td>\n",
       "      <td>668.567261</td>\n",
       "    </tr>\n",
       "    <tr>\n",
       "      <th>2</th>\n",
       "      <td>719.796143</td>\n",
       "      <td>666.528748</td>\n",
       "    </tr>\n",
       "    <tr>\n",
       "      <th>3</th>\n",
       "      <td>718.471863</td>\n",
       "      <td>666.011475</td>\n",
       "    </tr>\n",
       "    <tr>\n",
       "      <th>4</th>\n",
       "      <td>718.026428</td>\n",
       "      <td>665.874329</td>\n",
       "    </tr>\n",
       "  </tbody>\n",
       "</table>\n",
       "</div>"
      ],
      "text/plain": [
       "         loss    val_loss\n",
       "0  753.713257  677.641907\n",
       "1  724.862244  668.567261\n",
       "2  719.796143  666.528748\n",
       "3  718.471863  666.011475\n",
       "4  718.026428  665.874329"
      ]
     },
     "metadata": {},
     "output_type": "display_data"
    },
    {
     "name": "stdout",
     "output_type": "stream",
     "text": [
      "Wall time: 18min 25s\n"
     ]
    }
   ],
   "source": [
    "%%time\n",
    "\n",
    "history = model.fit(\n",
    "  x = x_train,\n",
    "  y = y_train,\n",
    "  validation_split=0.1,  # use 10% of the examples as a validation set\n",
    "  batch_size = 1000,\n",
    "  epochs = 5\n",
    ")\n",
    "\n",
    "history = pd.DataFrame(history.history)\n",
    "display(history)"
   ]
  },
  {
   "cell_type": "code",
   "execution_count": 12,
   "metadata": {},
   "outputs": [],
   "source": [
    "x_test = np.load('207_data/saved_data/x_test_1500_balanced.npy')\n",
    "x_test = np.reshape(x_test/255, (141960000, 3))\n",
    "y_test = np.load('207_data/saved_data/y_test_1500_balanced.npy').flatten()"
   ]
  },
  {
   "cell_type": "code",
   "execution_count": 13,
   "metadata": {},
   "outputs": [],
   "source": [
    "tf.keras.backend.clear_session()\n",
    "tf.random.set_seed(0)\n",
    "\n",
    "model = tf.keras.Sequential()\n",
    "\n",
    "model.add(tf.keras.layers.Dense(\n",
    "      units=1,                     # output dim\n",
    "      input_shape=[3, ],  # input dim\n",
    "      use_bias=True,               # use a bias (intercept) param\n",
    "      kernel_initializer=tf.ones_initializer,  # initialize params to 1\n",
    "      bias_initializer=tf.ones_initializer,    # initialize bias to 1\n",
    "))\n",
    "\n",
    "optimizer = tf.keras.optimizers.Adam(learning_rate=0.01)\n",
    "\n",
    "model.compile(loss='mse', optimizer=optimizer)"
   ]
  },
  {
   "cell_type": "code",
   "execution_count": 14,
   "metadata": {},
   "outputs": [
    {
     "name": "stdout",
     "output_type": "stream",
     "text": [
      "Epoch 1/5\n",
      "298116/298116 [==============================] - 264s 781us/step - loss: 728.7706 - val_loss: 664.5154\n",
      "Epoch 2/5\n",
      "298116/298116 [==============================] - 200s 670us/step - loss: 714.6126 - val_loss: 664.4692\n",
      "Epoch 3/5\n",
      "298116/298116 [==============================] - 203s 680us/step - loss: 714.5714 - val_loss: 665.0229\n",
      "Epoch 4/5\n",
      "298116/298116 [==============================] - 221s 743us/step - loss: 714.6198 - val_loss: 664.5200\n",
      "Epoch 5/5\n",
      "298116/298116 [==============================] - 195s 654us/step - loss: 714.5552 - val_loss: 664.7070\n"
     ]
    },
    {
     "data": {
      "text/html": [
       "<div>\n",
       "<style scoped>\n",
       "    .dataframe tbody tr th:only-of-type {\n",
       "        vertical-align: middle;\n",
       "    }\n",
       "\n",
       "    .dataframe tbody tr th {\n",
       "        vertical-align: top;\n",
       "    }\n",
       "\n",
       "    .dataframe thead th {\n",
       "        text-align: right;\n",
       "    }\n",
       "</style>\n",
       "<table border=\"1\" class=\"dataframe\">\n",
       "  <thead>\n",
       "    <tr style=\"text-align: right;\">\n",
       "      <th></th>\n",
       "      <th>loss</th>\n",
       "      <th>val_loss</th>\n",
       "    </tr>\n",
       "  </thead>\n",
       "  <tbody>\n",
       "    <tr>\n",
       "      <th>0</th>\n",
       "      <td>719.187439</td>\n",
       "      <td>664.515442</td>\n",
       "    </tr>\n",
       "    <tr>\n",
       "      <th>1</th>\n",
       "      <td>716.452881</td>\n",
       "      <td>664.469238</td>\n",
       "    </tr>\n",
       "    <tr>\n",
       "      <th>2</th>\n",
       "      <td>716.439331</td>\n",
       "      <td>665.022949</td>\n",
       "    </tr>\n",
       "    <tr>\n",
       "      <th>3</th>\n",
       "      <td>716.442688</td>\n",
       "      <td>664.520020</td>\n",
       "    </tr>\n",
       "    <tr>\n",
       "      <th>4</th>\n",
       "      <td>716.454224</td>\n",
       "      <td>664.706970</td>\n",
       "    </tr>\n",
       "  </tbody>\n",
       "</table>\n",
       "</div>"
      ],
      "text/plain": [
       "         loss    val_loss\n",
       "0  719.187439  664.515442\n",
       "1  716.452881  664.469238\n",
       "2  716.439331  665.022949\n",
       "3  716.442688  664.520020\n",
       "4  716.454224  664.706970"
      ]
     },
     "metadata": {},
     "output_type": "display_data"
    },
    {
     "name": "stdout",
     "output_type": "stream",
     "text": [
      "Wall time: 18min 56s\n"
     ]
    }
   ],
   "source": [
    "%%time\n",
    "\n",
    "history = model.fit(\n",
    "  x = x_train,\n",
    "  y = y_train,\n",
    "  validation_split=0.1,  # use 10% of the examples as a validation set\n",
    "  batch_size = 1000,\n",
    "  epochs = 5\n",
    ")\n",
    "\n",
    "history = pd.DataFrame(history.history)\n",
    "display(history)"
   ]
  },
  {
   "cell_type": "code",
   "execution_count": 16,
   "metadata": {},
   "outputs": [],
   "source": [
    "# calculate mse\n",
    "\n",
    "def calculate_mse(y_pred, y_true):\n",
    "\n",
    "    mse = np.array([])\n",
    "\n",
    "    y_pred_im = np.reshape(y_pred, (y_true.shape[0], 94640))\n",
    "    y_true_im = np.reshape(y_true,  (y_true.shape[0], 94640))\n",
    "\n",
    "    for i in range(y_pred_im.shape[0]):\n",
    "\n",
    "        image_pred = y_pred_im[i]\n",
    "        image_true = y_true_im[i]\n",
    "        diff = np.subtract(image_true, image_pred)\n",
    "        se = np.square(diff)\n",
    "        mse_im = np.average(se)\n",
    "\n",
    "        mse = np.append(mse, mse_im)\n",
    "    \n",
    "    mse_overall = np.average(mse)\n",
    "    return mse_overall"
   ]
  },
  {
   "cell_type": "code",
   "execution_count": 17,
   "metadata": {},
   "outputs": [],
   "source": [
    "# calculate mae \n",
    "\n",
    "def calculate_mae(y_pred, y_true):\n",
    "\n",
    "    mae = np.array([])\n",
    "\n",
    "    y_pred_im = np.reshape(y_pred, (y_true.shape[0], 94640))\n",
    "    y_true_im = np.reshape(y_true,  (y_true.shape[0], 94640))\n",
    "\n",
    "    for i in range(y_pred_im.shape[0]):\n",
    "\n",
    "        image_pred = y_pred_im[i]\n",
    "        image_true = y_true_im[i]\n",
    "\n",
    "        mae_for_image = np.average(np.abs(np.subtract(image_true, image_pred)))\n",
    "\n",
    "    mae = np.append(mae, mae_for_image)\n",
    "\n",
    "    mae_overall = np.average(mae)\n",
    "\n",
    "    return mae_overall"
   ]
  },
  {
   "cell_type": "code",
   "execution_count": 18,
   "metadata": {},
   "outputs": [],
   "source": [
    "# calculate r2\n",
    "\n",
    "def calculate_r2(y_pred, y_true):\n",
    "\n",
    "    r2_overall = r2_score(y_true, y_pred)\n",
    "    \n",
    "    return r2_overall"
   ]
  },
  {
   "cell_type": "code",
   "execution_count": 19,
   "metadata": {},
   "outputs": [],
   "source": [
    "y_train_as_im = np.load('207_data/saved_data/y_train_3500_balanced.npy')\n",
    "y_test_as_im = np.load('207_data/saved_data/y_test_1500_balanced.npy')"
   ]
  },
  {
   "cell_type": "code",
   "execution_count": 20,
   "metadata": {},
   "outputs": [
    {
     "name": "stdout",
     "output_type": "stream",
     "text": [
      "Training MSE 708.4352169378852\n",
      "Training RMSE:  26.6164463619373\n",
      "Training MAE:  10.564956079180323\n",
      "Training R2:  0.3915841896408623\n"
     ]
    }
   ],
   "source": [
    "y_pred = model.predict(x_train)\n",
    "\n",
    "mse = calculate_mse(y_pred, y_train_as_im)\n",
    "rmse = np.sqrt(mse)\n",
    "mae = calculate_mae(y_pred, y_train_as_im)\n",
    "r2 = calculate_r2(y_pred, y_train)\n",
    "\n",
    "print(\"Training MSE\", mse)\n",
    "print(\"Training RMSE: \", rmse)\n",
    "print(\"Training MAE: \", mae)\n",
    "print(\"Training R2: \", r2)"
   ]
  },
  {
   "cell_type": "code",
   "execution_count": 22,
   "metadata": {},
   "outputs": [
    {
     "name": "stdout",
     "output_type": "stream",
     "text": [
      "Testing MSE 669.0731135799236\n",
      "Testing RMSE:  25.866447641296315\n",
      "Testing MAE:  13.18406657281057\n",
      "Testing R2:  0.3980704267665156\n"
     ]
    }
   ],
   "source": [
    "y_pred_ts = model.predict(x_test)\n",
    "\n",
    "mse = calculate_mse(y_pred_ts, y_test_as_im)\n",
    "rmse = np.sqrt(mse)\n",
    "mae = calculate_mae(y_pred_ts, y_test_as_im)\n",
    "r2 = calculate_r2(y_pred_ts, y_test)\n",
    "\n",
    "print(\"Testing MSE\", mse)\n",
    "print(\"Testing RMSE: \", rmse)\n",
    "print(\"Testing MAE: \", mae)\n",
    "print(\"Testing R2: \", r2)"
   ]
  },
  {
   "cell_type": "code",
   "execution_count": null,
   "metadata": {},
   "outputs": [],
   "source": []
  }
 ],
 "metadata": {
  "kernelspec": {
   "display_name": "Python 3",
   "language": "python",
   "name": "python3"
  },
  "language_info": {
   "codemirror_mode": {
    "name": "ipython",
    "version": 3
   },
   "file_extension": ".py",
   "mimetype": "text/x-python",
   "name": "python",
   "nbconvert_exporter": "python",
   "pygments_lexer": "ipython3",
   "version": "3.8.5"
  }
 },
 "nbformat": 4,
 "nbformat_minor": 4
}
