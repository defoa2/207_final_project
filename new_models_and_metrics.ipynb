{
 "cells": [
  {
   "cell_type": "markdown",
   "metadata": {},
   "source": [
    "# import"
   ]
  },
  {
   "cell_type": "code",
   "execution_count": null,
   "metadata": {},
   "outputs": [],
   "source": [
    "import numpy as np\n",
    "import matplotlib.pyplot as plt\n",
    "from PIL import Image\n",
    "import requests\n",
    "import os\n",
    "import pandas as pd\n",
    "import seaborn as sns\n",
    "import pickle\n",
    "\n",
    "import tensorflow as tf\n",
    "from tensorflow import keras\n",
    "from keras import metrics\n",
    "\n",
    "\n",
    "from sklearn import tree\n",
    "from sklearn.tree import DecisionTreeRegressor\n",
    "from sklearn.metrics import mean_squared_error"
   ]
  },
  {
   "cell_type": "markdown",
   "metadata": {},
   "source": [
    "# models"
   ]
  },
  {
   "cell_type": "code",
   "execution_count": null,
   "metadata": {},
   "outputs": [],
   "source": [
    "# build regression model\n",
    "\n",
    "def build_mod_lin_reg_optimizer():\n",
    "  tf.keras.backend.clear_session()\n",
    "  tf.random.set_seed(0)\n",
    "\n",
    "  model = tf.keras.Sequential()\n",
    "\n",
    "  model.add(tf.keras.layers.Dense(\n",
    "      units=1,                     # output dim\n",
    "      input_shape=[3, ],  # input dim\n",
    "      use_bias=True,               # use a bias (intercept) param\n",
    "      kernel_initializer=tf.ones_initializer,  # initialize params to 1\n",
    "      bias_initializer=tf.ones_initializer,    # initialize bias to 1\n",
    "  ))\n",
    "\n",
    "  optimizer = tf.keras.optimizers.SGD(learning_rate=0.001)\n",
    "\n",
    "  model.compile(loss='mse', optimizer=optimizer)\n",
    "  return model"
   ]
  },
  {
   "cell_type": "code",
   "execution_count": null,
   "metadata": {},
   "outputs": [],
   "source": [
    "def build_mod_lin_reg():\n",
    "  tf.keras.backend.clear_session()\n",
    "  tf.random.set_seed(0)\n",
    "\n",
    "  model = tf.keras.Sequential()\n",
    "\n",
    "  model.add(tf.keras.layers.Dense(\n",
    "      units=1,                     # output dim\n",
    "      input_shape=[3, ],  # input dim\n",
    "      use_bias=True,               # use a bias (intercept) param\n",
    "      kernel_initializer=tf.ones_initializer,  # initialize params to 1\n",
    "      bias_initializer=tf.ones_initializer,    # initialize bias to 1\n",
    "  ))\n",
    "\n",
    "#   optimizer = tf.keras.optimizers.SGD(learning_rate=0.001)\n",
    "\n",
    "  model.compile(loss='mse')\n",
    "  return model"
   ]
  },
  {
   "cell_type": "code",
   "execution_count": null,
   "metadata": {},
   "outputs": [],
   "source": [
    "# build decision tree regression\n",
    "def build_dt_mod():\n",
    "  \"\"\"\n",
    "  build a regression tree\n",
    "  \"\"\"\n",
    "\n",
    "  regressor = DecisionTreeRegressor(max_depth = 10, random_state=0)\n",
    "\n",
    "  return regressor"
   ]
  },
  {
   "cell_type": "code",
   "execution_count": null,
   "metadata": {},
   "outputs": [],
   "source": [
    "# build ANN\n",
    "\n",
    "def build_ann_optimizer():\n",
    "    \"\"\"\n",
    "    add hidden layer to regression model\n",
    "    \"\"\"\n",
    "\n",
    "    tf.keras.backend.clear_session()\n",
    "    tf.random.set_seed(0)\n",
    "\n",
    "    model = tf.keras.Sequential()\n",
    "\n",
    "    # Input layer\n",
    "    model.add(tf.keras.layers.Dense(\n",
    "        units=3,                      # Number of neurons in the hidden layer\n",
    "        input_shape=(3,),             # Input dimension\n",
    "        activation='relu'             # Activation function (e.g., 'relu')\n",
    "    ))\n",
    "    model.add(tf.keras.layers.Dense(\n",
    "        units = 2,\n",
    "        activation = 'relu'\n",
    "    ))\n",
    "\n",
    "    # Output layer\n",
    "    model.add(tf.keras.layers.Dense(\n",
    "        units=1,                      # Output dimension (1 for regression)\n",
    "        activation='linear'           # Linear activation for regression\n",
    "    ))\n",
    "\n",
    "    optimizer = tf.keras.optimizers.SGD(learning_rate=0.001)\n",
    "\n",
    "    model.compile(loss='mse', optimizer=optimizer)\n",
    "    return model\n",
    "\n"
   ]
  },
  {
   "cell_type": "code",
   "execution_count": null,
   "metadata": {},
   "outputs": [],
   "source": [
    "def build_ann():\n",
    "    \"\"\"\n",
    "    add hidden layer to regression model\n",
    "    \"\"\"\n",
    "\n",
    "    tf.keras.backend.clear_session()\n",
    "    tf.random.set_seed(0)\n",
    "\n",
    "    model = tf.keras.Sequential()\n",
    "\n",
    "    # Input layer\n",
    "    model.add(tf.keras.layers.Dense(\n",
    "        units=3,                      # Number of neurons in the hidden layer\n",
    "        input_shape=(3,),             # Input dimension\n",
    "        activation='relu'             # Activation function (e.g., 'relu')\n",
    "    ))\n",
    "    model.add(tf.keras.layers.Dense(\n",
    "        units = 2,\n",
    "        activation = 'relu'\n",
    "    ))\n",
    "\n",
    "    # Output layer\n",
    "    model.add(tf.keras.layers.Dense(\n",
    "        units=1,                      # Output dimension (1 for regression)\n",
    "        activation='linear'           # Linear activation for regression\n",
    "    ))\n",
    "\n",
    "#     optimizer = tf.keras.optimizers.SGD(learning_rate=0.001)\n",
    "\n",
    "    model.compile(loss='mse')\n",
    "    return model"
   ]
  },
  {
   "cell_type": "markdown",
   "metadata": {},
   "source": [
    "# metrics"
   ]
  },
  {
   "cell_type": "code",
   "execution_count": null,
   "metadata": {},
   "outputs": [],
   "source": [
    "# calculate mae \n",
    "\n",
    "def calculate_mae(y_pred, y_true):\n",
    "\n",
    "  mae = np.array([])\n",
    "\n",
    "  for i in range(y_pred.shape[0]):\n",
    "\n",
    "    flatten_pred = np.reshape(y_pred[i], (94640))\n",
    "    flatten_true = np.reshape(y_true[i], (94640))\n",
    "\n",
    "    mae_for_image = np.average(np.abs(np.subtract(flatten_true, flatten_pred)))\n",
    "\n",
    "    mae = np.append(mae, mae_for_image)\n",
    "\n",
    "  mae_overall = np.average(mae)\n",
    "\n",
    "  return mae_overall"
   ]
  },
  {
   "cell_type": "code",
   "execution_count": null,
   "metadata": {},
   "outputs": [],
   "source": [
    "# calculate r2\n",
    "\n",
    "def calculate_r2(y_pred, y_true):\n",
    "\n",
    "  r2 = np.array([])\n",
    "\n",
    "  for i in range(y_pred.shape[0]):\n",
    "\n",
    "    flatten_pred = np.reshape(y_pred[i], (94640))\n",
    "    flatten_true = np.reshape(y_true[i], (94640))\n",
    "\n",
    "    r2_for_image = metrics.r2_score(flatten_true, flatten_pred)\n",
    "\n",
    "    r2 = np.append(r2, r2_for_image)\n",
    "\n",
    "  r2_overall = np.average(r2)"
   ]
  },
  {
   "cell_type": "code",
   "execution_count": null,
   "metadata": {},
   "outputs": [],
   "source": [
    "# calculate mse\n",
    "\n",
    "def calculate_mse(y_pred, y_true):\n",
    "\n",
    "  mse = np.array([])\n",
    "\n",
    "  for i in range(y_pred.shape[0]):\n",
    "\n",
    "    flatten_pred = np.reshape(y_pred[i], (94640))\n",
    "    flatten_true = np.reshape(y_true[i], (94640))\n",
    "\n",
    "    mse_for_image = np.average(np.square(np.subtract(flatten_true, flatten_pred)))\n",
    "\n",
    "    mse = np.append(mse, mse_for_image)\n",
    "\n",
    "  mse_overall = np.average(mse)\n",
    "\n",
    "  return mse_overall"
   ]
  },
  {
   "cell_type": "markdown",
   "metadata": {},
   "source": [
    "# building models"
   ]
  },
  {
   "cell_type": "code",
   "execution_count": null,
   "metadata": {},
   "outputs": [],
   "source": [
    "# import train and test data\n",
    "x_train = np.load('207_data/saved_data/x_train_3500_balanced.npy')\n",
    "y_train = np.load('207_data/saved_data/y_train_3500_balanced.npy')\n",
    "\n",
    "x_test = np.load('207_data/saved_data/x_test_1500_balanced.npy')\n",
    "y_test = np.load('207_data/saved_data/y_test_1500_balanced.npy')"
   ]
  },
  {
   "cell_type": "code",
   "execution_count": null,
   "metadata": {},
   "outputs": [],
   "source": [
    "# shape train and test data so each pixel is one row\n",
    "x_train_flat = np.reshape(x_train/255, (331240000, 3))\n",
    "y_train_flat = y_train.flatten()\n",
    "\n",
    "x_test_flat = np.reshape(x_test/255, (141960000, 3))\n",
    "y_test_flat = y_test.flatten()"
   ]
  },
  {
   "cell_type": "code",
   "execution_count": null,
   "metadata": {},
   "outputs": [],
   "source": [
    "# training a model\n",
    "model = # call some model function here\n",
    "\n",
    "history = model.fit(\n",
    "  x = x_train_flat,\n",
    "  y = y_train_flat\n",
    "  )\n",
    "\n",
    "history = pd.DataFrame(history.history)\n",
    "display(history)"
   ]
  },
  {
   "cell_type": "code",
   "execution_count": null,
   "metadata": {},
   "outputs": [],
   "source": [
    "# loading in a saved model\n",
    "lin_reg_mod.load_weights(# load in the saved parameters for the model)"
   ]
  },
  {
   "cell_type": "code",
   "execution_count": null,
   "metadata": {},
   "outputs": [],
   "source": [
    "mse = history.iloc[0][0]\n",
    "rmse = np.sqrt(mse)\n",
    "\n",
    "y_pred_tr = model.predict(x_train_flat)\n",
    "\n",
    "mae = calculate_mae(y_pred_tr, y_train_flat)\n",
    "r2 = calculate_r2(y_pred_tr, y_train_flat)\n",
    "\n",
    "print(\"Training RMSE: \", rmse)\n",
    "print(\"Training MAE: \", mae)\n",
    "print(\"Training R2: \", r2)"
   ]
  },
  {
   "cell_type": "code",
   "execution_count": null,
   "metadata": {},
   "outputs": [],
   "source": [
    "test_mse = lin_reg_mod.evaluate(x_test_flat, y_test_flat)"
   ]
  },
  {
   "cell_type": "code",
   "execution_count": null,
   "metadata": {},
   "outputs": [],
   "source": []
  }
 ],
 "metadata": {
  "kernelspec": {
   "display_name": "Python 3",
   "language": "python",
   "name": "python3"
  },
  "language_info": {
   "codemirror_mode": {
    "name": "ipython",
    "version": 3
   },
   "file_extension": ".py",
   "mimetype": "text/x-python",
   "name": "python",
   "nbconvert_exporter": "python",
   "pygments_lexer": "ipython3",
   "version": "3.8.5"
  }
 },
 "nbformat": 4,
 "nbformat_minor": 4
}
