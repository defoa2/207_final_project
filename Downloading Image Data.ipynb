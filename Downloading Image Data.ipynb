{
 "cells": [
  {
   "cell_type": "markdown",
   "metadata": {},
   "source": [
    "# Import libraries"
   ]
  },
  {
   "cell_type": "code",
   "execution_count": null,
   "metadata": {},
   "outputs": [],
   "source": [
    "import numpy as np\n",
    "import matplotlib.pyplot as plt\n",
    "from PIL import Image\n",
    "import requests\n",
    "import os\n",
    "import time"
   ]
  },
  {
   "cell_type": "markdown",
   "metadata": {},
   "source": [
    "# Download Image Data"
   ]
  },
  {
   "cell_type": "code",
   "execution_count": null,
   "metadata": {},
   "outputs": [],
   "source": [
    "# create lists for all dates\n",
    "years = np.arange(1980, 2024)\n",
    "months = {'Jan':'01', 'Feb':'02', 'Mar':'03', 'Apr':'04', 'May':'05', 'Jun':'06', 'Jul':'07', 'Aug':'08', 'Sep':'09', 'Oct':'10', 'Nov':'11', 'Dec':'12'}\n",
    "days = [f'{i:02d}' for i in np.arange(1, 32)]"
   ]
  },
  {
   "cell_type": "code",
   "execution_count": null,
   "metadata": {},
   "outputs": [],
   "source": [
    "def download_images(years, months, days):\n",
    "  url = 'https://noaadata.apps.nsidc.org/NOAA/G02135/north/daily/images/'\n",
    "\n",
    "  for year in years:\n",
    "    path = # add path to local directory folder here\n",
    "    path_yr = os.path.join(path, str(year))\n",
    "    if os.path.exists(path_yr) == False:\n",
    "      os.mkdir(path_yr)\n",
    "    for month in months:\n",
    "      url_mth = f\"{url}{year}/{months[month]}_{month}/\"\n",
    "      get_code = requests.get(url_mth)\n",
    "      if get_code.status_code == 200:\n",
    "        path_mth = os.path.join(path_yr, month)\n",
    "        if os.path.exists(path_mth) == False:\n",
    "          os.mkdir(path_mth)\n",
    "        for day in days:\n",
    "          im_name = f\"{year}_{int(months[month])}_{int(day)}.png\"\n",
    "          path_day = os.path.join(path_mth, im_name)\n",
    "          if os.path.isfile(path_day) == False:\n",
    "            url_day = f\"{url_mth}N_{year}{months[month]}{day}_conc_blmrbl_v3.0.png\"\n",
    "            get_code = requests.get(url_day)\n",
    "            if get_code.status_code == 200:\n",
    "              im_name = f\"{year}_{int(months[month])}_{int(day)}.png\"\n",
    "              path_day = os.path.join(path_mth, im_name)\n",
    "              im = Image.open(requests.get(url_day, stream = True).raw)\n",
    "              im.save(path_day)\n",
    "              time.sleep(1) # add 1 second delay so the website doesn't prevent you from downloading the images"
   ]
  },
  {
   "cell_type": "code",
   "execution_count": null,
   "metadata": {},
   "outputs": [],
   "source": [
    "download_images(years, months, days)"
   ]
  }
 ],
 "metadata": {
  "kernelspec": {
   "display_name": "Python 3",
   "language": "python",
   "name": "python3"
  },
  "language_info": {
   "codemirror_mode": {
    "name": "ipython",
    "version": 3
   },
   "file_extension": ".py",
   "mimetype": "text/x-python",
   "name": "python",
   "nbconvert_exporter": "python",
   "pygments_lexer": "ipython3",
   "version": "3.8.5"
  }
 },
 "nbformat": 4,
 "nbformat_minor": 4
}
