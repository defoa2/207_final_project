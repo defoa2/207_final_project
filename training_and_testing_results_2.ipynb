{
 "cells": [
  {
   "cell_type": "code",
   "execution_count": 28,
   "metadata": {},
   "outputs": [],
   "source": [
    "import numpy as np\n",
    "import matplotlib.pyplot as plt\n",
    "import pandas as pd\n",
    "import random\n",
    "\n",
    "import tensorflow as tf\n",
    "from tensorflow import keras\n",
    "from keras import metrics\n",
    "\n",
    "\n",
    "from sklearn import tree\n",
    "from sklearn.tree import DecisionTreeRegressor\n",
    "from sklearn.experimental import enable_hist_gradient_boosting\n",
    "from sklearn.ensemble import HistGradientBoostingRegressor\n",
    "from sklearn.ensemble import BaggingRegressor\n",
    "from sklearn.metrics import mean_squared_error\n",
    "from sklearn.metrics import mean_absolute_error\n",
    "from sklearn.metrics import r2_score"
   ]
  },
  {
   "cell_type": "code",
   "execution_count": 2,
   "metadata": {},
   "outputs": [],
   "source": [
    "# calculate mse\n",
    "\n",
    "def calculate_mse(y_pred, y_true):\n",
    "\n",
    "    mse = np.array([])\n",
    "\n",
    "    y_pred_im = np.reshape(y_pred, (y_true.shape[0], 94640))\n",
    "    y_true_im = np.reshape(y_true,  (y_true.shape[0], 94640))\n",
    "\n",
    "    for i in range(y_pred_im.shape[0]):\n",
    "\n",
    "        image_pred = y_pred_im[i]\n",
    "        image_true = y_true_im[i]\n",
    "        diff = np.subtract(image_true, image_pred)\n",
    "        se = np.square(diff)\n",
    "        mse_im = np.average(se)\n",
    "\n",
    "        mse = np.append(mse, mse_im)\n",
    "    \n",
    "    mse_overall = np.average(mse)\n",
    "    return mse_overall"
   ]
  },
  {
   "cell_type": "code",
   "execution_count": 3,
   "metadata": {},
   "outputs": [],
   "source": [
    "# calculate mae \n",
    "\n",
    "def calculate_mae(y_pred, y_true):\n",
    "\n",
    "    mae = np.array([])\n",
    "\n",
    "    y_pred_im = np.reshape(y_pred, (y_true.shape[0], 94640))\n",
    "    y_true_im = np.reshape(y_true,  (y_true.shape[0], 94640))\n",
    "\n",
    "    for i in range(y_pred_im.shape[0]):\n",
    "\n",
    "        image_pred = y_pred_im[i]\n",
    "        image_true = y_true_im[i]\n",
    "\n",
    "        mae_for_image = np.average(np.abs(np.subtract(image_true, image_pred)))\n",
    "\n",
    "    mae = np.append(mae, mae_for_image)\n",
    "\n",
    "    mae_overall = np.average(mae)\n",
    "\n",
    "    return mae_overall"
   ]
  },
  {
   "cell_type": "code",
   "execution_count": 4,
   "metadata": {},
   "outputs": [],
   "source": [
    "# calculate r2\n",
    "\n",
    "def calculate_r2(y_pred, y_true):\n",
    "\n",
    "    r2_overall = r2_score(y_true, y_pred)\n",
    "    \n",
    "    return r2_overall"
   ]
  },
  {
   "cell_type": "code",
   "execution_count": 6,
   "metadata": {},
   "outputs": [],
   "source": [
    "x_train_all = np.load('207_data/saved_data/x_train_3500_balanced.npy')\n",
    "y_train_all = np.load('207_data/saved_data/y_train_3500_balanced.npy')\n",
    "\n",
    "rows_id = random.sample(range(0, 3500), 350)\n",
    "all_rows = np.arange(0, 3500)\n",
    "\n",
    "train_rows_id = np.delete(all_rows, rows_id)\n",
    "\n",
    "x_train = x_train_all[train_rows_id, :, :]\n",
    "y_train_as_im = y_train_all[train_rows_id, :, :]\n",
    "\n",
    "x_train = np.reshape(x_train/255, (298116000, 3))\n",
    "y_train = y_train_as_im.flatten()"
   ]
  },
  {
   "cell_type": "code",
   "execution_count": 7,
   "metadata": {},
   "outputs": [],
   "source": [
    "x_test = np.load('207_data/saved_data/x_test_1500_balanced.npy')\n",
    "x_test = np.reshape(x_test/255, (141960000, 3))\n",
    "y_test_as_im = np.load('207_data/saved_data/y_test_1500_balanced.npy')\n",
    "y_test = y_test_as_im.flatten()"
   ]
  },
  {
   "cell_type": "code",
   "execution_count": 9,
   "metadata": {},
   "outputs": [],
   "source": [
    "x_train_seq_all = np.load('207_data/saved_data/x_train_sequential_pixel.npy')\n",
    "y_train_seq_all = np.load('207_data/saved_data/y_train_sequential.npy').flatten()\n",
    "\n",
    "x_test_seq = np.load('207_data/saved_data/x_test_sequential_pixel.npy')\n",
    "y_test_seq = np.load('207_data/saved_data/y_test_sequential.npy').flatten()"
   ]
  },
  {
   "cell_type": "code",
   "execution_count": 10,
   "metadata": {},
   "outputs": [],
   "source": [
    "seq_train_rows = random.sample(range(0, 85176000), 8517600)\n",
    "\n",
    "x_train_seq = x_train_seq_all[seq_train_rows, :]\n",
    "y_train_seq = y_train_seq_all[seq_train_rows]"
   ]
  },
  {
   "cell_type": "code",
   "execution_count": 11,
   "metadata": {},
   "outputs": [
    {
     "name": "stdout",
     "output_type": "stream",
     "text": [
      "(8517600, 4, 3) (8517600,)\n"
     ]
    }
   ],
   "source": [
    "print(x_train_seq.shape, y_train_seq.shape)"
   ]
  },
  {
   "cell_type": "code",
   "execution_count": 12,
   "metadata": {},
   "outputs": [
    {
     "name": "stdout",
     "output_type": "stream",
     "text": [
      "Wall time: 28min 17s\n"
     ]
    }
   ],
   "source": [
    "%%time\n",
    "grad_mod = HistGradientBoostingRegressor(learning_rate = 1, max_depth = 50,\n",
    "                                         min_samples_leaf = 20, max_iter = 50, verbose = 0).fit(x_train, y_train)"
   ]
  },
  {
   "cell_type": "code",
   "execution_count": 13,
   "metadata": {},
   "outputs": [
    {
     "name": "stdout",
     "output_type": "stream",
     "text": [
      "Training MSE 137.24708672898618\n",
      "Training RMSE:  11.715250177823185\n",
      "Training MAE:  2.455432161247555\n",
      "Training R2:  0.8825065303500381\n"
     ]
    }
   ],
   "source": [
    "y_pred = grad_mod.predict(x_train)\n",
    "\n",
    "mse = calculate_mse(y_pred, y_train_as_im)\n",
    "rmse = np.sqrt(mse)\n",
    "mae = calculate_mae(y_pred, y_train_as_im)\n",
    "r2 = calculate_r2(y_pred, y_train)\n",
    "\n",
    "print(\"Training MSE\", mse)\n",
    "print(\"Training RMSE: \", rmse)\n",
    "print(\"Training MAE: \", mae)\n",
    "print(\"Training R2: \", r2)"
   ]
  },
  {
   "cell_type": "code",
   "execution_count": 14,
   "metadata": {},
   "outputs": [
    {
     "name": "stdout",
     "output_type": "stream",
     "text": [
      "Testing MSE 107.588253183262\n",
      "Testing RMSE:  10.372475749948128\n",
      "Testing MAE:  3.645828556415575\n",
      "Testing R2:  0.9032085582141669\n"
     ]
    }
   ],
   "source": [
    "y_pred_ts = grad_mod.predict(x_test)\n",
    "\n",
    "mse = calculate_mse(y_pred_ts, y_test_as_im)\n",
    "rmse = np.sqrt(mse)\n",
    "mae = calculate_mae(y_pred_ts, y_test_as_im)\n",
    "r2 = calculate_r2(y_pred_ts, y_test)\n",
    "\n",
    "print(\"Testing MSE\", mse)\n",
    "print(\"Testing RMSE: \", rmse)\n",
    "print(\"Testing MAE: \", mae)\n",
    "print(\"Testing R2: \", r2)"
   ]
  },
  {
   "cell_type": "code",
   "execution_count": 15,
   "metadata": {},
   "outputs": [
    {
     "name": "stdout",
     "output_type": "stream",
     "text": [
      "Wall time: 17min 42s\n"
     ]
    }
   ],
   "source": [
    "%%time\n",
    "tree_mod = DecisionTreeRegressor(max_depth = 50, min_samples_leaf = 1, random_state = 0).fit(x_train, y_train)"
   ]
  },
  {
   "cell_type": "code",
   "execution_count": 16,
   "metadata": {},
   "outputs": [
    {
     "name": "stdout",
     "output_type": "stream",
     "text": [
      "Training MSE 135.9842729056451\n",
      "Training RMSE:  11.66122947658801\n",
      "Training MAE:  2.5232251129537704\n",
      "Training R2:  0.8835875906563992\n"
     ]
    }
   ],
   "source": [
    "y_pred = tree_mod.predict(x_train)\n",
    "\n",
    "mse = calculate_mse(y_pred, y_train_as_im)\n",
    "rmse = np.sqrt(mse)\n",
    "mae = calculate_mae(y_pred, y_train_as_im)\n",
    "r2 = calculate_r2(y_pred, y_train)\n",
    "\n",
    "print(\"Training MSE\", mse)\n",
    "print(\"Training RMSE: \", rmse)\n",
    "print(\"Training MAE: \", mae)\n",
    "print(\"Training R2: \", r2)"
   ]
  },
  {
   "cell_type": "code",
   "execution_count": 17,
   "metadata": {},
   "outputs": [
    {
     "name": "stdout",
     "output_type": "stream",
     "text": [
      "Testing MSE 106.99605463849102\n",
      "Testing RMSE:  10.343889724783951\n",
      "Testing MAE:  3.6332071157727848\n",
      "Testing R2:  0.9037413278175013\n"
     ]
    }
   ],
   "source": [
    "y_pred_ts = tree_mod.predict(x_test)\n",
    "\n",
    "mse = calculate_mse(y_pred_ts, y_test_as_im)\n",
    "rmse = np.sqrt(mse)\n",
    "mae = calculate_mae(y_pred_ts, y_test_as_im)\n",
    "r2 = calculate_r2(y_pred_ts, y_test)\n",
    "\n",
    "print(\"Testing MSE\", mse)\n",
    "print(\"Testing RMSE: \", rmse)\n",
    "print(\"Testing MAE: \", mae)\n",
    "print(\"Testing R2: \", r2)"
   ]
  },
  {
   "cell_type": "code",
   "execution_count": 18,
   "metadata": {},
   "outputs": [
    {
     "name": "stdout",
     "output_type": "stream",
     "text": [
      "Model: \"sequential\"\n",
      "_________________________________________________________________\n",
      "Layer (type)                 Output Shape              Param #   \n",
      "=================================================================\n",
      "simple_rnn (SimpleRNN)       (None, 150)               23100     \n",
      "_________________________________________________________________\n",
      "dense (Dense)                (None, 10)                1510      \n",
      "_________________________________________________________________\n",
      "dense_1 (Dense)              (None, 1)                 11        \n",
      "=================================================================\n",
      "Total params: 24,621\n",
      "Trainable params: 24,621\n",
      "Non-trainable params: 0\n",
      "_________________________________________________________________\n"
     ]
    }
   ],
   "source": [
    "tf.keras.backend.clear_session()\n",
    "tf.random.set_seed(0)\n",
    "np.random.seed(0)\n",
    "\n",
    "rnn_model = tf.keras.Sequential()\n",
    "\n",
    "    # Input layer\n",
    "rnn_model.add(tf.keras.layers.SimpleRNN(\n",
    "        units=150,                      # Number of neurons in the hidden layer\n",
    "        input_shape=(4,3),             # Input dimension\n",
    "        activation='tanh'             # Activation function (e.g., 'relu')\n",
    "    ))\n",
    "rnn_model.add(tf.keras.layers.Dense(\n",
    "    units = 10,\n",
    "    activation = 'relu'\n",
    "))\n",
    "\n",
    "    # Output layer\n",
    "rnn_model.add(tf.keras.layers.Dense(\n",
    "    units=1,                      # Output dimension (1 for regression)\n",
    "    activation='linear'           # Linear activation for regression\n",
    "))\n",
    "\n",
    "optimizer = tf.keras.optimizers.Adam(learning_rate=0.0001)\n",
    "\n",
    "rnn_model.compile(loss='mse', optimizer=optimizer)\n",
    "rnn_model.summary()"
   ]
  },
  {
   "cell_type": "code",
   "execution_count": 19,
   "metadata": {},
   "outputs": [
    {
     "name": "stdout",
     "output_type": "stream",
     "text": [
      "Epoch 1/3\n",
      "153317/153317 [==============================] - 1050s 7ms/step - loss: 165.6143 - val_loss: 92.5342\n",
      "Epoch 2/3\n",
      "153317/153317 [==============================] - 1040s 7ms/step - loss: 115.4506 - val_loss: 83.5824\n",
      "Epoch 3/3\n",
      "153317/153317 [==============================] - 1044s 7ms/step - loss: 114.9425 - val_loss: 83.8908\n"
     ]
    },
    {
     "data": {
      "text/html": [
       "<div>\n",
       "<style scoped>\n",
       "    .dataframe tbody tr th:only-of-type {\n",
       "        vertical-align: middle;\n",
       "    }\n",
       "\n",
       "    .dataframe tbody tr th {\n",
       "        vertical-align: top;\n",
       "    }\n",
       "\n",
       "    .dataframe thead th {\n",
       "        text-align: right;\n",
       "    }\n",
       "</style>\n",
       "<table border=\"1\" class=\"dataframe\">\n",
       "  <thead>\n",
       "    <tr style=\"text-align: right;\">\n",
       "      <th></th>\n",
       "      <th>loss</th>\n",
       "      <th>val_loss</th>\n",
       "    </tr>\n",
       "  </thead>\n",
       "  <tbody>\n",
       "    <tr>\n",
       "      <th>0</th>\n",
       "      <td>123.900177</td>\n",
       "      <td>92.534157</td>\n",
       "    </tr>\n",
       "    <tr>\n",
       "      <th>1</th>\n",
       "      <td>115.730400</td>\n",
       "      <td>83.582397</td>\n",
       "    </tr>\n",
       "    <tr>\n",
       "      <th>2</th>\n",
       "      <td>114.334999</td>\n",
       "      <td>83.890816</td>\n",
       "    </tr>\n",
       "  </tbody>\n",
       "</table>\n",
       "</div>"
      ],
      "text/plain": [
       "         loss   val_loss\n",
       "0  123.900177  92.534157\n",
       "1  115.730400  83.582397\n",
       "2  114.334999  83.890816"
      ]
     },
     "metadata": {},
     "output_type": "display_data"
    },
    {
     "name": "stdout",
     "output_type": "stream",
     "text": [
      "Wall time: 52min 53s\n"
     ]
    }
   ],
   "source": [
    "%%time\n",
    "\n",
    "history = rnn_model.fit(\n",
    "  x = x_train_seq_all,\n",
    "  y = y_train_seq_all,\n",
    "  validation_split=0.1,  # use 10% of the examples as a validation set\n",
    "  batch_size = 500,\n",
    "  epochs = 3\n",
    ")\n",
    "\n",
    "history = pd.DataFrame(history.history)\n",
    "display(history)"
   ]
  },
  {
   "cell_type": "code",
   "execution_count": 21,
   "metadata": {},
   "outputs": [
    {
     "name": "stdout",
     "output_type": "stream",
     "text": [
      "Training MSE 110.45064288594631\n",
      "Training RMSE:  10.509550080091264\n",
      "Training MAE:  3.1421323874828047\n",
      "Training R2:  0.9054602575591243\n"
     ]
    }
   ],
   "source": [
    "y_pred = rnn_model.predict(x_train_seq)\n",
    "\n",
    "mse = mean_squared_error(y_pred, y_train_seq)\n",
    "rmse = np.sqrt(mse)\n",
    "mae = mean_absolute_error(y_pred, y_train_seq)\n",
    "r2 = calculate_r2(y_pred, y_train_seq)\n",
    "\n",
    "print(\"Training MSE\", mse)\n",
    "print(\"Training RMSE: \", rmse)\n",
    "print(\"Training MAE: \", mae)\n",
    "print(\"Training R2: \", r2)"
   ]
  },
  {
   "cell_type": "code",
   "execution_count": 22,
   "metadata": {},
   "outputs": [
    {
     "name": "stdout",
     "output_type": "stream",
     "text": [
      "Testing MSE 74.9488119085823\n",
      "Testing RMSE:  8.657298187574591\n",
      "Testing MAE:  2.7100338626821787\n",
      "Testing R2:  0.9331857678748119\n"
     ]
    }
   ],
   "source": [
    "y_pred_ts = rnn_model.predict(x_test_seq)\n",
    "\n",
    "mse = mean_squared_error(y_pred_ts, y_test_seq)\n",
    "rmse = np.sqrt(mse)\n",
    "mae = mean_absolute_error(y_pred_ts, y_test_seq)\n",
    "r2 = calculate_r2(y_pred_ts, y_test_seq)\n",
    "\n",
    "print(\"Testing MSE\", mse)\n",
    "print(\"Testing RMSE: \", rmse)\n",
    "print(\"Testing MAE: \", mae)\n",
    "print(\"Testing R2: \", r2)"
   ]
  },
  {
   "cell_type": "code",
   "execution_count": 29,
   "metadata": {},
   "outputs": [
    {
     "name": "stderr",
     "output_type": "stream",
     "text": [
      "[Parallel(n_jobs=1)]: Using backend SequentialBackend with 1 concurrent workers.\n"
     ]
    },
    {
     "name": "stdout",
     "output_type": "stream",
     "text": [
      "Wall time: 33min\n"
     ]
    },
    {
     "name": "stderr",
     "output_type": "stream",
     "text": [
      "[Parallel(n_jobs=1)]: Done   1 out of   1 | elapsed: 33.0min finished\n"
     ]
    }
   ],
   "source": [
    "%%time\n",
    "bagging_mod = BaggingRegressor(n_estimators = 3, max_samples = 0.5, verbose = 1).fit(x_train, y_train)"
   ]
  },
  {
   "cell_type": "code",
   "execution_count": 30,
   "metadata": {},
   "outputs": [
    {
     "name": "stderr",
     "output_type": "stream",
     "text": [
      "[Parallel(n_jobs=1)]: Using backend SequentialBackend with 1 concurrent workers.\n",
      "[Parallel(n_jobs=1)]: Done   1 out of   1 | elapsed:  4.0min finished\n"
     ]
    },
    {
     "name": "stdout",
     "output_type": "stream",
     "text": [
      "Training MSE 136.20576273439048\n",
      "Training RMSE:  11.670722459830431\n",
      "Training MAE:  2.5233275519830656\n",
      "Training R2:  0.883397979284007\n"
     ]
    }
   ],
   "source": [
    "y_pred = bagging_mod.predict(x_train)\n",
    "\n",
    "mse = calculate_mse(y_pred, y_train_as_im)\n",
    "rmse = np.sqrt(mse)\n",
    "mae = calculate_mae(y_pred, y_train_as_im)\n",
    "r2 = calculate_r2(y_pred, y_train)\n",
    "\n",
    "print(\"Training MSE\", mse)\n",
    "print(\"Training RMSE: \", rmse)\n",
    "print(\"Training MAE: \", mae)\n",
    "print(\"Training R2: \", r2)"
   ]
  },
  {
   "cell_type": "code",
   "execution_count": 31,
   "metadata": {},
   "outputs": [
    {
     "name": "stderr",
     "output_type": "stream",
     "text": [
      "[Parallel(n_jobs=1)]: Using backend SequentialBackend with 1 concurrent workers.\n",
      "[Parallel(n_jobs=1)]: Done   1 out of   1 | elapsed:  1.2min finished\n"
     ]
    },
    {
     "name": "stdout",
     "output_type": "stream",
     "text": [
      "Testing MSE 107.00480244320266\n",
      "Testing RMSE:  10.344312565037981\n",
      "Testing MAE:  3.632696275472138\n",
      "Testing R2:  0.903733457881839\n"
     ]
    }
   ],
   "source": [
    "y_pred_ts = bagging_mod.predict(x_test)\n",
    "\n",
    "mse = calculate_mse(y_pred_ts, y_test_as_im)\n",
    "rmse = np.sqrt(mse)\n",
    "mae = calculate_mae(y_pred_ts, y_test_as_im)\n",
    "r2 = calculate_r2(y_pred_ts, y_test)\n",
    "\n",
    "print(\"Testing MSE\", mse)\n",
    "print(\"Testing RMSE: \", rmse)\n",
    "print(\"Testing MAE: \", mae)\n",
    "print(\"Testing R2: \", r2)"
   ]
  },
  {
   "cell_type": "code",
   "execution_count": null,
   "metadata": {},
   "outputs": [],
   "source": []
  }
 ],
 "metadata": {
  "kernelspec": {
   "display_name": "Python 3",
   "language": "python",
   "name": "python3"
  },
  "language_info": {
   "codemirror_mode": {
    "name": "ipython",
    "version": 3
   },
   "file_extension": ".py",
   "mimetype": "text/x-python",
   "name": "python",
   "nbconvert_exporter": "python",
   "pygments_lexer": "ipython3",
   "version": "3.8.5"
  }
 },
 "nbformat": 4,
 "nbformat_minor": 4
}
