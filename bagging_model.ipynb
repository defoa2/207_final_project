{
 "cells": [
  {
   "cell_type": "code",
   "execution_count": null,
   "metadata": {},
   "outputs": [],
   "source": [
    "import numpy as np\n",
    "import pandas as pd\n",
    "from sklearn.ensemble import BaggingRegressor\n",
    "from tensorflow import keras\n",
    "import os\n",
    "from PIL import Image\n",
    "\n",
    "import matplotlib.pyplot as plt\n",
    "import requests\n",
    "import seaborn as sns\n",
    "import pickle\n",
    "\n",
    "import tensorflow as tf\n",
    "from tensorflow import keras\n",
    "from keras import metrics\n",
    "\n",
    "\n",
    "from sklearn import tree\n",
    "from sklearn.tree import DecisionTreeRegressor\n",
    "from sklearn.metrics import mean_squared_error\n"
   ]
  },
  {
   "cell_type": "code",
   "execution_count": null,
   "metadata": {},
   "outputs": [],
   "source": [
    "from sklearn.ensemble import BaggingRegressor\n",
    "\n",
    "def build_bagging_model(base_estimator, n_estimators=10, max_samples=1.0, max_features=1.0, bootstrap=True, bootstrap_features=False, random_state=0):\n",
    "    \"\"\"\n",
    "    Build a bagging regressor model\n",
    "    :param base_estimator: The base model to ensemble\n",
    "    :param n_estimators: The number of base estimators in the ensemble\n",
    "    :param max_samples: The fraction of samples to draw from X to train each base estimator\n",
    "    :param max_features: The fraction of features to draw from X to train each base estimator\n",
    "    :param bootstrap: Whether samples are drawn with replacement\n",
    "    :param bootstrap_features: Whether features are drawn with replacement\n",
    "    :param random_state: Controls the randomness of the estimator\n",
    "    :return: A bagging regressor model\n",
    "    \"\"\"\n",
    "    model = BaggingRegressor(\n",
    "        base_estimator=base_estimator,\n",
    "        n_estimators=n_estimators,\n",
    "        max_samples=max_samples,\n",
    "        max_features=max_features,\n",
    "        bootstrap=bootstrap,\n",
    "        bootstrap_features=bootstrap_features,\n",
    "        random_state=random_state\n",
    "    )\n",
    "    return model\n",
    "\n",
    "# Example usage with a Decision Tree Regressor as the base model\n",
    "dt_regressor = DecisionTreeRegressor(max_depth=10, random_state=0)\n",
    "bagging_model = build_bagging_model(dt_regressor)\n"
   ]
  },
  {
   "cell_type": "code",
   "execution_count": null,
   "metadata": {},
   "outputs": [],
   "source": [
    "# Fit the bagging regressor\n",
    "bagging_model.fit(x_train_flat, y_train_flat)\n"
   ]
  },
  {
   "cell_type": "code",
   "execution_count": null,
   "metadata": {},
   "outputs": [],
   "source": [
    "# Predict with the bagging regressor\n",
    "y_pred_ts_bagging = bagging_model.predict(x_test_flat)\n"
   ]
  },
  {
   "cell_type": "code",
   "execution_count": null,
   "metadata": {},
   "outputs": [],
   "source": [
    "# Evaluate the bagging regressor\n",
    "mse_bagging = calculate_mse(y_pred_ts_bagging, y_test_flat)\n",
    "rmse_bagging = np.sqrt(mse_bagging)\n",
    "mae_bagging = calculate_mae(y_pred_ts_bagging, y_test_flat)\n",
    "r2_bagging = calculate_r2(y_pred_ts_bagging, y_test_flat)\n",
    "\n",
    "print(\"Bagging MSE: \", mse_bagging)\n",
    "print(\"Bagging RMSE: \", rmse_bagging)\n",
    "print(\"Bagging MAE: \", mae_bagging)\n",
    "print(\"Bagging R2: \", r2_bagging)\n"
   ]
  }
 ],
 "metadata": {
  "kernelspec": {
   "display_name": "base",
   "language": "python",
   "name": "python3"
  },
  "language_info": {
   "codemirror_mode": {
    "name": "ipython",
    "version": 3
   },
   "file_extension": ".py",
   "mimetype": "text/x-python",
   "name": "python",
   "nbconvert_exporter": "python",
   "pygments_lexer": "ipython3",
   "version": "3.9.18"
  }
 },
 "nbformat": 4,
 "nbformat_minor": 2
}
