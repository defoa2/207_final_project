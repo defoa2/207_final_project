{
 "cells": [
  {
   "cell_type": "code",
   "execution_count": 1,
   "metadata": {},
   "outputs": [
    {
     "name": "stderr",
     "output_type": "stream",
     "text": [
      "2023-12-12 15:56:09.147193: I tensorflow/core/platform/cpu_feature_guard.cc:193] This TensorFlow binary is optimized with oneAPI Deep Neural Network Library (oneDNN) to use the following CPU instructions in performance-critical operations:  SSE4.1 SSE4.2\n",
      "To enable them in other operations, rebuild TensorFlow with the appropriate compiler flags.\n"
     ]
    }
   ],
   "source": [
    "import numpy as np\n",
    "import pandas as pd\n",
    "from sklearn.ensemble import BaggingRegressor\n",
    "from tensorflow import keras\n",
    "import os\n",
    "from PIL import Image\n",
    "\n",
    "import matplotlib.pyplot as plt\n",
    "import requests\n",
    "import seaborn as sns\n",
    "import pickle\n",
    "\n",
    "import tensorflow as tf\n",
    "from tensorflow import keras\n",
    "from keras import metrics\n",
    "\n",
    "\n",
    "from sklearn import tree\n",
    "from sklearn.tree import DecisionTreeRegressor\n",
    "from sklearn.metrics import mean_squared_error\n"
   ]
  },
  {
   "cell_type": "code",
   "execution_count": 3,
   "metadata": {},
   "outputs": [],
   "source": [
    "from sklearn.ensemble import BaggingRegressor\n",
    "\n",
    "def build_bagging_model(base_estimator, n_estimators=10, max_samples=1.0, max_features=1.0, bootstrap=True, bootstrap_features=False, random_state=0):\n",
    "    \"\"\"\n",
    "    Build a bagging regressor model\n",
    "    :param base_estimator: The base model to ensemble\n",
    "    :param n_estimators: The number of base estimators in the ensemble\n",
    "    :param max_samples: The fraction of samples to draw from X to train each base estimator\n",
    "    :param max_features: The fraction of features to draw from X to train each base estimator\n",
    "    :param bootstrap: Whether samples are drawn with replacement\n",
    "    :param bootstrap_features: Whether features are drawn with replacement\n",
    "    :param random_state: Controls the randomness of the estimator\n",
    "    :return: A bagging regressor model\n",
    "    \"\"\"\n",
    "    model = BaggingRegressor(\n",
    "        base_estimator=base_estimator,\n",
    "        n_estimators=n_estimators,\n",
    "        max_samples=max_samples,\n",
    "        max_features=max_features,\n",
    "        bootstrap=bootstrap,\n",
    "        bootstrap_features=bootstrap_features,\n",
    "        random_state=random_state\n",
    "    )\n",
    "    return model\n",
    "\n",
    "# Example usage with a Decision Tree Regressor as the base model\n",
    "dt_regressor = DecisionTreeRegressor(max_depth=10, random_state=0)\n",
    "bagging_model = build_bagging_model(dt_regressor)\n"
   ]
  },
  {
   "cell_type": "code",
   "execution_count": 4,
   "metadata": {},
   "outputs": [],
   "source": [
    "# import train and test data\n",
    "x_train = np.load('/Users/natachamaheshe/Documents/GitHub/207_final_project/Data/saved_data/x_train_3500_balanced.npy')\n",
    "y_train = np.load('/Users/natachamaheshe/Documents/GitHub/207_final_project/Data/saved_data/y_train_3500_balanced.npy')\n",
    "\n",
    "x_test = np.load('/Users/natachamaheshe/Documents/GitHub/207_final_project/Data/saved_data/x_test_1500_balanced.npy')\n",
    "y_test = np.load('/Users/natachamaheshe/Documents/GitHub/207_final_project/Data/saved_data/y_test_1500_balanced.npy')\n"
   ]
  },
  {
   "cell_type": "code",
   "execution_count": 5,
   "metadata": {},
   "outputs": [
    {
     "name": "stdout",
     "output_type": "stream",
     "text": [
      "Shape of x_train: (3500, 338, 280, 3)\n",
      "Shape of y_train: (3500, 338, 280)\n",
      "Shape of x_test: (1500, 338, 280, 3)\n",
      "Shape of y_test: (1500, 338, 280)\n"
     ]
    }
   ],
   "source": [
    "# Check the shape of the datasets\n",
    "print(\"Shape of x_train:\", x_train.shape)\n",
    "print(\"Shape of y_train:\", y_train.shape)\n",
    "print(\"Shape of x_test:\", x_test.shape)\n",
    "print(\"Shape of y_test:\", y_test.shape)\n"
   ]
  },
  {
   "cell_type": "code",
   "execution_count": 6,
   "metadata": {},
   "outputs": [
    {
     "name": "stdout",
     "output_type": "stream",
     "text": [
      "New shape of x_train_flat: (3500, 283920)\n",
      "New shape of y_train_flat: (3500, 94640)\n",
      "New shape of x_test_flat: (1500, 283920)\n",
      "New shape of y_test_flat: (1500, 94640)\n"
     ]
    }
   ],
   "source": [
    "# Flatten x_train and x_test\n",
    "x_train_flat = x_train.reshape(x_train.shape[0], -1)\n",
    "x_test_flat = x_test.reshape(x_test.shape[0], -1)\n",
    "\n",
    "# Flatten y_train and y_test\n",
    "# WARNING: Only do this if it makes sense for your regression task\n",
    "y_train_flat = y_train.reshape(y_train.shape[0], -1)\n",
    "y_test_flat = y_test.reshape(y_test.shape[0], -1)\n",
    "\n",
    "# Check the new shapes\n",
    "print(\"New shape of x_train_flat:\", x_train_flat.shape)\n",
    "print(\"New shape of y_train_flat:\", y_train_flat.shape)\n",
    "print(\"New shape of x_test_flat:\", x_test_flat.shape)\n",
    "print(\"New shape of y_test_flat:\", y_test_flat.shape)\n"
   ]
  },
  {
   "cell_type": "code",
   "execution_count": 7,
   "metadata": {},
   "outputs": [
    {
     "name": "stderr",
     "output_type": "stream",
     "text": [
      "/Users/natachamaheshe/opt/anaconda3/lib/python3.9/site-packages/sklearn/ensemble/_base.py:156: FutureWarning: `base_estimator` was renamed to `estimator` in version 1.2 and will be removed in 1.4.\n",
      "  warnings.warn(\n"
     ]
    }
   ],
   "source": [
    "# Building and fitting the model\n",
    "dt_regressor = DecisionTreeRegressor(max_depth=10, random_state=0)\n",
    "bagging_model = build_bagging_model(dt_regressor)\n",
    "bagging_model.fit(x_train_flat, y_train_flat)"
   ]
  },
  {
   "cell_type": "code",
   "execution_count": null,
   "metadata": {},
   "outputs": [],
   "source": [
    "# Prediction with the bagging regressor\n",
    "y_pred_ts_bagging = bagging_model.predict(x_test_flat)"
   ]
  },
  {
   "cell_type": "code",
   "execution_count": 28,
   "metadata": {},
   "outputs": [],
   "source": [
    "def calculate_mse(y_true, y_pred):\n",
    "  return np.mean((y_true - y_pred)**2)\n"
   ]
  },
  {
   "cell_type": "code",
   "execution_count": 28,
   "metadata": {},
   "outputs": [],
   "source": [
    "def calculate_mae(y_true, y_pred):\n",
    "  return np.mean(np.abs(y_true - y_pred)**2))\n"
   ]
  },
  {
   "cell_type": "code",
   "execution_count": 28,
   "metadata": {},
   "outputs": [],
   "source": [
    "def calculate_r2(y_true, y_pred):\n",
    "  return 1 - np.sum((y_true - y_pred)**2) / np.sum((y_true - np.mean(y_true))**2)\n"
   ]
  },
  {
   "cell_type": "code",
   "execution_count": null,
   "metadata": {},
   "outputs": [
    {
     "ename": "NameError",
     "evalue": "name 'y_pred_ts_bagging' is not defined",
     "output_type": "error",
     "traceback": [
      "\u001b[0;31m---------------------------------------------------------------------------\u001b[0m",
      "\u001b[0;31mNameError\u001b[0m                                 Traceback (most recent call last)",
      "\u001b[1;32m/Users/natachamaheshe/Documents/GitHub/207_final_project/bagging_model.ipynb Cell 8\u001b[0m line \u001b[0;36m2\n\u001b[1;32m      <a href='vscode-notebook-cell:/Users/natachamaheshe/Documents/GitHub/207_final_project/bagging_model.ipynb#W4sZmlsZQ%3D%3D?line=0'>1</a>\u001b[0m \u001b[39m# Evaluate the bagging regressor\u001b[39;00m\n\u001b[0;32m----> <a href='vscode-notebook-cell:/Users/natachamaheshe/Documents/GitHub/207_final_project/bagging_model.ipynb#W4sZmlsZQ%3D%3D?line=1'>2</a>\u001b[0m mse_bagging \u001b[39m=\u001b[39m calculate_mse(y_pred_ts_bagging, y_test_flat)\n\u001b[1;32m      <a href='vscode-notebook-cell:/Users/natachamaheshe/Documents/GitHub/207_final_project/bagging_model.ipynb#W4sZmlsZQ%3D%3D?line=2'>3</a>\u001b[0m rmse_bagging \u001b[39m=\u001b[39m np\u001b[39m.\u001b[39msqrt(mse_bagging)\n\u001b[1;32m      <a href='vscode-notebook-cell:/Users/natachamaheshe/Documents/GitHub/207_final_project/bagging_model.ipynb#W4sZmlsZQ%3D%3D?line=3'>4</a>\u001b[0m mae_bagging \u001b[39m=\u001b[39m calculate_mae(y_pred_ts_bagging, y_test_flat)\n",
      "\u001b[0;31mNameError\u001b[0m: name 'y_pred_ts_bagging' is not defined"
     ]
    }
   ],
   "source": [
    "# Evaluate the bagging regressor\n",
    "mse_bagging = calculate_mse(y_pred_ts_bagging, y_test_flat)\n",
    "rmse_bagging = np.sqrt(mse_bagging)\n",
    "mae_bagging = calculate_mae(y_pred_ts_bagging, y_test_flat)\n",
    "r2_bagging = calculate_r2(y_pred_ts_bagging, y_test_flat)\n",
    "\n",
    "print(\"Bagging MSE: \", mse_bagging)\n",
    "print(\"Bagging RMSE: \", rmse_bagging)\n",
    "print(\"Bagging MAE: \", mae_bagging)\n",
    "print(\"Bagging R2: \", r2_bagging)\n"
   ]
  }
 ],
 "metadata": {
  "kernelspec": {
   "display_name": "base",
   "language": "python",
   "name": "python3"
  },
  "language_info": {
   "codemirror_mode": {
    "name": "ipython",
    "version": 3
   },
   "file_extension": ".py",
   "mimetype": "text/x-python",
   "name": "python",
   "nbconvert_exporter": "python",
   "pygments_lexer": "ipython3",
   "version": "3.9.18"
  }
 },
 "nbformat": 4,
 "nbformat_minor": 2
}
