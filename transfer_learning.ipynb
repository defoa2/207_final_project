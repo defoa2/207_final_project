{
 "cells": [
  {
   "cell_type": "code",
   "execution_count": 1,
   "metadata": {},
   "outputs": [],
   "source": [
    "import numpy as np\n",
    "import matplotlib.pyplot as plt\n",
    "import pandas as pd\n",
    "\n",
    "import tensorflow as tf\n",
    "from tensorflow import keras\n",
    "from keras import metrics"
   ]
  },
  {
   "cell_type": "code",
   "execution_count": 5,
   "metadata": {},
   "outputs": [],
   "source": [
    "x_train_8 = np.load('207_data/saved_data/x_train_balanced_8_year.npy')\n",
    "y_train_8 = np.load('207_data/saved_data/y_train_balanced_8_year.npy')\n",
    "\n",
    "x_train_8 = np.reshape(x_train_8/255, (331240000, 3))\n",
    "y_train_8 = y_train_8.flatten()"
   ]
  },
  {
   "cell_type": "code",
   "execution_count": 6,
   "metadata": {},
   "outputs": [],
   "source": [
    "x_train_4 = np.load('207_data/saved_data/x_train_3500_balanced.npy')\n",
    "y_train_4 = np.load('207_data/saved_data/y_train_3500_balanced.npy')\n",
    "\n",
    "x_train_4 = np.reshape(x_train_4/255, (331240000, 3))\n",
    "y_train_4 = y_train_4.flatten()"
   ]
  },
  {
   "cell_type": "code",
   "execution_count": 7,
   "metadata": {},
   "outputs": [
    {
     "name": "stdout",
     "output_type": "stream",
     "text": [
      "Model: \"sequential\"\n",
      "_________________________________________________________________\n",
      "Layer (type)                 Output Shape              Param #   \n",
      "=================================================================\n",
      "dense (Dense)                (None, 3)                 12        \n",
      "_________________________________________________________________\n",
      "dense_1 (Dense)              (None, 5)                 20        \n",
      "_________________________________________________________________\n",
      "dense_2 (Dense)              (None, 5)                 30        \n",
      "_________________________________________________________________\n",
      "dense_3 (Dense)              (None, 1)                 6         \n",
      "=================================================================\n",
      "Total params: 68\n",
      "Trainable params: 68\n",
      "Non-trainable params: 0\n",
      "_________________________________________________________________\n"
     ]
    }
   ],
   "source": [
    "tf.keras.backend.clear_session()\n",
    "tf.random.set_seed(0)\n",
    "\n",
    "base_model = tf.keras.Sequential()\n",
    "\n",
    "    # Input layer\n",
    "base_model.add(tf.keras.layers.Dense(\n",
    "    units=3,                      # Number of neurons in the hidden layer\n",
    "    input_shape=(3,),             # Input dimension\n",
    "    activation='relu'             # Activation function (e.g., 'relu')\n",
    "))\n",
    "base_model.add(tf.keras.layers.Dense(\n",
    "    units = 5,\n",
    "    activation = 'relu'\n",
    "))\n",
    "base_model.add(tf.keras.layers.Dense(\n",
    "    units = 5,\n",
    "    activation = 'relu'\n",
    "))\n",
    "\n",
    "    # Output layer\n",
    "base_model.add(tf.keras.layers.Dense(\n",
    "    units=1,                      # Output dimension (1 for regression)\n",
    "    activation='linear'           # Linear activation for regression\n",
    "))\n",
    "\n",
    "optimizer = tf.keras.optimizers.Adam(learning_rate=0.0001)\n",
    "\n",
    "base_model.compile(loss='mse', optimizer=optimizer)\n",
    "base_model.summary()"
   ]
  },
  {
   "cell_type": "code",
   "execution_count": 8,
   "metadata": {},
   "outputs": [
    {
     "name": "stdout",
     "output_type": "stream",
     "text": [
      "Epoch 1/5\n",
      "298116/298116 [==============================] - 339s 1ms/step - loss: 509.7940 - val_loss: 102.9825\n",
      "Epoch 2/5\n",
      "298116/298116 [==============================] - 283s 950us/step - loss: 156.6893 - val_loss: 99.1763\n",
      "Epoch 3/5\n",
      "298116/298116 [==============================] - 279s 936us/step - loss: 154.5900 - val_loss: 98.7016\n",
      "Epoch 4/5\n",
      "298116/298116 [==============================] - 281s 942us/step - loss: 154.4574 - val_loss: 101.2368\n",
      "Epoch 5/5\n",
      "298116/298116 [==============================] - 266s 893us/step - loss: 154.6203 - val_loss: 98.3555\n"
     ]
    },
    {
     "data": {
      "text/html": [
       "<div>\n",
       "<style scoped>\n",
       "    .dataframe tbody tr th:only-of-type {\n",
       "        vertical-align: middle;\n",
       "    }\n",
       "\n",
       "    .dataframe tbody tr th {\n",
       "        vertical-align: top;\n",
       "    }\n",
       "\n",
       "    .dataframe thead th {\n",
       "        text-align: right;\n",
       "    }\n",
       "</style>\n",
       "<table border=\"1\" class=\"dataframe\">\n",
       "  <thead>\n",
       "    <tr style=\"text-align: right;\">\n",
       "      <th></th>\n",
       "      <th>loss</th>\n",
       "      <th>val_loss</th>\n",
       "    </tr>\n",
       "  </thead>\n",
       "  <tbody>\n",
       "    <tr>\n",
       "      <th>0</th>\n",
       "      <td>292.549927</td>\n",
       "      <td>102.982491</td>\n",
       "    </tr>\n",
       "    <tr>\n",
       "      <th>1</th>\n",
       "      <td>156.088333</td>\n",
       "      <td>99.176292</td>\n",
       "    </tr>\n",
       "    <tr>\n",
       "      <th>2</th>\n",
       "      <td>154.686432</td>\n",
       "      <td>98.701591</td>\n",
       "    </tr>\n",
       "    <tr>\n",
       "      <th>3</th>\n",
       "      <td>154.777863</td>\n",
       "      <td>101.236839</td>\n",
       "    </tr>\n",
       "    <tr>\n",
       "      <th>4</th>\n",
       "      <td>154.601028</td>\n",
       "      <td>98.355545</td>\n",
       "    </tr>\n",
       "  </tbody>\n",
       "</table>\n",
       "</div>"
      ],
      "text/plain": [
       "         loss    val_loss\n",
       "0  292.549927  102.982491\n",
       "1  156.088333   99.176292\n",
       "2  154.686432   98.701591\n",
       "3  154.777863  101.236839\n",
       "4  154.601028   98.355545"
      ]
     },
     "metadata": {},
     "output_type": "display_data"
    },
    {
     "name": "stdout",
     "output_type": "stream",
     "text": [
      "Wall time: 24min 27s\n"
     ]
    }
   ],
   "source": [
    "%%time\n",
    "\n",
    "history = base_model.fit(\n",
    "  x = x_train_4,\n",
    "  y = y_train_4,\n",
    "  validation_split=0.1,  # use 10% of the examples as a validation set\n",
    "  batch_size = 1000,\n",
    "  epochs = 5\n",
    ")\n",
    "\n",
    "history = pd.DataFrame(history.history)\n",
    "display(history)"
   ]
  },
  {
   "cell_type": "code",
   "execution_count": 9,
   "metadata": {},
   "outputs": [
    {
     "name": "stdout",
     "output_type": "stream",
     "text": [
      "Model: \"sequential_1\"\n",
      "_________________________________________________________________\n",
      "Layer (type)                 Output Shape              Param #   \n",
      "=================================================================\n",
      "dense (Dense)                (None, 3)                 12        \n",
      "_________________________________________________________________\n",
      "dense_1 (Dense)              (None, 5)                 20        \n",
      "_________________________________________________________________\n",
      "dense_2 (Dense)              (None, 3)                 18        \n",
      "_________________________________________________________________\n",
      "output (Dense)               (None, 1)                 4         \n",
      "=================================================================\n",
      "Total params: 54\n",
      "Trainable params: 22\n",
      "Non-trainable params: 32\n",
      "_________________________________________________________________\n"
     ]
    }
   ],
   "source": [
    "tf.random.set_seed(0)\n",
    "transfer_mod = tf.keras.Sequential()\n",
    "\n",
    "base_model.trainable = False \n",
    "\n",
    "transfer_mod.add(base_model.layers[0])\n",
    "transfer_mod.add(base_model.layers[1])\n",
    "\n",
    "\n",
    "transfer_mod.add(tf.keras.layers.Dense(\n",
    "    units = 3,\n",
    "    activation = 'relu',\n",
    "    name = 'dense_2'\n",
    "))\n",
    "\n",
    "transfer_mod.add(tf.keras.layers.Dense(\n",
    "    units=1,                      # Output dimension (1 for regression)\n",
    "    activation='linear',\n",
    "    name = 'output'# Linear activation for regression\n",
    "))\n",
    "\n",
    "optimizer = tf.keras.optimizers.Adam(learning_rate=0.001)\n",
    "\n",
    "transfer_mod.compile(loss='mse', optimizer=optimizer)\n",
    "transfer_mod.summary()"
   ]
  },
  {
   "cell_type": "code",
   "execution_count": 12,
   "metadata": {},
   "outputs": [
    {
     "name": "stdout",
     "output_type": "stream",
     "text": [
      "Epoch 1/5\n",
      "298116/298116 [==============================] - 301s 921us/step - loss: 257.2571 - val_loss: 111.2136\n",
      "Epoch 2/5\n",
      "298116/298116 [==============================] - 269s 902us/step - loss: 158.8532 - val_loss: 110.8866\n",
      "Epoch 3/5\n",
      "298116/298116 [==============================] - 251s 842us/step - loss: 158.4450 - val_loss: 110.9096\n",
      "Epoch 4/5\n",
      "298116/298116 [==============================] - 246s 826us/step - loss: 158.4363 - val_loss: 110.7327\n",
      "Epoch 5/5\n",
      "298116/298116 [==============================] - 241s 807us/step - loss: 158.3339 - val_loss: 110.6851\n"
     ]
    },
    {
     "data": {
      "text/html": [
       "<div>\n",
       "<style scoped>\n",
       "    .dataframe tbody tr th:only-of-type {\n",
       "        vertical-align: middle;\n",
       "    }\n",
       "\n",
       "    .dataframe tbody tr th {\n",
       "        vertical-align: top;\n",
       "    }\n",
       "\n",
       "    .dataframe thead th {\n",
       "        text-align: right;\n",
       "    }\n",
       "</style>\n",
       "<table border=\"1\" class=\"dataframe\">\n",
       "  <thead>\n",
       "    <tr style=\"text-align: right;\">\n",
       "      <th></th>\n",
       "      <th>loss</th>\n",
       "      <th>val_loss</th>\n",
       "    </tr>\n",
       "  </thead>\n",
       "  <tbody>\n",
       "    <tr>\n",
       "      <th>0</th>\n",
       "      <td>181.486832</td>\n",
       "      <td>111.213562</td>\n",
       "    </tr>\n",
       "    <tr>\n",
       "      <th>1</th>\n",
       "      <td>158.994934</td>\n",
       "      <td>110.886620</td>\n",
       "    </tr>\n",
       "    <tr>\n",
       "      <th>2</th>\n",
       "      <td>158.787582</td>\n",
       "      <td>110.909622</td>\n",
       "    </tr>\n",
       "    <tr>\n",
       "      <th>3</th>\n",
       "      <td>158.683670</td>\n",
       "      <td>110.732697</td>\n",
       "    </tr>\n",
       "    <tr>\n",
       "      <th>4</th>\n",
       "      <td>158.648727</td>\n",
       "      <td>110.685104</td>\n",
       "    </tr>\n",
       "  </tbody>\n",
       "</table>\n",
       "</div>"
      ],
      "text/plain": [
       "         loss    val_loss\n",
       "0  181.486832  111.213562\n",
       "1  158.994934  110.886620\n",
       "2  158.787582  110.909622\n",
       "3  158.683670  110.732697\n",
       "4  158.648727  110.685104"
      ]
     },
     "metadata": {},
     "output_type": "display_data"
    },
    {
     "name": "stdout",
     "output_type": "stream",
     "text": [
      "Wall time: 22min 12s\n"
     ]
    }
   ],
   "source": [
    "%%time\n",
    "history = transfer_mod.fit(\n",
    "  x = x_train_8,\n",
    "  y = y_train_8,\n",
    "  validation_split=0.1,  # use 10% of the examples as a validation set\n",
    "  batch_size = 1000,\n",
    "  epochs=5\n",
    ")\n",
    "\n",
    "history = pd.DataFrame(history.history)\n",
    "display(history)"
   ]
  },
  {
   "cell_type": "code",
   "execution_count": 14,
   "metadata": {},
   "outputs": [
    {
     "name": "stdout",
     "output_type": "stream",
     "text": [
      "Model: \"sequential_3\"\n",
      "_________________________________________________________________\n",
      "Layer (type)                 Output Shape              Param #   \n",
      "=================================================================\n",
      "dense (Dense)                (None, 3)                 12        \n",
      "_________________________________________________________________\n",
      "dense_1 (Dense)              (None, 5)                 20        \n",
      "_________________________________________________________________\n",
      "dense_2 (Dense)              (None, 5)                 30        \n",
      "_________________________________________________________________\n",
      "dense_4 (Dense)              (None, 3)                 18        \n",
      "_________________________________________________________________\n",
      "output (Dense)               (None, 1)                 4         \n",
      "=================================================================\n",
      "Total params: 84\n",
      "Trainable params: 22\n",
      "Non-trainable params: 62\n",
      "_________________________________________________________________\n"
     ]
    }
   ],
   "source": [
    "tf.random.set_seed(0)\n",
    "transfer_mod = tf.keras.Sequential()\n",
    "\n",
    "base_model.trainable = False \n",
    "\n",
    "transfer_mod.add(base_model.layers[0])\n",
    "transfer_mod.add(base_model.layers[1])\n",
    "transfer_mod.add(base_model.layers[2])\n",
    "\n",
    "\n",
    "transfer_mod.add(tf.keras.layers.Dense(\n",
    "    units = 3,\n",
    "    activation = 'relu'\n",
    "))\n",
    "\n",
    "transfer_mod.add(tf.keras.layers.Dense(\n",
    "    units=1,                      # Output dimension (1 for regression)\n",
    "    activation='linear',\n",
    "    name = 'output'# Linear activation for regression\n",
    "))\n",
    "\n",
    "optimizer = tf.keras.optimizers.Adam(learning_rate=0.001)\n",
    "\n",
    "transfer_mod.compile(loss='mse', optimizer=optimizer)\n",
    "transfer_mod.summary()"
   ]
  },
  {
   "cell_type": "code",
   "execution_count": 15,
   "metadata": {},
   "outputs": [
    {
     "name": "stdout",
     "output_type": "stream",
     "text": [
      "Epoch 1/5\n",
      "298116/298116 [==============================] - 316s 962us/step - loss: 180.7067 - val_loss: 109.3133\n",
      "Epoch 2/5\n",
      "298116/298116 [==============================] - 259s 868us/step - loss: 156.7113 - val_loss: 109.2208\n",
      "Epoch 3/5\n",
      "298116/298116 [==============================] - 269s 902us/step - loss: 156.6288 - val_loss: 109.2935\n",
      "Epoch 4/5\n",
      "298116/298116 [==============================] - 252s 846us/step - loss: 156.7241 - val_loss: 109.3014\n",
      "Epoch 5/5\n",
      "298116/298116 [==============================] - 250s 840us/step - loss: 156.6793 - val_loss: 109.3089\n"
     ]
    },
    {
     "data": {
      "text/html": [
       "<div>\n",
       "<style scoped>\n",
       "    .dataframe tbody tr th:only-of-type {\n",
       "        vertical-align: middle;\n",
       "    }\n",
       "\n",
       "    .dataframe tbody tr th {\n",
       "        vertical-align: top;\n",
       "    }\n",
       "\n",
       "    .dataframe thead th {\n",
       "        text-align: right;\n",
       "    }\n",
       "</style>\n",
       "<table border=\"1\" class=\"dataframe\">\n",
       "  <thead>\n",
       "    <tr style=\"text-align: right;\">\n",
       "      <th></th>\n",
       "      <th>loss</th>\n",
       "      <th>val_loss</th>\n",
       "    </tr>\n",
       "  </thead>\n",
       "  <tbody>\n",
       "    <tr>\n",
       "      <th>0</th>\n",
       "      <td>160.604736</td>\n",
       "      <td>109.313255</td>\n",
       "    </tr>\n",
       "    <tr>\n",
       "      <th>1</th>\n",
       "      <td>156.988693</td>\n",
       "      <td>109.220818</td>\n",
       "    </tr>\n",
       "    <tr>\n",
       "      <th>2</th>\n",
       "      <td>156.989349</td>\n",
       "      <td>109.293533</td>\n",
       "    </tr>\n",
       "    <tr>\n",
       "      <th>3</th>\n",
       "      <td>156.988907</td>\n",
       "      <td>109.301384</td>\n",
       "    </tr>\n",
       "    <tr>\n",
       "      <th>4</th>\n",
       "      <td>156.989639</td>\n",
       "      <td>109.308868</td>\n",
       "    </tr>\n",
       "  </tbody>\n",
       "</table>\n",
       "</div>"
      ],
      "text/plain": [
       "         loss    val_loss\n",
       "0  160.604736  109.313255\n",
       "1  156.988693  109.220818\n",
       "2  156.989349  109.293533\n",
       "3  156.988907  109.301384\n",
       "4  156.989639  109.308868"
      ]
     },
     "metadata": {},
     "output_type": "display_data"
    },
    {
     "name": "stdout",
     "output_type": "stream",
     "text": [
      "Wall time: 22min 50s\n"
     ]
    }
   ],
   "source": [
    "%%time\n",
    "history = transfer_mod.fit(\n",
    "  x = x_train_8,\n",
    "  y = y_train_8,\n",
    "  validation_split=0.1,  # use 10% of the examples as a validation set\n",
    "  batch_size = 1000,\n",
    "  epochs=5\n",
    ")\n",
    "\n",
    "history = pd.DataFrame(history.history)\n",
    "display(history)"
   ]
  },
  {
   "cell_type": "code",
   "execution_count": 16,
   "metadata": {},
   "outputs": [
    {
     "name": "stdout",
     "output_type": "stream",
     "text": [
      "Epoch 1/5\n",
      "248430/248430 [==============================] - 377s 1ms/step - loss: 156.0879 - val_loss: 109.2996\n",
      "Epoch 2/5\n",
      "248430/248430 [==============================] - 316s 1ms/step - loss: 156.0899 - val_loss: 109.2311\n",
      "Epoch 3/5\n",
      "248430/248430 [==============================] - 324s 1ms/step - loss: 156.0904 - val_loss: 109.2897\n",
      "Epoch 4/5\n",
      "248430/248430 [==============================] - 306s 1ms/step - loss: 156.0918 - val_loss: 109.3056\n",
      "Epoch 5/5\n",
      "248430/248430 [==============================] - 309s 1ms/step - loss: 156.0903 - val_loss: 109.3048\n"
     ]
    },
    {
     "data": {
      "text/html": [
       "<div>\n",
       "<style scoped>\n",
       "    .dataframe tbody tr th:only-of-type {\n",
       "        vertical-align: middle;\n",
       "    }\n",
       "\n",
       "    .dataframe tbody tr th {\n",
       "        vertical-align: top;\n",
       "    }\n",
       "\n",
       "    .dataframe thead th {\n",
       "        text-align: right;\n",
       "    }\n",
       "</style>\n",
       "<table border=\"1\" class=\"dataframe\">\n",
       "  <thead>\n",
       "    <tr style=\"text-align: right;\">\n",
       "      <th></th>\n",
       "      <th>loss</th>\n",
       "      <th>val_loss</th>\n",
       "    </tr>\n",
       "  </thead>\n",
       "  <tbody>\n",
       "    <tr>\n",
       "      <th>0</th>\n",
       "      <td>156.087860</td>\n",
       "      <td>109.299583</td>\n",
       "    </tr>\n",
       "    <tr>\n",
       "      <th>1</th>\n",
       "      <td>156.089905</td>\n",
       "      <td>109.231094</td>\n",
       "    </tr>\n",
       "    <tr>\n",
       "      <th>2</th>\n",
       "      <td>156.090439</td>\n",
       "      <td>109.289658</td>\n",
       "    </tr>\n",
       "    <tr>\n",
       "      <th>3</th>\n",
       "      <td>156.091827</td>\n",
       "      <td>109.305611</td>\n",
       "    </tr>\n",
       "    <tr>\n",
       "      <th>4</th>\n",
       "      <td>156.090332</td>\n",
       "      <td>109.304764</td>\n",
       "    </tr>\n",
       "  </tbody>\n",
       "</table>\n",
       "</div>"
      ],
      "text/plain": [
       "         loss    val_loss\n",
       "0  156.087860  109.299583\n",
       "1  156.089905  109.231094\n",
       "2  156.090439  109.289658\n",
       "3  156.091827  109.305611\n",
       "4  156.090332  109.304764"
      ]
     },
     "metadata": {},
     "output_type": "display_data"
    },
    {
     "name": "stdout",
     "output_type": "stream",
     "text": [
      "Wall time: 27min 35s\n"
     ]
    }
   ],
   "source": [
    "%%time\n",
    "history = transfer_mod.fit(\n",
    "  x = x_train_8,\n",
    "  y = y_train_8,\n",
    "  validation_split=0.1,  # use 10% of the examples as a validation set\n",
    "  batch_size = 1200,\n",
    "  epochs=5\n",
    ")\n",
    "\n",
    "history = pd.DataFrame(history.history)\n",
    "display(history)"
   ]
  },
  {
   "cell_type": "code",
   "execution_count": 17,
   "metadata": {},
   "outputs": [
    {
     "name": "stdout",
     "output_type": "stream",
     "text": [
      "Model: \"sequential_4\"\n",
      "_________________________________________________________________\n",
      "Layer (type)                 Output Shape              Param #   \n",
      "=================================================================\n",
      "dense (Dense)                (None, 3)                 12        \n",
      "_________________________________________________________________\n",
      "dense_1 (Dense)              (None, 5)                 20        \n",
      "_________________________________________________________________\n",
      "dense_2 (Dense)              (None, 5)                 30        \n",
      "_________________________________________________________________\n",
      "dense_5 (Dense)              (None, 3)                 18        \n",
      "_________________________________________________________________\n",
      "output (Dense)               (None, 1)                 4         \n",
      "=================================================================\n",
      "Total params: 84\n",
      "Trainable params: 22\n",
      "Non-trainable params: 62\n",
      "_________________________________________________________________\n"
     ]
    }
   ],
   "source": [
    "tf.random.set_seed(0)\n",
    "transfer_mod = tf.keras.Sequential()\n",
    "\n",
    "base_model.trainable = False \n",
    "\n",
    "transfer_mod.add(base_model.layers[0])\n",
    "transfer_mod.add(base_model.layers[1])\n",
    "transfer_mod.add(base_model.layers[2])\n",
    "\n",
    "\n",
    "transfer_mod.add(tf.keras.layers.Dense(\n",
    "    units = 3,\n",
    "    activation = 'relu'\n",
    "))\n",
    "\n",
    "transfer_mod.add(tf.keras.layers.Dense(\n",
    "    units=1,                      # Output dimension (1 for regression)\n",
    "    activation='linear',\n",
    "    name = 'output'# Linear activation for regression\n",
    "))\n",
    "\n",
    "optimizer = tf.keras.optimizers.Adam(learning_rate=0.0001)\n",
    "\n",
    "transfer_mod.compile(loss='mse', optimizer=optimizer)\n",
    "transfer_mod.summary()"
   ]
  },
  {
   "cell_type": "code",
   "execution_count": 18,
   "metadata": {},
   "outputs": [
    {
     "name": "stdout",
     "output_type": "stream",
     "text": [
      "Epoch 1/5\n",
      "298116/298116 [==============================] - 334s 1ms/step - loss: 325.7997 - val_loss: 109.2438\n",
      "Epoch 2/5\n",
      "298116/298116 [==============================] - 271s 907us/step - loss: 156.6982 - val_loss: 109.2631\n",
      "Epoch 3/5\n",
      "298116/298116 [==============================] - 274s 919us/step - loss: 156.6157 - val_loss: 109.2819\n",
      "Epoch 4/5\n",
      "298116/298116 [==============================] - 271s 910us/step - loss: 156.7117 - val_loss: 109.3056\n",
      "Epoch 5/5\n",
      "298116/298116 [==============================] - 240s 804us/step - loss: 156.6667 - val_loss: 109.2647\n"
     ]
    },
    {
     "data": {
      "text/html": [
       "<div>\n",
       "<style scoped>\n",
       "    .dataframe tbody tr th:only-of-type {\n",
       "        vertical-align: middle;\n",
       "    }\n",
       "\n",
       "    .dataframe tbody tr th {\n",
       "        vertical-align: top;\n",
       "    }\n",
       "\n",
       "    .dataframe thead th {\n",
       "        text-align: right;\n",
       "    }\n",
       "</style>\n",
       "<table border=\"1\" class=\"dataframe\">\n",
       "  <thead>\n",
       "    <tr style=\"text-align: right;\">\n",
       "      <th></th>\n",
       "      <th>loss</th>\n",
       "      <th>val_loss</th>\n",
       "    </tr>\n",
       "  </thead>\n",
       "  <tbody>\n",
       "    <tr>\n",
       "      <th>0</th>\n",
       "      <td>196.783478</td>\n",
       "      <td>109.243828</td>\n",
       "    </tr>\n",
       "    <tr>\n",
       "      <th>1</th>\n",
       "      <td>156.975204</td>\n",
       "      <td>109.263092</td>\n",
       "    </tr>\n",
       "    <tr>\n",
       "      <th>2</th>\n",
       "      <td>156.976639</td>\n",
       "      <td>109.281921</td>\n",
       "    </tr>\n",
       "    <tr>\n",
       "      <th>3</th>\n",
       "      <td>156.976486</td>\n",
       "      <td>109.305618</td>\n",
       "    </tr>\n",
       "    <tr>\n",
       "      <th>4</th>\n",
       "      <td>156.975784</td>\n",
       "      <td>109.264717</td>\n",
       "    </tr>\n",
       "  </tbody>\n",
       "</table>\n",
       "</div>"
      ],
      "text/plain": [
       "         loss    val_loss\n",
       "0  196.783478  109.243828\n",
       "1  156.975204  109.263092\n",
       "2  156.976639  109.281921\n",
       "3  156.976486  109.305618\n",
       "4  156.975784  109.264717"
      ]
     },
     "metadata": {},
     "output_type": "display_data"
    },
    {
     "name": "stdout",
     "output_type": "stream",
     "text": [
      "Wall time: 23min 33s\n"
     ]
    }
   ],
   "source": [
    "%%time\n",
    "history = transfer_mod.fit(\n",
    "  x = x_train_8,\n",
    "  y = y_train_8,\n",
    "  validation_split=0.1,  # use 10% of the examples as a validation set\n",
    "  batch_size = 1000,\n",
    "  epochs=5\n",
    ")\n",
    "\n",
    "history = pd.DataFrame(history.history)\n",
    "display(history)"
   ]
  },
  {
   "cell_type": "code",
   "execution_count": 19,
   "metadata": {},
   "outputs": [
    {
     "name": "stdout",
     "output_type": "stream",
     "text": [
      "Model: \"sequential_5\"\n",
      "_________________________________________________________________\n",
      "Layer (type)                 Output Shape              Param #   \n",
      "=================================================================\n",
      "dense (Dense)                (None, 3)                 12        \n",
      "_________________________________________________________________\n",
      "dense_1 (Dense)              (None, 5)                 20        \n",
      "_________________________________________________________________\n",
      "dense_2 (Dense)              (None, 5)                 30        \n",
      "_________________________________________________________________\n",
      "dense_6 (Dense)              (None, 3)                 18        \n",
      "_________________________________________________________________\n",
      "output (Dense)               (None, 1)                 4         \n",
      "=================================================================\n",
      "Total params: 84\n",
      "Trainable params: 22\n",
      "Non-trainable params: 62\n",
      "_________________________________________________________________\n"
     ]
    }
   ],
   "source": [
    "tf.random.set_seed(0)\n",
    "transfer_mod = tf.keras.Sequential()\n",
    "\n",
    "base_model.trainable = False \n",
    "\n",
    "transfer_mod.add(base_model.layers[0])\n",
    "transfer_mod.add(base_model.layers[1])\n",
    "transfer_mod.add(base_model.layers[2])\n",
    "\n",
    "\n",
    "transfer_mod.add(tf.keras.layers.Dense(\n",
    "    units = 3,\n",
    "    activation = 'relu'\n",
    "))\n",
    "\n",
    "transfer_mod.add(tf.keras.layers.Dense(\n",
    "    units=1,                      # Output dimension (1 for regression)\n",
    "    activation='linear',\n",
    "    name = 'output'# Linear activation for regression\n",
    "))\n",
    "\n",
    "optimizer = tf.keras.optimizers.SGD(learning_rate=0.001)\n",
    "\n",
    "transfer_mod.compile(loss='mse', optimizer=optimizer)\n",
    "transfer_mod.summary()"
   ]
  },
  {
   "cell_type": "code",
   "execution_count": 20,
   "metadata": {},
   "outputs": [
    {
     "name": "stdout",
     "output_type": "stream",
     "text": [
      "Epoch 1/5\n",
      "298116/298116 [==============================] - 322s 975us/step - loss: 157.3354 - val_loss: 109.2433\n",
      "Epoch 2/5\n",
      "298116/298116 [==============================] - 272s 913us/step - loss: 156.5573 - val_loss: 109.0043\n",
      "Epoch 3/5\n",
      "298116/298116 [==============================] - 275s 921us/step - loss: 156.4324 - val_loss: 109.2412\n",
      "Epoch 4/5\n",
      "298116/298116 [==============================] - 268s 898us/step - loss: 156.5097 - val_loss: 109.0609\n",
      "Epoch 5/5\n",
      "298116/298116 [==============================] - 243s 815us/step - loss: 156.4629 - val_loss: 109.2753\n"
     ]
    },
    {
     "data": {
      "text/html": [
       "<div>\n",
       "<style scoped>\n",
       "    .dataframe tbody tr th:only-of-type {\n",
       "        vertical-align: middle;\n",
       "    }\n",
       "\n",
       "    .dataframe tbody tr th {\n",
       "        vertical-align: top;\n",
       "    }\n",
       "\n",
       "    .dataframe thead th {\n",
       "        text-align: right;\n",
       "    }\n",
       "</style>\n",
       "<table border=\"1\" class=\"dataframe\">\n",
       "  <thead>\n",
       "    <tr style=\"text-align: right;\">\n",
       "      <th></th>\n",
       "      <th>loss</th>\n",
       "      <th>val_loss</th>\n",
       "    </tr>\n",
       "  </thead>\n",
       "  <tbody>\n",
       "    <tr>\n",
       "      <th>0</th>\n",
       "      <td>157.036133</td>\n",
       "      <td>109.243332</td>\n",
       "    </tr>\n",
       "    <tr>\n",
       "      <th>1</th>\n",
       "      <td>156.815231</td>\n",
       "      <td>109.004288</td>\n",
       "    </tr>\n",
       "    <tr>\n",
       "      <th>2</th>\n",
       "      <td>156.787064</td>\n",
       "      <td>109.241234</td>\n",
       "    </tr>\n",
       "    <tr>\n",
       "      <th>3</th>\n",
       "      <td>156.774170</td>\n",
       "      <td>109.060936</td>\n",
       "    </tr>\n",
       "    <tr>\n",
       "      <th>4</th>\n",
       "      <td>156.771805</td>\n",
       "      <td>109.275284</td>\n",
       "    </tr>\n",
       "  </tbody>\n",
       "</table>\n",
       "</div>"
      ],
      "text/plain": [
       "         loss    val_loss\n",
       "0  157.036133  109.243332\n",
       "1  156.815231  109.004288\n",
       "2  156.787064  109.241234\n",
       "3  156.774170  109.060936\n",
       "4  156.771805  109.275284"
      ]
     },
     "metadata": {},
     "output_type": "display_data"
    },
    {
     "name": "stdout",
     "output_type": "stream",
     "text": [
      "Wall time: 23min 24s\n"
     ]
    }
   ],
   "source": [
    "%%time\n",
    "history = transfer_mod.fit(\n",
    "  x = x_train_8,\n",
    "  y = y_train_8,\n",
    "  validation_split=0.1,  # use 10% of the examples as a validation set\n",
    "  batch_size = 1000,\n",
    "  epochs=5\n",
    ")\n",
    "\n",
    "history = pd.DataFrame(history.history)\n",
    "display(history)"
   ]
  },
  {
   "cell_type": "code",
   "execution_count": 25,
   "metadata": {},
   "outputs": [
    {
     "name": "stdout",
     "output_type": "stream",
     "text": [
      "Model: \"sequential\"\n",
      "_________________________________________________________________\n",
      "Layer (type)                 Output Shape              Param #   \n",
      "=================================================================\n",
      "dense (Dense)                (None, 3)                 12        \n",
      "_________________________________________________________________\n",
      "dense_1 (Dense)              (None, 5)                 20        \n",
      "_________________________________________________________________\n",
      "dense_2 (Dense)              (None, 5)                 30        \n",
      "_________________________________________________________________\n",
      "dense_3 (Dense)              (None, 2)                 12        \n",
      "_________________________________________________________________\n",
      "output (Dense)               (None, 1)                 3         \n",
      "=================================================================\n",
      "Total params: 77\n",
      "Trainable params: 15\n",
      "Non-trainable params: 62\n",
      "_________________________________________________________________\n"
     ]
    }
   ],
   "source": [
    "tf.keras.backend.clear_session()\n",
    "tf.random.set_seed(0)\n",
    "transfer_mod = tf.keras.Sequential()\n",
    "\n",
    "base_model.trainable = False \n",
    "\n",
    "transfer_mod.add(base_model.layers[0])\n",
    "transfer_mod.add(base_model.layers[1])\n",
    "transfer_mod.add(base_model.layers[2])\n",
    "\n",
    "\n",
    "transfer_mod.add(tf.keras.layers.Dense(\n",
    "    units = 2,\n",
    "    activation = 'relu',\n",
    "    name = 'dense_3'\n",
    "))\n",
    "\n",
    "transfer_mod.add(tf.keras.layers.Dense(\n",
    "    units=1,                      # Output dimension (1 for regression)\n",
    "    activation='linear',\n",
    "    name = 'output'# Linear activation for regression\n",
    "))\n",
    "\n",
    "optimizer = tf.keras.optimizers.SGD(learning_rate=0.001)\n",
    "\n",
    "transfer_mod.compile(loss='mse', optimizer=optimizer)\n",
    "transfer_mod.summary()"
   ]
  },
  {
   "cell_type": "code",
   "execution_count": 27,
   "metadata": {},
   "outputs": [
    {
     "name": "stdout",
     "output_type": "stream",
     "text": [
      "Epoch 1/5\n",
      "149058/149058 [==============================] - 285s 2ms/step - loss: 156.5711 - val_loss: 109.2373\n",
      "Epoch 2/5\n",
      "149058/149058 [==============================] - 223s 1ms/step - loss: 156.5734 - val_loss: 109.2837\n",
      "Epoch 3/5\n",
      "149058/149058 [==============================] - 230s 2ms/step - loss: 156.5719 - val_loss: 109.3138\n",
      "Epoch 4/5\n",
      "149058/149058 [==============================] - 237s 2ms/step - loss: 156.5706 - val_loss: 109.2583\n",
      "Epoch 5/5\n",
      "149058/149058 [==============================] - 212s 1ms/step - loss: 156.5699 - val_loss: 109.2399\n"
     ]
    },
    {
     "data": {
      "text/html": [
       "<div>\n",
       "<style scoped>\n",
       "    .dataframe tbody tr th:only-of-type {\n",
       "        vertical-align: middle;\n",
       "    }\n",
       "\n",
       "    .dataframe tbody tr th {\n",
       "        vertical-align: top;\n",
       "    }\n",
       "\n",
       "    .dataframe thead th {\n",
       "        text-align: right;\n",
       "    }\n",
       "</style>\n",
       "<table border=\"1\" class=\"dataframe\">\n",
       "  <thead>\n",
       "    <tr style=\"text-align: right;\">\n",
       "      <th></th>\n",
       "      <th>loss</th>\n",
       "      <th>val_loss</th>\n",
       "    </tr>\n",
       "  </thead>\n",
       "  <tbody>\n",
       "    <tr>\n",
       "      <th>0</th>\n",
       "      <td>156.571075</td>\n",
       "      <td>109.237335</td>\n",
       "    </tr>\n",
       "    <tr>\n",
       "      <th>1</th>\n",
       "      <td>156.573395</td>\n",
       "      <td>109.283691</td>\n",
       "    </tr>\n",
       "    <tr>\n",
       "      <th>2</th>\n",
       "      <td>156.571884</td>\n",
       "      <td>109.313782</td>\n",
       "    </tr>\n",
       "    <tr>\n",
       "      <th>3</th>\n",
       "      <td>156.570587</td>\n",
       "      <td>109.258278</td>\n",
       "    </tr>\n",
       "    <tr>\n",
       "      <th>4</th>\n",
       "      <td>156.569901</td>\n",
       "      <td>109.239914</td>\n",
       "    </tr>\n",
       "  </tbody>\n",
       "</table>\n",
       "</div>"
      ],
      "text/plain": [
       "         loss    val_loss\n",
       "0  156.571075  109.237335\n",
       "1  156.573395  109.283691\n",
       "2  156.571884  109.313782\n",
       "3  156.570587  109.258278\n",
       "4  156.569901  109.239914"
      ]
     },
     "metadata": {},
     "output_type": "display_data"
    },
    {
     "name": "stdout",
     "output_type": "stream",
     "text": [
      "Wall time: 20min 14s\n"
     ]
    }
   ],
   "source": [
    "%%time\n",
    "tf.random.set_seed(1000)\n",
    "history = transfer_mod.fit(\n",
    "  x = x_train_8,\n",
    "  y = y_train_8,\n",
    "  validation_split=0.1,  # use 10% of the examples as a validation set\n",
    "  batch_size = 2000,\n",
    "  epochs=5\n",
    ")\n",
    "\n",
    "history = pd.DataFrame(history.history)\n",
    "display(history)"
   ]
  },
  {
   "cell_type": "code",
   "execution_count": 23,
   "metadata": {},
   "outputs": [
    {
     "name": "stdout",
     "output_type": "stream",
     "text": [
      "Epoch 1/5\n",
      "596232/596232 [==============================] - 733s 1ms/step - loss: 157.0862 - val_loss: 109.3273\n",
      "Epoch 2/5\n",
      "394346/596232 [==================>...........] - ETA: 3:37 - loss: 157.4346"
     ]
    },
    {
     "ename": "KeyboardInterrupt",
     "evalue": "",
     "output_type": "error",
     "traceback": [
      "\u001b[1;31m---------------------------------------------------------------------------\u001b[0m",
      "\u001b[1;31mKeyboardInterrupt\u001b[0m                         Traceback (most recent call last)",
      "\u001b[1;32m<timed exec>\u001b[0m in \u001b[0;36m<module>\u001b[1;34m\u001b[0m\n",
      "\u001b[1;32m~\\AppData\\Roaming\\Python\\Python38\\site-packages\\tensorflow\\python\\keras\\engine\\training.py\u001b[0m in \u001b[0;36mfit\u001b[1;34m(self, x, y, batch_size, epochs, verbose, callbacks, validation_split, validation_data, shuffle, class_weight, sample_weight, initial_epoch, steps_per_epoch, validation_steps, validation_batch_size, validation_freq, max_queue_size, workers, use_multiprocessing)\u001b[0m\n\u001b[0;32m   1098\u001b[0m                 _r=1):\n\u001b[0;32m   1099\u001b[0m               \u001b[0mcallbacks\u001b[0m\u001b[1;33m.\u001b[0m\u001b[0mon_train_batch_begin\u001b[0m\u001b[1;33m(\u001b[0m\u001b[0mstep\u001b[0m\u001b[1;33m)\u001b[0m\u001b[1;33m\u001b[0m\u001b[1;33m\u001b[0m\u001b[0m\n\u001b[1;32m-> 1100\u001b[1;33m               \u001b[0mtmp_logs\u001b[0m \u001b[1;33m=\u001b[0m \u001b[0mself\u001b[0m\u001b[1;33m.\u001b[0m\u001b[0mtrain_function\u001b[0m\u001b[1;33m(\u001b[0m\u001b[0miterator\u001b[0m\u001b[1;33m)\u001b[0m\u001b[1;33m\u001b[0m\u001b[1;33m\u001b[0m\u001b[0m\n\u001b[0m\u001b[0;32m   1101\u001b[0m               \u001b[1;32mif\u001b[0m \u001b[0mdata_handler\u001b[0m\u001b[1;33m.\u001b[0m\u001b[0mshould_sync\u001b[0m\u001b[1;33m:\u001b[0m\u001b[1;33m\u001b[0m\u001b[1;33m\u001b[0m\u001b[0m\n\u001b[0;32m   1102\u001b[0m                 \u001b[0mcontext\u001b[0m\u001b[1;33m.\u001b[0m\u001b[0masync_wait\u001b[0m\u001b[1;33m(\u001b[0m\u001b[1;33m)\u001b[0m\u001b[1;33m\u001b[0m\u001b[1;33m\u001b[0m\u001b[0m\n",
      "\u001b[1;32m~\\AppData\\Roaming\\Python\\Python38\\site-packages\\tensorflow\\python\\eager\\def_function.py\u001b[0m in \u001b[0;36m__call__\u001b[1;34m(self, *args, **kwds)\u001b[0m\n\u001b[0;32m    826\u001b[0m     \u001b[0mtracing_count\u001b[0m \u001b[1;33m=\u001b[0m \u001b[0mself\u001b[0m\u001b[1;33m.\u001b[0m\u001b[0mexperimental_get_tracing_count\u001b[0m\u001b[1;33m(\u001b[0m\u001b[1;33m)\u001b[0m\u001b[1;33m\u001b[0m\u001b[1;33m\u001b[0m\u001b[0m\n\u001b[0;32m    827\u001b[0m     \u001b[1;32mwith\u001b[0m \u001b[0mtrace\u001b[0m\u001b[1;33m.\u001b[0m\u001b[0mTrace\u001b[0m\u001b[1;33m(\u001b[0m\u001b[0mself\u001b[0m\u001b[1;33m.\u001b[0m\u001b[0m_name\u001b[0m\u001b[1;33m)\u001b[0m \u001b[1;32mas\u001b[0m \u001b[0mtm\u001b[0m\u001b[1;33m:\u001b[0m\u001b[1;33m\u001b[0m\u001b[1;33m\u001b[0m\u001b[0m\n\u001b[1;32m--> 828\u001b[1;33m       \u001b[0mresult\u001b[0m \u001b[1;33m=\u001b[0m \u001b[0mself\u001b[0m\u001b[1;33m.\u001b[0m\u001b[0m_call\u001b[0m\u001b[1;33m(\u001b[0m\u001b[1;33m*\u001b[0m\u001b[0margs\u001b[0m\u001b[1;33m,\u001b[0m \u001b[1;33m**\u001b[0m\u001b[0mkwds\u001b[0m\u001b[1;33m)\u001b[0m\u001b[1;33m\u001b[0m\u001b[1;33m\u001b[0m\u001b[0m\n\u001b[0m\u001b[0;32m    829\u001b[0m       \u001b[0mcompiler\u001b[0m \u001b[1;33m=\u001b[0m \u001b[1;34m\"xla\"\u001b[0m \u001b[1;32mif\u001b[0m \u001b[0mself\u001b[0m\u001b[1;33m.\u001b[0m\u001b[0m_experimental_compile\u001b[0m \u001b[1;32melse\u001b[0m \u001b[1;34m\"nonXla\"\u001b[0m\u001b[1;33m\u001b[0m\u001b[1;33m\u001b[0m\u001b[0m\n\u001b[0;32m    830\u001b[0m       \u001b[0mnew_tracing_count\u001b[0m \u001b[1;33m=\u001b[0m \u001b[0mself\u001b[0m\u001b[1;33m.\u001b[0m\u001b[0mexperimental_get_tracing_count\u001b[0m\u001b[1;33m(\u001b[0m\u001b[1;33m)\u001b[0m\u001b[1;33m\u001b[0m\u001b[1;33m\u001b[0m\u001b[0m\n",
      "\u001b[1;32m~\\AppData\\Roaming\\Python\\Python38\\site-packages\\tensorflow\\python\\eager\\def_function.py\u001b[0m in \u001b[0;36m_call\u001b[1;34m(self, *args, **kwds)\u001b[0m\n\u001b[0;32m    853\u001b[0m       \u001b[1;31m# In this case we have created variables on the first call, so we run the\u001b[0m\u001b[1;33m\u001b[0m\u001b[1;33m\u001b[0m\u001b[1;33m\u001b[0m\u001b[0m\n\u001b[0;32m    854\u001b[0m       \u001b[1;31m# defunned version which is guaranteed to never create variables.\u001b[0m\u001b[1;33m\u001b[0m\u001b[1;33m\u001b[0m\u001b[1;33m\u001b[0m\u001b[0m\n\u001b[1;32m--> 855\u001b[1;33m       \u001b[1;32mreturn\u001b[0m \u001b[0mself\u001b[0m\u001b[1;33m.\u001b[0m\u001b[0m_stateless_fn\u001b[0m\u001b[1;33m(\u001b[0m\u001b[1;33m*\u001b[0m\u001b[0margs\u001b[0m\u001b[1;33m,\u001b[0m \u001b[1;33m**\u001b[0m\u001b[0mkwds\u001b[0m\u001b[1;33m)\u001b[0m  \u001b[1;31m# pylint: disable=not-callable\u001b[0m\u001b[1;33m\u001b[0m\u001b[1;33m\u001b[0m\u001b[0m\n\u001b[0m\u001b[0;32m    856\u001b[0m     \u001b[1;32melif\u001b[0m \u001b[0mself\u001b[0m\u001b[1;33m.\u001b[0m\u001b[0m_stateful_fn\u001b[0m \u001b[1;32mis\u001b[0m \u001b[1;32mnot\u001b[0m \u001b[1;32mNone\u001b[0m\u001b[1;33m:\u001b[0m\u001b[1;33m\u001b[0m\u001b[1;33m\u001b[0m\u001b[0m\n\u001b[0;32m    857\u001b[0m       \u001b[1;31m# Release the lock early so that multiple threads can perform the call\u001b[0m\u001b[1;33m\u001b[0m\u001b[1;33m\u001b[0m\u001b[1;33m\u001b[0m\u001b[0m\n",
      "\u001b[1;32m~\\AppData\\Roaming\\Python\\Python38\\site-packages\\tensorflow\\python\\eager\\function.py\u001b[0m in \u001b[0;36m__call__\u001b[1;34m(self, *args, **kwargs)\u001b[0m\n\u001b[0;32m   2940\u001b[0m       (graph_function,\n\u001b[0;32m   2941\u001b[0m        filtered_flat_args) = self._maybe_define_function(args, kwargs)\n\u001b[1;32m-> 2942\u001b[1;33m     return graph_function._call_flat(\n\u001b[0m\u001b[0;32m   2943\u001b[0m         filtered_flat_args, captured_inputs=graph_function.captured_inputs)  # pylint: disable=protected-access\n\u001b[0;32m   2944\u001b[0m \u001b[1;33m\u001b[0m\u001b[0m\n",
      "\u001b[1;32m~\\AppData\\Roaming\\Python\\Python38\\site-packages\\tensorflow\\python\\eager\\function.py\u001b[0m in \u001b[0;36m_call_flat\u001b[1;34m(self, args, captured_inputs, cancellation_manager)\u001b[0m\n\u001b[0;32m   1916\u001b[0m         and executing_eagerly):\n\u001b[0;32m   1917\u001b[0m       \u001b[1;31m# No tape is watching; skip to running the function.\u001b[0m\u001b[1;33m\u001b[0m\u001b[1;33m\u001b[0m\u001b[1;33m\u001b[0m\u001b[0m\n\u001b[1;32m-> 1918\u001b[1;33m       return self._build_call_outputs(self._inference_function.call(\n\u001b[0m\u001b[0;32m   1919\u001b[0m           ctx, args, cancellation_manager=cancellation_manager))\n\u001b[0;32m   1920\u001b[0m     forward_backward = self._select_forward_and_backward_functions(\n",
      "\u001b[1;32m~\\AppData\\Roaming\\Python\\Python38\\site-packages\\tensorflow\\python\\eager\\function.py\u001b[0m in \u001b[0;36mcall\u001b[1;34m(self, ctx, args, cancellation_manager)\u001b[0m\n\u001b[0;32m    553\u001b[0m       \u001b[1;32mwith\u001b[0m \u001b[0m_InterpolateFunctionError\u001b[0m\u001b[1;33m(\u001b[0m\u001b[0mself\u001b[0m\u001b[1;33m)\u001b[0m\u001b[1;33m:\u001b[0m\u001b[1;33m\u001b[0m\u001b[1;33m\u001b[0m\u001b[0m\n\u001b[0;32m    554\u001b[0m         \u001b[1;32mif\u001b[0m \u001b[0mcancellation_manager\u001b[0m \u001b[1;32mis\u001b[0m \u001b[1;32mNone\u001b[0m\u001b[1;33m:\u001b[0m\u001b[1;33m\u001b[0m\u001b[1;33m\u001b[0m\u001b[0m\n\u001b[1;32m--> 555\u001b[1;33m           outputs = execute.execute(\n\u001b[0m\u001b[0;32m    556\u001b[0m               \u001b[0mstr\u001b[0m\u001b[1;33m(\u001b[0m\u001b[0mself\u001b[0m\u001b[1;33m.\u001b[0m\u001b[0msignature\u001b[0m\u001b[1;33m.\u001b[0m\u001b[0mname\u001b[0m\u001b[1;33m)\u001b[0m\u001b[1;33m,\u001b[0m\u001b[1;33m\u001b[0m\u001b[1;33m\u001b[0m\u001b[0m\n\u001b[0;32m    557\u001b[0m               \u001b[0mnum_outputs\u001b[0m\u001b[1;33m=\u001b[0m\u001b[0mself\u001b[0m\u001b[1;33m.\u001b[0m\u001b[0m_num_outputs\u001b[0m\u001b[1;33m,\u001b[0m\u001b[1;33m\u001b[0m\u001b[1;33m\u001b[0m\u001b[0m\n",
      "\u001b[1;32m~\\AppData\\Roaming\\Python\\Python38\\site-packages\\tensorflow\\python\\eager\\execute.py\u001b[0m in \u001b[0;36mquick_execute\u001b[1;34m(op_name, num_outputs, inputs, attrs, ctx, name)\u001b[0m\n\u001b[0;32m     57\u001b[0m   \u001b[1;32mtry\u001b[0m\u001b[1;33m:\u001b[0m\u001b[1;33m\u001b[0m\u001b[1;33m\u001b[0m\u001b[0m\n\u001b[0;32m     58\u001b[0m     \u001b[0mctx\u001b[0m\u001b[1;33m.\u001b[0m\u001b[0mensure_initialized\u001b[0m\u001b[1;33m(\u001b[0m\u001b[1;33m)\u001b[0m\u001b[1;33m\u001b[0m\u001b[1;33m\u001b[0m\u001b[0m\n\u001b[1;32m---> 59\u001b[1;33m     tensors = pywrap_tfe.TFE_Py_Execute(ctx._handle, device_name, op_name,\n\u001b[0m\u001b[0;32m     60\u001b[0m                                         inputs, attrs, num_outputs)\n\u001b[0;32m     61\u001b[0m   \u001b[1;32mexcept\u001b[0m \u001b[0mcore\u001b[0m\u001b[1;33m.\u001b[0m\u001b[0m_NotOkStatusException\u001b[0m \u001b[1;32mas\u001b[0m \u001b[0me\u001b[0m\u001b[1;33m:\u001b[0m\u001b[1;33m\u001b[0m\u001b[1;33m\u001b[0m\u001b[0m\n",
      "\u001b[1;31mKeyboardInterrupt\u001b[0m: "
     ]
    }
   ],
   "source": [
    "%%time\n",
    "tf.random.set_seed(0)\n",
    "history = transfer_mod.fit(\n",
    "  x = x_train_8,\n",
    "  y = y_train_8,\n",
    "  validation_split=0.1,  # use 10% of the examples as a validation set\n",
    "  batch_size = 500,\n",
    "  epochs=5\n",
    ")\n",
    "\n",
    "history = pd.DataFrame(history.history)\n",
    "display(history)"
   ]
  },
  {
   "cell_type": "code",
   "execution_count": 31,
   "metadata": {},
   "outputs": [
    {
     "name": "stdout",
     "output_type": "stream",
     "text": [
      "Model: \"sequential\"\n",
      "_________________________________________________________________\n",
      "Layer (type)                 Output Shape              Param #   \n",
      "=================================================================\n",
      "dense (Dense)                (None, 3)                 12        \n",
      "_________________________________________________________________\n",
      "dense_1 (Dense)              (None, 5)                 20        \n",
      "_________________________________________________________________\n",
      "dense_2 (Dense)              (None, 5)                 30        \n",
      "_________________________________________________________________\n",
      "dense_3 (Dense)              (None, 100)               600       \n",
      "_________________________________________________________________\n",
      "output (Dense)               (None, 1)                 101       \n",
      "=================================================================\n",
      "Total params: 763\n",
      "Trainable params: 701\n",
      "Non-trainable params: 62\n",
      "_________________________________________________________________\n"
     ]
    }
   ],
   "source": [
    "tf.keras.backend.clear_session()\n",
    "tf.random.set_seed(0)\n",
    "transfer_mod = tf.keras.Sequential()\n",
    "\n",
    "base_model.trainable = False \n",
    "\n",
    "transfer_mod.add(base_model.layers[0])\n",
    "transfer_mod.add(base_model.layers[1])\n",
    "transfer_mod.add(base_model.layers[2])\n",
    "\n",
    "\n",
    "transfer_mod.add(tf.keras.layers.Dense(\n",
    "    units = 100,\n",
    "    activation = 'relu',\n",
    "    name = 'dense_3'\n",
    "))\n",
    "\n",
    "# transfer_mod.add(tf.keras.layers.Dense(\n",
    "#     units = 10,\n",
    "#     activation = 'relu',\n",
    "#     name = 'dense_3'\n",
    "# ))\n",
    "\n",
    "transfer_mod.add(tf.keras.layers.Dense(\n",
    "    units=1,                      # Output dimension (1 for regression)\n",
    "    activation='linear',\n",
    "    name = 'output'# Linear activation for regression\n",
    "))\n",
    "\n",
    "optimizer = tf.keras.optimizers.SGD(learning_rate=0.001)\n",
    "\n",
    "transfer_mod.compile(loss='mse', optimizer=optimizer)\n",
    "transfer_mod.summary()"
   ]
  },
  {
   "cell_type": "code",
   "execution_count": 32,
   "metadata": {},
   "outputs": [
    {
     "name": "stdout",
     "output_type": "stream",
     "text": [
      "Epoch 1/5\n",
      "298116/298116 [==============================] - 427s 1ms/step - loss: 156.9597 - val_loss: 107.8222\n",
      "Epoch 2/5\n",
      "298116/298116 [==============================] - 374s 1ms/step - loss: 155.1789 - val_loss: 107.2361\n",
      "Epoch 3/5\n",
      "298116/298116 [==============================] - 382s 1ms/step - loss: 154.8432 - val_loss: 107.2602\n",
      "Epoch 4/5\n",
      "298116/298116 [==============================] - 376s 1ms/step - loss: 154.7064 - val_loss: 107.0045\n",
      "Epoch 5/5\n",
      "298116/298116 [==============================] - 366s 1ms/step - loss: 154.4771 - val_loss: 107.7330\n"
     ]
    },
    {
     "data": {
      "text/html": [
       "<div>\n",
       "<style scoped>\n",
       "    .dataframe tbody tr th:only-of-type {\n",
       "        vertical-align: middle;\n",
       "    }\n",
       "\n",
       "    .dataframe tbody tr th {\n",
       "        vertical-align: top;\n",
       "    }\n",
       "\n",
       "    .dataframe thead th {\n",
       "        text-align: right;\n",
       "    }\n",
       "</style>\n",
       "<table border=\"1\" class=\"dataframe\">\n",
       "  <thead>\n",
       "    <tr style=\"text-align: right;\">\n",
       "      <th></th>\n",
       "      <th>loss</th>\n",
       "      <th>val_loss</th>\n",
       "    </tr>\n",
       "  </thead>\n",
       "  <tbody>\n",
       "    <tr>\n",
       "      <th>0</th>\n",
       "      <td>156.281570</td>\n",
       "      <td>107.822220</td>\n",
       "    </tr>\n",
       "    <tr>\n",
       "      <th>1</th>\n",
       "      <td>155.371948</td>\n",
       "      <td>107.236130</td>\n",
       "    </tr>\n",
       "    <tr>\n",
       "      <th>2</th>\n",
       "      <td>155.131866</td>\n",
       "      <td>107.260193</td>\n",
       "    </tr>\n",
       "    <tr>\n",
       "      <th>3</th>\n",
       "      <td>154.914154</td>\n",
       "      <td>107.004486</td>\n",
       "    </tr>\n",
       "    <tr>\n",
       "      <th>4</th>\n",
       "      <td>154.746170</td>\n",
       "      <td>107.732971</td>\n",
       "    </tr>\n",
       "  </tbody>\n",
       "</table>\n",
       "</div>"
      ],
      "text/plain": [
       "         loss    val_loss\n",
       "0  156.281570  107.822220\n",
       "1  155.371948  107.236130\n",
       "2  155.131866  107.260193\n",
       "3  154.914154  107.004486\n",
       "4  154.746170  107.732971"
      ]
     },
     "metadata": {},
     "output_type": "display_data"
    },
    {
     "name": "stdout",
     "output_type": "stream",
     "text": [
      "Wall time: 32min 32s\n"
     ]
    }
   ],
   "source": [
    "%%time\n",
    "tf.random.set_seed(0)\n",
    "history = transfer_mod.fit(\n",
    "  x = x_train_8,\n",
    "  y = y_train_8,\n",
    "  validation_split=0.1,  # use 10% of the examples as a validation set\n",
    "  batch_size = 1000,\n",
    "  epochs=5\n",
    ")\n",
    "\n",
    "history = pd.DataFrame(history.history)\n",
    "display(history)"
   ]
  },
  {
   "cell_type": "code",
   "execution_count": 35,
   "metadata": {},
   "outputs": [
    {
     "name": "stdout",
     "output_type": "stream",
     "text": [
      "Model: \"sequential\"\n",
      "_________________________________________________________________\n",
      "Layer (type)                 Output Shape              Param #   \n",
      "=================================================================\n",
      "dense (Dense)                (None, 3)                 12        \n",
      "_________________________________________________________________\n",
      "dense_1 (Dense)              (None, 5)                 20        \n",
      "_________________________________________________________________\n",
      "dense_2 (Dense)              (None, 5)                 30        \n",
      "_________________________________________________________________\n",
      "dense_3 (Dense)              (None, 100)               600       \n",
      "_________________________________________________________________\n",
      "output (Dense)               (None, 1)                 101       \n",
      "=================================================================\n",
      "Total params: 763\n",
      "Trainable params: 701\n",
      "Non-trainable params: 62\n",
      "_________________________________________________________________\n"
     ]
    }
   ],
   "source": [
    "tf.keras.backend.clear_session()\n",
    "tf.random.set_seed(0)\n",
    "transfer_mod = tf.keras.Sequential()\n",
    "\n",
    "base_model.trainable = False \n",
    "\n",
    "transfer_mod.add(base_model.layers[0])\n",
    "transfer_mod.add(base_model.layers[1])\n",
    "transfer_mod.add(base_model.layers[2])\n",
    "\n",
    "\n",
    "transfer_mod.add(tf.keras.layers.Dense(\n",
    "    units = 100,\n",
    "    activation = 'relu',\n",
    "    name = 'dense_3'\n",
    "))\n",
    "\n",
    "# transfer_mod.add(tf.keras.layers.Dense(\n",
    "#     units = 10,\n",
    "#     activation = 'relu',\n",
    "#     name = 'dense_3'\n",
    "# ))\n",
    "\n",
    "transfer_mod.add(tf.keras.layers.Dense(\n",
    "    units=1,                      # Output dimension (1 for regression)\n",
    "    activation='linear',\n",
    "    name = 'output'# Linear activation for regression\n",
    "))\n",
    "\n",
    "optimizer = tf.keras.optimizers.SGD(learning_rate=0.001)\n",
    "\n",
    "transfer_mod.compile(loss='mse', optimizer=optimizer)\n",
    "transfer_mod.summary()"
   ]
  },
  {
   "cell_type": "code",
   "execution_count": 36,
   "metadata": {},
   "outputs": [
    {
     "name": "stdout",
     "output_type": "stream",
     "text": [
      "Epoch 1/3\n",
      "298116/298116 [==============================] - 442s 1ms/step - loss: 156.9597 - val_loss: 107.8222\n",
      "Epoch 2/3\n",
      "298116/298116 [==============================] - 356s 1ms/step - loss: 155.1789 - val_loss: 107.2361\n",
      "Epoch 3/3\n",
      "298116/298116 [==============================] - 383s 1ms/step - loss: 154.8432 - val_loss: 107.2602\n"
     ]
    },
    {
     "data": {
      "text/html": [
       "<div>\n",
       "<style scoped>\n",
       "    .dataframe tbody tr th:only-of-type {\n",
       "        vertical-align: middle;\n",
       "    }\n",
       "\n",
       "    .dataframe tbody tr th {\n",
       "        vertical-align: top;\n",
       "    }\n",
       "\n",
       "    .dataframe thead th {\n",
       "        text-align: right;\n",
       "    }\n",
       "</style>\n",
       "<table border=\"1\" class=\"dataframe\">\n",
       "  <thead>\n",
       "    <tr style=\"text-align: right;\">\n",
       "      <th></th>\n",
       "      <th>loss</th>\n",
       "      <th>val_loss</th>\n",
       "    </tr>\n",
       "  </thead>\n",
       "  <tbody>\n",
       "    <tr>\n",
       "      <th>0</th>\n",
       "      <td>156.281570</td>\n",
       "      <td>107.822220</td>\n",
       "    </tr>\n",
       "    <tr>\n",
       "      <th>1</th>\n",
       "      <td>155.371948</td>\n",
       "      <td>107.236130</td>\n",
       "    </tr>\n",
       "    <tr>\n",
       "      <th>2</th>\n",
       "      <td>155.131866</td>\n",
       "      <td>107.260193</td>\n",
       "    </tr>\n",
       "  </tbody>\n",
       "</table>\n",
       "</div>"
      ],
      "text/plain": [
       "         loss    val_loss\n",
       "0  156.281570  107.822220\n",
       "1  155.371948  107.236130\n",
       "2  155.131866  107.260193"
      ]
     },
     "metadata": {},
     "output_type": "display_data"
    },
    {
     "name": "stdout",
     "output_type": "stream",
     "text": [
      "Wall time: 20min 8s\n"
     ]
    }
   ],
   "source": [
    "%%time\n",
    "tf.random.set_seed(0)\n",
    "history = transfer_mod.fit(\n",
    "  x = x_train_8,\n",
    "  y = y_train_8,\n",
    "  validation_split=0.1,  # use 10% of the examples as a validation set\n",
    "  batch_size = 1000,\n",
    "  epochs=3\n",
    ")\n",
    "\n",
    "history = pd.DataFrame(history.history)\n",
    "display(history)"
   ]
  },
  {
   "cell_type": "code",
   "execution_count": null,
   "metadata": {},
   "outputs": [],
   "source": []
  }
 ],
 "metadata": {
  "kernelspec": {
   "display_name": "Python 3",
   "language": "python",
   "name": "python3"
  },
  "language_info": {
   "codemirror_mode": {
    "name": "ipython",
    "version": 3
   },
   "file_extension": ".py",
   "mimetype": "text/x-python",
   "name": "python",
   "nbconvert_exporter": "python",
   "pygments_lexer": "ipython3",
   "version": "3.8.5"
  }
 },
 "nbformat": 4,
 "nbformat_minor": 4
}
