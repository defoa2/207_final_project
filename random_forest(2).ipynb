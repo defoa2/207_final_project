{
  "nbformat": 4,
  "nbformat_minor": 0,
  "metadata": {
    "colab": {
      "provenance": [],
      "machine_shape": "hm"
    },
    "kernelspec": {
      "name": "python3",
      "display_name": "Python 3"
    },
    "language_info": {
      "name": "python"
    }
  },
  "cells": [
    {
      "cell_type": "code",
      "execution_count": null,
      "metadata": {
        "id": "dL_bbEwbUvAa",
        "colab": {
          "base_uri": "https://localhost:8080/"
        },
        "outputId": "07d77ba9-4eae-494c-aeaa-d4eb14e1bafc"
      },
      "outputs": [
        {
          "output_type": "stream",
          "name": "stdout",
          "text": [
            "Mounted at /content/drive\n"
          ]
        }
      ],
      "source": [
        "import numpy as np\n",
        "import matplotlib.pyplot as plt\n",
        "from PIL import Image\n",
        "import requests\n",
        "import os\n",
        "import pandas as pd\n",
        "import seaborn as sns\n",
        "import pickle\n",
        "\n",
        "import tensorflow as tf\n",
        "from tensorflow import keras\n",
        "from keras import metrics\n",
        "\n",
        "\n",
        "from sklearn import tree\n",
        "from sklearn.tree import DecisionTreeRegressor\n",
        "from sklearn.metrics import mean_squared_error\n",
        "import gdown\n",
        "import os, shutil\n",
        "from google.colab import drive\n",
        "drive.mount('/content/drive')\n",
        "\n"
      ]
    },
    {
      "cell_type": "code",
      "source": [
        "\n",
        "folder_path = '/content/drive/My Drive/Sabreena_data_model/'\n",
        "x_test_output = 'x_test_1500_balanced.npy'\n",
        "y_test_output = 'y_test_1500_balanced.npy'\n",
        "\n",
        "os.makedirs(\"data\",exist_ok=True)\n",
        "\n",
        "shutil.copy(folder_path+x_test_output, \"data/\"+x_test_output)\n",
        "shutil.copy(folder_path+y_test_output, \"data/\"+y_test_output)"
      ],
      "metadata": {
        "id": "WInBY0YuJnlV",
        "colab": {
          "base_uri": "https://localhost:8080/",
          "height": 35
        },
        "outputId": "e39a3595-d372-495e-ffe2-a146572451bd"
      },
      "execution_count": null,
      "outputs": [
        {
          "output_type": "execute_result",
          "data": {
            "text/plain": [
              "'data/y_test_1500_balanced.npy'"
            ],
            "application/vnd.google.colaboratory.intrinsic+json": {
              "type": "string"
            }
          },
          "metadata": {},
          "execution_count": 2
        }
      ]
    },
    {
      "cell_type": "code",
      "source": [],
      "metadata": {
        "id": "P357uaccUy7g"
      },
      "execution_count": null,
      "outputs": []
    },
    {
      "cell_type": "markdown",
      "source": [],
      "metadata": {
        "id": "c2TvHRGA1Svr"
      }
    },
    {
      "cell_type": "code",
      "source": [
        "'''\n",
        "path_lin_mod_opt = 'model/cp_lin_mod_opt_model/'\n",
        "os.makedirs(\"model\",exist_ok=True)\n",
        "os.makedirs(path_lin_mod_opt,exist_ok=True)\n",
        "\n",
        "\n",
        "for filename in os.listdir(folder_path+path_lin_mod_opt):\n",
        "    source_file = os.path.join(folder_path+path_lin_mod_opt, filename)\n",
        "    destination_file = os.path.join(path_lin_mod_opt, filename)\n",
        "    if os.path.isfile(source_file):\n",
        "        shutil.copy(source_file, destination_file)\n",
        "'''"
      ],
      "metadata": {
        "id": "7mXCuCJ3U1Hs"
      },
      "execution_count": null,
      "outputs": []
    },
    {
      "cell_type": "code",
      "source": [
        "from sklearn.ensemble import RandomForestRegressor\n",
        "X=np.load(\"data/\"+x_test_output)\n",
        "y=np.load(\"data/\"+y_test_output)\n"
      ],
      "metadata": {
        "id": "AQZpTZ7zcP9m"
      },
      "execution_count": null,
      "outputs": []
    },
    {
      "cell_type": "code",
      "source": [
        "from sklearn.model_selection import train_test_split\n",
        "X_train, X_test, y_train, y_test = train_test_split(X, y, test_size=0.2, random_state=42)\n",
        "print(X_train.shape, X_test.shape)\n",
        "#x_test_500=x_test[:500]\n",
        "#x_test_flat_500 = np.reshape(x_test_500/255, (47320000, 3)) #(141960000, 3)\n",
        "\n",
        "X_train_300 = X_train[:300]\n",
        "X_train_flat = np.reshape(X_train_300/255, (28392000, 3))\n",
        "y_train_300=y_train[:300]\n",
        "y_train_flat_300 = y_train_300.flatten()\n",
        "\n",
        "X_test_flat = np.reshape(X_test/255, (28392000, 3))\n",
        "y_test_300=y_test[:300]\n",
        "y_test_flat_300 = y_test_300.flatten()\n"
      ],
      "metadata": {
        "colab": {
          "base_uri": "https://localhost:8080/"
        },
        "id": "YmIpKosgcbIF",
        "outputId": "d5d83093-6ac1-45b8-9b53-a98a4631808f"
      },
      "execution_count": null,
      "outputs": [
        {
          "output_type": "stream",
          "name": "stdout",
          "text": [
            "(1200, 338, 280, 3) (300, 338, 280, 3)\n"
          ]
        }
      ]
    },
    {
      "cell_type": "code",
      "source": [
        "# Build the model\n",
        "def build_random_forest_regressor():\n",
        "    model = RandomForestRegressor(n_estimators=10, random_state=0, n_jobs = -1)\n",
        "    return model\n",
        "\n",
        "model_rf = build_random_forest_regressor()\n",
        "\n",
        "# Train the model\n",
        "model_rf.fit(X_train_flat, y_train_flat_300)\n",
        "\n"
      ],
      "metadata": {
        "id": "Qye8ewWRc11p",
        "colab": {
          "base_uri": "https://localhost:8080/",
          "height": 74
        },
        "outputId": "2c54fe83-27c9-4117-b92d-e1a6731a6578"
      },
      "execution_count": null,
      "outputs": [
        {
          "output_type": "execute_result",
          "data": {
            "text/plain": [
              "RandomForestRegressor(n_estimators=10, n_jobs=-1, random_state=0)"
            ],
            "text/html": [
              "<style>#sk-container-id-1 {color: black;background-color: white;}#sk-container-id-1 pre{padding: 0;}#sk-container-id-1 div.sk-toggleable {background-color: white;}#sk-container-id-1 label.sk-toggleable__label {cursor: pointer;display: block;width: 100%;margin-bottom: 0;padding: 0.3em;box-sizing: border-box;text-align: center;}#sk-container-id-1 label.sk-toggleable__label-arrow:before {content: \"▸\";float: left;margin-right: 0.25em;color: #696969;}#sk-container-id-1 label.sk-toggleable__label-arrow:hover:before {color: black;}#sk-container-id-1 div.sk-estimator:hover label.sk-toggleable__label-arrow:before {color: black;}#sk-container-id-1 div.sk-toggleable__content {max-height: 0;max-width: 0;overflow: hidden;text-align: left;background-color: #f0f8ff;}#sk-container-id-1 div.sk-toggleable__content pre {margin: 0.2em;color: black;border-radius: 0.25em;background-color: #f0f8ff;}#sk-container-id-1 input.sk-toggleable__control:checked~div.sk-toggleable__content {max-height: 200px;max-width: 100%;overflow: auto;}#sk-container-id-1 input.sk-toggleable__control:checked~label.sk-toggleable__label-arrow:before {content: \"▾\";}#sk-container-id-1 div.sk-estimator input.sk-toggleable__control:checked~label.sk-toggleable__label {background-color: #d4ebff;}#sk-container-id-1 div.sk-label input.sk-toggleable__control:checked~label.sk-toggleable__label {background-color: #d4ebff;}#sk-container-id-1 input.sk-hidden--visually {border: 0;clip: rect(1px 1px 1px 1px);clip: rect(1px, 1px, 1px, 1px);height: 1px;margin: -1px;overflow: hidden;padding: 0;position: absolute;width: 1px;}#sk-container-id-1 div.sk-estimator {font-family: monospace;background-color: #f0f8ff;border: 1px dotted black;border-radius: 0.25em;box-sizing: border-box;margin-bottom: 0.5em;}#sk-container-id-1 div.sk-estimator:hover {background-color: #d4ebff;}#sk-container-id-1 div.sk-parallel-item::after {content: \"\";width: 100%;border-bottom: 1px solid gray;flex-grow: 1;}#sk-container-id-1 div.sk-label:hover label.sk-toggleable__label {background-color: #d4ebff;}#sk-container-id-1 div.sk-serial::before {content: \"\";position: absolute;border-left: 1px solid gray;box-sizing: border-box;top: 0;bottom: 0;left: 50%;z-index: 0;}#sk-container-id-1 div.sk-serial {display: flex;flex-direction: column;align-items: center;background-color: white;padding-right: 0.2em;padding-left: 0.2em;position: relative;}#sk-container-id-1 div.sk-item {position: relative;z-index: 1;}#sk-container-id-1 div.sk-parallel {display: flex;align-items: stretch;justify-content: center;background-color: white;position: relative;}#sk-container-id-1 div.sk-item::before, #sk-container-id-1 div.sk-parallel-item::before {content: \"\";position: absolute;border-left: 1px solid gray;box-sizing: border-box;top: 0;bottom: 0;left: 50%;z-index: -1;}#sk-container-id-1 div.sk-parallel-item {display: flex;flex-direction: column;z-index: 1;position: relative;background-color: white;}#sk-container-id-1 div.sk-parallel-item:first-child::after {align-self: flex-end;width: 50%;}#sk-container-id-1 div.sk-parallel-item:last-child::after {align-self: flex-start;width: 50%;}#sk-container-id-1 div.sk-parallel-item:only-child::after {width: 0;}#sk-container-id-1 div.sk-dashed-wrapped {border: 1px dashed gray;margin: 0 0.4em 0.5em 0.4em;box-sizing: border-box;padding-bottom: 0.4em;background-color: white;}#sk-container-id-1 div.sk-label label {font-family: monospace;font-weight: bold;display: inline-block;line-height: 1.2em;}#sk-container-id-1 div.sk-label-container {text-align: center;}#sk-container-id-1 div.sk-container {/* jupyter's `normalize.less` sets `[hidden] { display: none; }` but bootstrap.min.css set `[hidden] { display: none !important; }` so we also need the `!important` here to be able to override the default hidden behavior on the sphinx rendered scikit-learn.org. See: https://github.com/scikit-learn/scikit-learn/issues/21755 */display: inline-block !important;position: relative;}#sk-container-id-1 div.sk-text-repr-fallback {display: none;}</style><div id=\"sk-container-id-1\" class=\"sk-top-container\"><div class=\"sk-text-repr-fallback\"><pre>RandomForestRegressor(n_estimators=10, n_jobs=-1, random_state=0)</pre><b>In a Jupyter environment, please rerun this cell to show the HTML representation or trust the notebook. <br />On GitHub, the HTML representation is unable to render, please try loading this page with nbviewer.org.</b></div><div class=\"sk-container\" hidden><div class=\"sk-item\"><div class=\"sk-estimator sk-toggleable\"><input class=\"sk-toggleable__control sk-hidden--visually\" id=\"sk-estimator-id-1\" type=\"checkbox\" checked><label for=\"sk-estimator-id-1\" class=\"sk-toggleable__label sk-toggleable__label-arrow\">RandomForestRegressor</label><div class=\"sk-toggleable__content\"><pre>RandomForestRegressor(n_estimators=10, n_jobs=-1, random_state=0)</pre></div></div></div></div></div>"
            ]
          },
          "metadata": {},
          "execution_count": 7
        }
      ]
    },
    {
      "cell_type": "code",
      "source": [
        "#full\n",
        "X_train_flat_full = np.reshape(X_train/255, (113568000, 3))\n",
        "\n",
        "# Build the model\n",
        "def build_random_forest_regressor():\n",
        "    model = RandomForestRegressor(n_estimators=10, random_state=0, n_jobs = -1)\n",
        "    return model\n",
        "\n",
        "model_rf_full = build_random_forest_regressor()\n",
        "\n",
        "# Train the model\n",
        "model_rf_full.fit(X_train_flat_full, y_train.flatten())\n"
      ],
      "metadata": {
        "colab": {
          "base_uri": "https://localhost:8080/",
          "height": 74
        },
        "id": "gx545h2Rks2D",
        "outputId": "2b0014a2-e813-4eb7-efe2-1a8af7d7c8d3"
      },
      "execution_count": null,
      "outputs": [
        {
          "output_type": "execute_result",
          "data": {
            "text/plain": [
              "RandomForestRegressor(n_estimators=10, n_jobs=-1, random_state=0)"
            ],
            "text/html": [
              "<style>#sk-container-id-1 {color: black;background-color: white;}#sk-container-id-1 pre{padding: 0;}#sk-container-id-1 div.sk-toggleable {background-color: white;}#sk-container-id-1 label.sk-toggleable__label {cursor: pointer;display: block;width: 100%;margin-bottom: 0;padding: 0.3em;box-sizing: border-box;text-align: center;}#sk-container-id-1 label.sk-toggleable__label-arrow:before {content: \"▸\";float: left;margin-right: 0.25em;color: #696969;}#sk-container-id-1 label.sk-toggleable__label-arrow:hover:before {color: black;}#sk-container-id-1 div.sk-estimator:hover label.sk-toggleable__label-arrow:before {color: black;}#sk-container-id-1 div.sk-toggleable__content {max-height: 0;max-width: 0;overflow: hidden;text-align: left;background-color: #f0f8ff;}#sk-container-id-1 div.sk-toggleable__content pre {margin: 0.2em;color: black;border-radius: 0.25em;background-color: #f0f8ff;}#sk-container-id-1 input.sk-toggleable__control:checked~div.sk-toggleable__content {max-height: 200px;max-width: 100%;overflow: auto;}#sk-container-id-1 input.sk-toggleable__control:checked~label.sk-toggleable__label-arrow:before {content: \"▾\";}#sk-container-id-1 div.sk-estimator input.sk-toggleable__control:checked~label.sk-toggleable__label {background-color: #d4ebff;}#sk-container-id-1 div.sk-label input.sk-toggleable__control:checked~label.sk-toggleable__label {background-color: #d4ebff;}#sk-container-id-1 input.sk-hidden--visually {border: 0;clip: rect(1px 1px 1px 1px);clip: rect(1px, 1px, 1px, 1px);height: 1px;margin: -1px;overflow: hidden;padding: 0;position: absolute;width: 1px;}#sk-container-id-1 div.sk-estimator {font-family: monospace;background-color: #f0f8ff;border: 1px dotted black;border-radius: 0.25em;box-sizing: border-box;margin-bottom: 0.5em;}#sk-container-id-1 div.sk-estimator:hover {background-color: #d4ebff;}#sk-container-id-1 div.sk-parallel-item::after {content: \"\";width: 100%;border-bottom: 1px solid gray;flex-grow: 1;}#sk-container-id-1 div.sk-label:hover label.sk-toggleable__label {background-color: #d4ebff;}#sk-container-id-1 div.sk-serial::before {content: \"\";position: absolute;border-left: 1px solid gray;box-sizing: border-box;top: 0;bottom: 0;left: 50%;z-index: 0;}#sk-container-id-1 div.sk-serial {display: flex;flex-direction: column;align-items: center;background-color: white;padding-right: 0.2em;padding-left: 0.2em;position: relative;}#sk-container-id-1 div.sk-item {position: relative;z-index: 1;}#sk-container-id-1 div.sk-parallel {display: flex;align-items: stretch;justify-content: center;background-color: white;position: relative;}#sk-container-id-1 div.sk-item::before, #sk-container-id-1 div.sk-parallel-item::before {content: \"\";position: absolute;border-left: 1px solid gray;box-sizing: border-box;top: 0;bottom: 0;left: 50%;z-index: -1;}#sk-container-id-1 div.sk-parallel-item {display: flex;flex-direction: column;z-index: 1;position: relative;background-color: white;}#sk-container-id-1 div.sk-parallel-item:first-child::after {align-self: flex-end;width: 50%;}#sk-container-id-1 div.sk-parallel-item:last-child::after {align-self: flex-start;width: 50%;}#sk-container-id-1 div.sk-parallel-item:only-child::after {width: 0;}#sk-container-id-1 div.sk-dashed-wrapped {border: 1px dashed gray;margin: 0 0.4em 0.5em 0.4em;box-sizing: border-box;padding-bottom: 0.4em;background-color: white;}#sk-container-id-1 div.sk-label label {font-family: monospace;font-weight: bold;display: inline-block;line-height: 1.2em;}#sk-container-id-1 div.sk-label-container {text-align: center;}#sk-container-id-1 div.sk-container {/* jupyter's `normalize.less` sets `[hidden] { display: none; }` but bootstrap.min.css set `[hidden] { display: none !important; }` so we also need the `!important` here to be able to override the default hidden behavior on the sphinx rendered scikit-learn.org. See: https://github.com/scikit-learn/scikit-learn/issues/21755 */display: inline-block !important;position: relative;}#sk-container-id-1 div.sk-text-repr-fallback {display: none;}</style><div id=\"sk-container-id-1\" class=\"sk-top-container\"><div class=\"sk-text-repr-fallback\"><pre>RandomForestRegressor(n_estimators=10, n_jobs=-1, random_state=0)</pre><b>In a Jupyter environment, please rerun this cell to show the HTML representation or trust the notebook. <br />On GitHub, the HTML representation is unable to render, please try loading this page with nbviewer.org.</b></div><div class=\"sk-container\" hidden><div class=\"sk-item\"><div class=\"sk-estimator sk-toggleable\"><input class=\"sk-toggleable__control sk-hidden--visually\" id=\"sk-estimator-id-1\" type=\"checkbox\" checked><label for=\"sk-estimator-id-1\" class=\"sk-toggleable__label sk-toggleable__label-arrow\">RandomForestRegressor</label><div class=\"sk-toggleable__content\"><pre>RandomForestRegressor(n_estimators=10, n_jobs=-1, random_state=0)</pre></div></div></div></div></div>"
            ]
          },
          "metadata": {},
          "execution_count": 5
        }
      ]
    },
    {
      "cell_type": "code",
      "source": [
        "#calculate mse\n",
        "\n",
        "def calculate_mse(y_pred, y_true):\n",
        "\n",
        "    mse = np.array([])\n",
        "\n",
        "    y_pred_im = np.reshape(y_pred, (y_true.shape[0], 94640))\n",
        "    y_true_im = np.reshape(y_true,  (y_true.shape[0], 94640))\n",
        "\n",
        "    for i in range(y_pred_im.shape[0]):\n",
        "\n",
        "        image_pred = y_pred_im[i]\n",
        "        image_true = y_true_im[i]\n",
        "        diff = np.subtract(image_true, image_pred)\n",
        "        se = np.square(diff)\n",
        "        mse_im = np.average(se)\n",
        "\n",
        "        mse = np.append(mse, mse_im)\n",
        "\n",
        "    mse_overall = np.average(mse)\n",
        "    return mse_overall\n",
        "# calculate r2\n",
        "\n",
        "def calculate_r2(y_pred, y_true):\n",
        "\n",
        "    r2_overall = r2_score(y_true, y_pred)\n",
        "\n",
        "    return r2_overall\n",
        "# calculate mae\n",
        "\n",
        "def calculate_mae(y_pred, y_true):\n",
        "\n",
        "    mae = np.array([])\n",
        "\n",
        "    y_pred_im = np.reshape(y_pred, (y_true.shape[0], 94640))\n",
        "    y_true_im = np.reshape(y_true,  (y_true.shape[0], 94640))\n",
        "\n",
        "    for i in range(y_pred_im.shape[0]):\n",
        "\n",
        "        image_pred = y_pred_im[i]\n",
        "        image_true = y_true_im[i]\n",
        "\n",
        "        mae_for_image = np.average(np.abs(np.subtract(image_true, image_pred)))\n",
        "\n",
        "    mae = np.append(mae, mae_for_image)\n",
        "\n",
        "    mae_overall = np.average(mae)\n",
        "\n",
        "    return mae_overall"
      ],
      "metadata": {
        "id": "kuCcHd2xV6oA"
      },
      "execution_count": null,
      "outputs": []
    },
    {
      "cell_type": "code",
      "source": [
        "y_test_flat = y_test.flatten()\n",
        "y_pred_rf = model_rf_full.predict(X_test_flat)\n",
        "mse = calculate_mse(y_pred_rf, y_test)\n",
        "rmse = np.sqrt(mse)\n",
        "mae = calculate_mae(y_pred_rf, y_test)\n",
        "from sklearn.metrics import r2_score\n",
        "r2 = calculate_r2(y_pred_rf, y_test_flat) # calculated_r2 requires flattened version of y_true\n",
        "\n",
        "print(\"Testing MSE: \", mse)\n",
        "print(\"Testing RMSE: \", rmse)\n",
        "print(\"Testing MAE: \", mae)\n",
        "print(\"Testing R2: \", r2)"
      ],
      "metadata": {
        "colab": {
          "base_uri": "https://localhost:8080/"
        },
        "id": "2AkhVlDCqjk3",
        "outputId": "2c1ebd69-b767-4779-c733-5b346430921b"
      },
      "execution_count": null,
      "outputs": [
        {
          "output_type": "stream",
          "name": "stdout",
          "text": [
            "Testing MSE:  102.29292497230792\n",
            "Testing RMSE:  10.113996488644235\n",
            "Testing MAE:  3.297115447840726\n",
            "Testing R2:  0.9084469512805685\n"
          ]
        }
      ]
    },
    {
      "cell_type": "markdown",
      "source": [
        "Total images: 1500\n",
        "Train images: 1200\n",
        "Test images: 300\n",
        "Model used: Random Forest Regressor with parallel processing\n",
        "No. of estimator in Random Forest: 10\n",
        "Evaluation metric: MSE, MAE, R^2\n",
        "\n",
        "\n",
        "Testing MSE:  102.29292497230792\n",
        "Testing RMSE:  10.113996488644235\n",
        "Testing MAE:  3.297115447840726\n",
        "Testing R2:  0.9084469512805685"
      ],
      "metadata": {
        "id": "ieG-V_1V1Vyy"
      }
    },
    {
      "cell_type": "code",
      "source": [
        "y_test_flat = y_test.flatten()\n",
        "y_pred_rf = model_rf_full.predict(X_train_flat_full)\n",
        "mse = calculate_mse(y_pred_rf, y_train)\n",
        "rmse = np.sqrt(mse)\n",
        "mae = calculate_mae(y_pred_rf, y_train)\n",
        "from sklearn.metrics import r2_score\n",
        "r2 = calculate_r2(y_pred_rf, y_train.flatten()) # calculated_r2 requires flattened version of y_true\n",
        "\n",
        "print(\"Training MSE: \", mse)\n",
        "print(\"Training RMSE: \", rmse)\n",
        "print(\"Training MAE: \", mae)\n",
        "print(\"Training R2: \", r2)"
      ],
      "metadata": {
        "colab": {
          "base_uri": "https://localhost:8080/"
        },
        "id": "owO19fh-mJnY",
        "outputId": "e563e449-4fec-4f35-dc0f-1d87ecda8d57"
      },
      "execution_count": null,
      "outputs": [
        {
          "output_type": "stream",
          "name": "stdout",
          "text": [
            "Training MSE:  104.20482833674383\n",
            "Training RMSE:  10.208076622789616\n",
            "Training MAE:  3.937342411373155\n",
            "Training R2:  0.9061307232858424\n"
          ]
        }
      ]
    },
    {
      "cell_type": "markdown",
      "source": [],
      "metadata": {
        "id": "-ijVbDwSfQUK"
      }
    }
  ]
}