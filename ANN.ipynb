{
 "cells": [
  {
   "cell_type": "code",
   "execution_count": 1,
   "metadata": {},
   "outputs": [],
   "source": [
    "import numpy as np\n",
    "import matplotlib.pyplot as plt\n",
    "import pandas as pd\n",
    "\n",
    "import tensorflow as tf\n",
    "from tensorflow import keras\n",
    "from keras import metrics\n",
    "\n",
    "from sklearn import tree\n",
    "from sklearn.tree import DecisionTreeRegressor\n",
    "from sklearn.metrics import mean_squared_error\n",
    "from sklearn.metrics import r2_score"
   ]
  },
  {
   "cell_type": "code",
   "execution_count": 2,
   "metadata": {},
   "outputs": [],
   "source": [
    "x_train = np.load('207_data/saved_data/x_train_3500_balanced.npy')\n",
    "y_train_as_im = np.load('207_data/saved_data/y_train_3500_balanced.npy')"
   ]
  },
  {
   "cell_type": "code",
   "execution_count": 3,
   "metadata": {},
   "outputs": [],
   "source": [
    "x_train = np.reshape(x_train/255, (331240000, 3))\n",
    "y_train = y_train_as_im.flatten()"
   ]
  },
  {
   "cell_type": "code",
   "execution_count": 4,
   "metadata": {},
   "outputs": [],
   "source": [
    "x_test = np.load('207_data/saved_data/x_test_1500_balanced.npy')\n",
    "x_test = np.reshape(x_test/255, (141960000, 3))\n",
    "y_test_as_im = np.load('207_data/saved_data/y_test_1500_balanced.npy')\n",
    "y_test = y_test_as_im.flatten()"
   ]
  },
  {
   "cell_type": "code",
   "execution_count": 5,
   "metadata": {},
   "outputs": [
    {
     "name": "stdout",
     "output_type": "stream",
     "text": [
      "Model: \"sequential\"\n",
      "_________________________________________________________________\n",
      "Layer (type)                 Output Shape              Param #   \n",
      "=================================================================\n",
      "dense (Dense)                (None, 3)                 12        \n",
      "_________________________________________________________________\n",
      "dense_1 (Dense)              (None, 2)                 8         \n",
      "_________________________________________________________________\n",
      "dense_2 (Dense)              (None, 1)                 3         \n",
      "=================================================================\n",
      "Total params: 23\n",
      "Trainable params: 23\n",
      "Non-trainable params: 0\n",
      "_________________________________________________________________\n"
     ]
    }
   ],
   "source": [
    "tf.keras.backend.clear_session()\n",
    "tf.random.set_seed(0)\n",
    "\n",
    "model = tf.keras.Sequential()\n",
    "\n",
    "    # Input layer\n",
    "model.add(tf.keras.layers.Dense(\n",
    "    units=3,                      # Number of neurons in the hidden layer\n",
    "    input_shape=(3,),             # Input dimension\n",
    "    activation='relu'             # Activation function (e.g., 'relu')\n",
    "))\n",
    "model.add(tf.keras.layers.Dense(\n",
    "    units = 2,\n",
    "    activation = 'relu'\n",
    "))\n",
    "\n",
    "    # Output layer\n",
    "model.add(tf.keras.layers.Dense(\n",
    "    units=1,                      # Output dimension (1 for regression)\n",
    "    activation='linear'           # Linear activation for regression\n",
    "))\n",
    "\n",
    "optimizer = tf.keras.optimizers.SGD(learning_rate=0.001)\n",
    "\n",
    "model.compile(loss='mse', optimizer=optimizer)\n",
    "model.summary()"
   ]
  },
  {
   "cell_type": "code",
   "execution_count": 6,
   "metadata": {},
   "outputs": [
    {
     "name": "stdout",
     "output_type": "stream",
     "text": [
      "Epoch 1/5\n",
      "298116/298116 [==============================] - 334s 1ms/step - loss: 535.9027 - val_loss: 433.9462\n",
      "Epoch 2/5\n",
      "298116/298116 [==============================] - 244s 819us/step - loss: 474.6484 - val_loss: 638.8403\n",
      "Epoch 3/5\n",
      "298116/298116 [==============================] - 259s 868us/step - loss: 459.6686 - val_loss: 325.0942\n",
      "Epoch 4/5\n",
      "298116/298116 [==============================] - 235s 788us/step - loss: 446.9641 - val_loss: 315.0093\n",
      "Epoch 5/5\n",
      "298116/298116 [==============================] - 226s 757us/step - loss: 587.8080 - val_loss: 1106.6683\n"
     ]
    },
    {
     "data": {
      "text/html": [
       "<div>\n",
       "<style scoped>\n",
       "    .dataframe tbody tr th:only-of-type {\n",
       "        vertical-align: middle;\n",
       "    }\n",
       "\n",
       "    .dataframe tbody tr th {\n",
       "        vertical-align: top;\n",
       "    }\n",
       "\n",
       "    .dataframe thead th {\n",
       "        text-align: right;\n",
       "    }\n",
       "</style>\n",
       "<table border=\"1\" class=\"dataframe\">\n",
       "  <thead>\n",
       "    <tr style=\"text-align: right;\">\n",
       "      <th></th>\n",
       "      <th>loss</th>\n",
       "      <th>val_loss</th>\n",
       "    </tr>\n",
       "  </thead>\n",
       "  <tbody>\n",
       "    <tr>\n",
       "      <th>0</th>\n",
       "      <td>512.576660</td>\n",
       "      <td>433.946228</td>\n",
       "    </tr>\n",
       "    <tr>\n",
       "      <th>1</th>\n",
       "      <td>470.967682</td>\n",
       "      <td>638.840332</td>\n",
       "    </tr>\n",
       "    <tr>\n",
       "      <th>2</th>\n",
       "      <td>457.734802</td>\n",
       "      <td>325.094177</td>\n",
       "    </tr>\n",
       "    <tr>\n",
       "      <th>3</th>\n",
       "      <td>443.926971</td>\n",
       "      <td>315.009338</td>\n",
       "    </tr>\n",
       "    <tr>\n",
       "      <th>4</th>\n",
       "      <td>853.134949</td>\n",
       "      <td>1106.668335</td>\n",
       "    </tr>\n",
       "  </tbody>\n",
       "</table>\n",
       "</div>"
      ],
      "text/plain": [
       "         loss     val_loss\n",
       "0  512.576660   433.946228\n",
       "1  470.967682   638.840332\n",
       "2  457.734802   325.094177\n",
       "3  443.926971   315.009338\n",
       "4  853.134949  1106.668335"
      ]
     },
     "metadata": {},
     "output_type": "display_data"
    },
    {
     "name": "stdout",
     "output_type": "stream",
     "text": [
      "Wall time: 22min 31s\n"
     ]
    }
   ],
   "source": [
    "%%time\n",
    "\n",
    "history = model.fit(\n",
    "  x = x_train,\n",
    "  y = y_train,\n",
    "  validation_split=0.1,  # use 10% of the examples as a validation set\n",
    "  batch_size = 1000,\n",
    "  epochs = 5\n",
    ")\n",
    "\n",
    "history = pd.DataFrame(history.history)\n",
    "display(history)"
   ]
  },
  {
   "cell_type": "code",
   "execution_count": 7,
   "metadata": {},
   "outputs": [
    {
     "name": "stdout",
     "output_type": "stream",
     "text": [
      "Model: \"sequential\"\n",
      "_________________________________________________________________\n",
      "Layer (type)                 Output Shape              Param #   \n",
      "=================================================================\n",
      "dense (Dense)                (None, 3)                 12        \n",
      "_________________________________________________________________\n",
      "dense_1 (Dense)              (None, 5)                 20        \n",
      "_________________________________________________________________\n",
      "dense_2 (Dense)              (None, 1)                 6         \n",
      "=================================================================\n",
      "Total params: 38\n",
      "Trainable params: 38\n",
      "Non-trainable params: 0\n",
      "_________________________________________________________________\n"
     ]
    }
   ],
   "source": [
    "tf.keras.backend.clear_session()\n",
    "tf.random.set_seed(0)\n",
    "\n",
    "model = tf.keras.Sequential()\n",
    "\n",
    "    # Input layer\n",
    "model.add(tf.keras.layers.Dense(\n",
    "    units=3,                      # Number of neurons in the hidden layer\n",
    "    input_shape=(3,),             # Input dimension\n",
    "    activation='relu'             # Activation function (e.g., 'relu')\n",
    "))\n",
    "model.add(tf.keras.layers.Dense(\n",
    "    units = 5,\n",
    "    activation = 'relu'\n",
    "))\n",
    "\n",
    "    # Output layer\n",
    "model.add(tf.keras.layers.Dense(\n",
    "    units=1,                      # Output dimension (1 for regression)\n",
    "    activation='linear'           # Linear activation for regression\n",
    "))\n",
    "\n",
    "optimizer = tf.keras.optimizers.SGD(learning_rate=0.001)\n",
    "\n",
    "model.compile(loss='mse', optimizer=optimizer)\n",
    "model.summary()"
   ]
  },
  {
   "cell_type": "code",
   "execution_count": 8,
   "metadata": {},
   "outputs": [
    {
     "name": "stdout",
     "output_type": "stream",
     "text": [
      "Epoch 1/5\n",
      "298116/298116 [==============================] - 310s 943us/step - loss: 559.6949 - val_loss: 809.3174\n",
      "Epoch 2/5\n",
      "298116/298116 [==============================] - 243s 816us/step - loss: 829.6170 - val_loss: 800.7373\n",
      "Epoch 3/5\n",
      "298116/298116 [==============================] - 252s 845us/step - loss: 910.3476 - val_loss: 994.2989\n",
      "Epoch 4/5\n",
      "298116/298116 [==============================] - 242s 811us/step - loss: 1015.7555 - val_loss: 994.0239\n",
      "Epoch 5/5\n",
      "298116/298116 [==============================] - 238s 798us/step - loss: 1069.1485 - val_loss: 1106.6683\n"
     ]
    },
    {
     "data": {
      "text/html": [
       "<div>\n",
       "<style scoped>\n",
       "    .dataframe tbody tr th:only-of-type {\n",
       "        vertical-align: middle;\n",
       "    }\n",
       "\n",
       "    .dataframe tbody tr th {\n",
       "        vertical-align: top;\n",
       "    }\n",
       "\n",
       "    .dataframe thead th {\n",
       "        text-align: right;\n",
       "    }\n",
       "</style>\n",
       "<table border=\"1\" class=\"dataframe\">\n",
       "  <thead>\n",
       "    <tr style=\"text-align: right;\">\n",
       "      <th></th>\n",
       "      <th>loss</th>\n",
       "      <th>val_loss</th>\n",
       "    </tr>\n",
       "  </thead>\n",
       "  <tbody>\n",
       "    <tr>\n",
       "      <th>0</th>\n",
       "      <td>617.886292</td>\n",
       "      <td>809.317383</td>\n",
       "    </tr>\n",
       "    <tr>\n",
       "      <th>1</th>\n",
       "      <td>829.828308</td>\n",
       "      <td>800.737305</td>\n",
       "    </tr>\n",
       "    <tr>\n",
       "      <th>2</th>\n",
       "      <td>976.766602</td>\n",
       "      <td>994.298889</td>\n",
       "    </tr>\n",
       "    <tr>\n",
       "      <th>3</th>\n",
       "      <td>1018.563232</td>\n",
       "      <td>994.023865</td>\n",
       "    </tr>\n",
       "    <tr>\n",
       "      <th>4</th>\n",
       "      <td>1129.086060</td>\n",
       "      <td>1106.668335</td>\n",
       "    </tr>\n",
       "  </tbody>\n",
       "</table>\n",
       "</div>"
      ],
      "text/plain": [
       "          loss     val_loss\n",
       "0   617.886292   809.317383\n",
       "1   829.828308   800.737305\n",
       "2   976.766602   994.298889\n",
       "3  1018.563232   994.023865\n",
       "4  1129.086060  1106.668335"
      ]
     },
     "metadata": {},
     "output_type": "display_data"
    },
    {
     "name": "stdout",
     "output_type": "stream",
     "text": [
      "Wall time: 22min 9s\n"
     ]
    }
   ],
   "source": [
    "%%time\n",
    "\n",
    "history = model.fit(\n",
    "  x = x_train,\n",
    "  y = y_train,\n",
    "  validation_split=0.1,  # use 10% of the examples as a validation set\n",
    "  batch_size = 1000,\n",
    "  epochs = 5\n",
    ")\n",
    "\n",
    "history = pd.DataFrame(history.history)\n",
    "display(history)"
   ]
  },
  {
   "cell_type": "code",
   "execution_count": 9,
   "metadata": {},
   "outputs": [
    {
     "name": "stdout",
     "output_type": "stream",
     "text": [
      "Model: \"sequential\"\n",
      "_________________________________________________________________\n",
      "Layer (type)                 Output Shape              Param #   \n",
      "=================================================================\n",
      "dense (Dense)                (None, 3)                 12        \n",
      "_________________________________________________________________\n",
      "dense_1 (Dense)              (None, 5)                 20        \n",
      "_________________________________________________________________\n",
      "dense_2 (Dense)              (None, 2)                 12        \n",
      "_________________________________________________________________\n",
      "dense_3 (Dense)              (None, 1)                 3         \n",
      "=================================================================\n",
      "Total params: 47\n",
      "Trainable params: 47\n",
      "Non-trainable params: 0\n",
      "_________________________________________________________________\n"
     ]
    }
   ],
   "source": [
    "tf.keras.backend.clear_session()\n",
    "tf.random.set_seed(0)\n",
    "\n",
    "model = tf.keras.Sequential()\n",
    "\n",
    "    # Input layer\n",
    "model.add(tf.keras.layers.Dense(\n",
    "    units=3,                      # Number of neurons in the hidden layer\n",
    "    input_shape=(3,),             # Input dimension\n",
    "    activation='relu'             # Activation function (e.g., 'relu')\n",
    "))\n",
    "model.add(tf.keras.layers.Dense(\n",
    "    units = 5,\n",
    "    activation = 'relu'\n",
    "))\n",
    "model.add(tf.keras.layers.Dense(\n",
    "    units = 2,\n",
    "    activation = 'relu'\n",
    "))\n",
    "\n",
    "    # Output layer\n",
    "model.add(tf.keras.layers.Dense(\n",
    "    units=1,                      # Output dimension (1 for regression)\n",
    "    activation='linear'           # Linear activation for regression\n",
    "))\n",
    "\n",
    "optimizer = tf.keras.optimizers.SGD(learning_rate=0.001)\n",
    "\n",
    "model.compile(loss='mse', optimizer=optimizer)\n",
    "model.summary()"
   ]
  },
  {
   "cell_type": "code",
   "execution_count": 10,
   "metadata": {},
   "outputs": [
    {
     "name": "stdout",
     "output_type": "stream",
     "text": [
      "Epoch 1/5\n",
      "298116/298116 [==============================] - 323s 983us/step - loss: 847.0405 - val_loss: 949.9999\n",
      "Epoch 2/5\n",
      "298116/298116 [==============================] - 266s 891us/step - loss: 799.2108 - val_loss: 1001.3366\n",
      "Epoch 3/5\n",
      "298116/298116 [==============================] - 272s 912us/step - loss: 960.8986 - val_loss: 1001.8675\n",
      "Epoch 4/5\n",
      "298116/298116 [==============================] - 259s 867us/step - loss: 1002.1766 - val_loss: 1001.7679\n",
      "Epoch 5/5\n",
      "298116/298116 [==============================] - 245s 822us/step - loss: 902.4648 - val_loss: 590.6897\n"
     ]
    },
    {
     "data": {
      "text/html": [
       "<div>\n",
       "<style scoped>\n",
       "    .dataframe tbody tr th:only-of-type {\n",
       "        vertical-align: middle;\n",
       "    }\n",
       "\n",
       "    .dataframe tbody tr th {\n",
       "        vertical-align: top;\n",
       "    }\n",
       "\n",
       "    .dataframe thead th {\n",
       "        text-align: right;\n",
       "    }\n",
       "</style>\n",
       "<table border=\"1\" class=\"dataframe\">\n",
       "  <thead>\n",
       "    <tr style=\"text-align: right;\">\n",
       "      <th></th>\n",
       "      <th>loss</th>\n",
       "      <th>val_loss</th>\n",
       "    </tr>\n",
       "  </thead>\n",
       "  <tbody>\n",
       "    <tr>\n",
       "      <th>0</th>\n",
       "      <td>879.768250</td>\n",
       "      <td>949.999939</td>\n",
       "    </tr>\n",
       "    <tr>\n",
       "      <th>1</th>\n",
       "      <td>815.589539</td>\n",
       "      <td>1001.336609</td>\n",
       "    </tr>\n",
       "    <tr>\n",
       "      <th>2</th>\n",
       "      <td>945.005676</td>\n",
       "      <td>1001.867493</td>\n",
       "    </tr>\n",
       "    <tr>\n",
       "      <th>3</th>\n",
       "      <td>983.173035</td>\n",
       "      <td>1001.767944</td>\n",
       "    </tr>\n",
       "    <tr>\n",
       "      <th>4</th>\n",
       "      <td>898.872009</td>\n",
       "      <td>590.689697</td>\n",
       "    </tr>\n",
       "  </tbody>\n",
       "</table>\n",
       "</div>"
      ],
      "text/plain": [
       "         loss     val_loss\n",
       "0  879.768250   949.999939\n",
       "1  815.589539  1001.336609\n",
       "2  945.005676  1001.867493\n",
       "3  983.173035  1001.767944\n",
       "4  898.872009   590.689697"
      ]
     },
     "metadata": {},
     "output_type": "display_data"
    },
    {
     "name": "stdout",
     "output_type": "stream",
     "text": [
      "Wall time: 23min 44s\n"
     ]
    }
   ],
   "source": [
    "%%time\n",
    "\n",
    "history = model.fit(\n",
    "  x = x_train,\n",
    "  y = y_train,\n",
    "  validation_split=0.1,  # use 10% of the examples as a validation set\n",
    "  batch_size = 1000,\n",
    "  epochs = 5\n",
    ")\n",
    "\n",
    "history = pd.DataFrame(history.history)\n",
    "display(history)"
   ]
  },
  {
   "cell_type": "code",
   "execution_count": 11,
   "metadata": {},
   "outputs": [
    {
     "name": "stdout",
     "output_type": "stream",
     "text": [
      "Model: \"sequential\"\n",
      "_________________________________________________________________\n",
      "Layer (type)                 Output Shape              Param #   \n",
      "=================================================================\n",
      "dense (Dense)                (None, 3)                 12        \n",
      "_________________________________________________________________\n",
      "dense_1 (Dense)              (None, 5)                 20        \n",
      "_________________________________________________________________\n",
      "dense_2 (Dense)              (None, 5)                 30        \n",
      "_________________________________________________________________\n",
      "dense_3 (Dense)              (None, 1)                 6         \n",
      "=================================================================\n",
      "Total params: 68\n",
      "Trainable params: 68\n",
      "Non-trainable params: 0\n",
      "_________________________________________________________________\n"
     ]
    }
   ],
   "source": [
    "tf.keras.backend.clear_session()\n",
    "tf.random.set_seed(0)\n",
    "\n",
    "model = tf.keras.Sequential()\n",
    "\n",
    "    # Input layer\n",
    "model.add(tf.keras.layers.Dense(\n",
    "    units=3,                      # Number of neurons in the hidden layer\n",
    "    input_shape=(3,),             # Input dimension\n",
    "    activation='relu'             # Activation function (e.g., 'relu')\n",
    "))\n",
    "model.add(tf.keras.layers.Dense(\n",
    "    units = 5,\n",
    "    activation = 'relu'\n",
    "))\n",
    "model.add(tf.keras.layers.Dense(\n",
    "    units = 5,\n",
    "    activation = 'relu'\n",
    "))\n",
    "\n",
    "    # Output layer\n",
    "model.add(tf.keras.layers.Dense(\n",
    "    units=1,                      # Output dimension (1 for regression)\n",
    "    activation='linear'           # Linear activation for regression\n",
    "))\n",
    "\n",
    "optimizer = tf.keras.optimizers.SGD(learning_rate=0.001)\n",
    "\n",
    "model.compile(loss='mse', optimizer=optimizer)\n",
    "model.summary()"
   ]
  },
  {
   "cell_type": "code",
   "execution_count": 12,
   "metadata": {},
   "outputs": [
    {
     "name": "stdout",
     "output_type": "stream",
     "text": [
      "Epoch 1/5\n",
      "298116/298116 [==============================] - 336s 1ms/step - loss: 750.2504 - val_loss: 1003.4591\n",
      "Epoch 2/5\n",
      "298116/298116 [==============================] - 271s 910us/step - loss: 1089.2516 - val_loss: 985.0557\n",
      "Epoch 3/5\n",
      "298116/298116 [==============================] - 266s 894us/step - loss: 856.2800 - val_loss: 1106.4471\n",
      "Epoch 4/5\n",
      "298116/298116 [==============================] - 269s 903us/step - loss: 1173.0836 - val_loss: 1106.0701\n",
      "Epoch 5/5\n",
      "298116/298116 [==============================] - 250s 838us/step - loss: 1172.9167 - val_loss: 1106.4728\n"
     ]
    },
    {
     "data": {
      "text/html": [
       "<div>\n",
       "<style scoped>\n",
       "    .dataframe tbody tr th:only-of-type {\n",
       "        vertical-align: middle;\n",
       "    }\n",
       "\n",
       "    .dataframe tbody tr th {\n",
       "        vertical-align: top;\n",
       "    }\n",
       "\n",
       "    .dataframe thead th {\n",
       "        text-align: right;\n",
       "    }\n",
       "</style>\n",
       "<table border=\"1\" class=\"dataframe\">\n",
       "  <thead>\n",
       "    <tr style=\"text-align: right;\">\n",
       "      <th></th>\n",
       "      <th>loss</th>\n",
       "      <th>val_loss</th>\n",
       "    </tr>\n",
       "  </thead>\n",
       "  <tbody>\n",
       "    <tr>\n",
       "      <th>0</th>\n",
       "      <td>843.385803</td>\n",
       "      <td>1003.459106</td>\n",
       "    </tr>\n",
       "    <tr>\n",
       "      <th>1</th>\n",
       "      <td>1100.815063</td>\n",
       "      <td>985.055725</td>\n",
       "    </tr>\n",
       "    <tr>\n",
       "      <th>2</th>\n",
       "      <td>965.607971</td>\n",
       "      <td>1106.447144</td>\n",
       "    </tr>\n",
       "    <tr>\n",
       "      <th>3</th>\n",
       "      <td>1176.143188</td>\n",
       "      <td>1106.070068</td>\n",
       "    </tr>\n",
       "    <tr>\n",
       "      <th>4</th>\n",
       "      <td>1176.135742</td>\n",
       "      <td>1106.472778</td>\n",
       "    </tr>\n",
       "  </tbody>\n",
       "</table>\n",
       "</div>"
      ],
      "text/plain": [
       "          loss     val_loss\n",
       "0   843.385803  1003.459106\n",
       "1  1100.815063   985.055725\n",
       "2   965.607971  1106.447144\n",
       "3  1176.143188  1106.070068\n",
       "4  1176.135742  1106.472778"
      ]
     },
     "metadata": {},
     "output_type": "display_data"
    },
    {
     "name": "stdout",
     "output_type": "stream",
     "text": [
      "Wall time: 23min 43s\n"
     ]
    }
   ],
   "source": [
    "%%time\n",
    "\n",
    "history = model.fit(\n",
    "  x = x_train,\n",
    "  y = y_train,\n",
    "  validation_split=0.1,  # use 10% of the examples as a validation set\n",
    "  batch_size = 1000,\n",
    "  epochs = 5\n",
    ")\n",
    "\n",
    "history = pd.DataFrame(history.history)\n",
    "display(history)"
   ]
  },
  {
   "cell_type": "code",
   "execution_count": 13,
   "metadata": {},
   "outputs": [
    {
     "name": "stdout",
     "output_type": "stream",
     "text": [
      "Model: \"sequential\"\n",
      "_________________________________________________________________\n",
      "Layer (type)                 Output Shape              Param #   \n",
      "=================================================================\n",
      "dense (Dense)                (None, 3)                 12        \n",
      "_________________________________________________________________\n",
      "dense_1 (Dense)              (None, 2)                 8         \n",
      "_________________________________________________________________\n",
      "dense_2 (Dense)              (None, 5)                 15        \n",
      "_________________________________________________________________\n",
      "dense_3 (Dense)              (None, 1)                 6         \n",
      "=================================================================\n",
      "Total params: 41\n",
      "Trainable params: 41\n",
      "Non-trainable params: 0\n",
      "_________________________________________________________________\n"
     ]
    }
   ],
   "source": [
    "tf.keras.backend.clear_session()\n",
    "tf.random.set_seed(0)\n",
    "\n",
    "model = tf.keras.Sequential()\n",
    "\n",
    "    # Input layer\n",
    "model.add(tf.keras.layers.Dense(\n",
    "    units=3,                      # Number of neurons in the hidden layer\n",
    "    input_shape=(3,),             # Input dimension\n",
    "    activation='relu'             # Activation function (e.g., 'relu')\n",
    "))\n",
    "model.add(tf.keras.layers.Dense(\n",
    "    units = 2,\n",
    "    activation = 'relu'\n",
    "))\n",
    "model.add(tf.keras.layers.Dense(\n",
    "    units = 5,\n",
    "    activation = 'relu'\n",
    "))\n",
    "\n",
    "    # Output layer\n",
    "model.add(tf.keras.layers.Dense(\n",
    "    units=1,                      # Output dimension (1 for regression)\n",
    "    activation='linear'           # Linear activation for regression\n",
    "))\n",
    "\n",
    "optimizer = tf.keras.optimizers.SGD(learning_rate=0.001)\n",
    "\n",
    "model.compile(loss='mse', optimizer=optimizer)\n",
    "model.summary()"
   ]
  },
  {
   "cell_type": "code",
   "execution_count": 14,
   "metadata": {},
   "outputs": [
    {
     "name": "stdout",
     "output_type": "stream",
     "text": [
      "Epoch 1/5\n",
      "298116/298116 [==============================] - 334s 1ms/step - loss: 1154.8443 - val_loss: 1106.5273\n",
      "Epoch 2/5\n",
      "298116/298116 [==============================] - 264s 887us/step - loss: 1172.7580 - val_loss: 1106.5177\n",
      "Epoch 3/5\n",
      "298116/298116 [==============================] - 275s 923us/step - loss: 1172.8670 - val_loss: 1106.6433\n",
      "Epoch 4/5\n",
      "298116/298116 [==============================] - 254s 851us/step - loss: 1172.8933 - val_loss: 1106.5421\n",
      "Epoch 5/5\n",
      "298116/298116 [==============================] - 250s 839us/step - loss: 1172.7778 - val_loss: 1106.6683\n"
     ]
    },
    {
     "data": {
      "text/html": [
       "<div>\n",
       "<style scoped>\n",
       "    .dataframe tbody tr th:only-of-type {\n",
       "        vertical-align: middle;\n",
       "    }\n",
       "\n",
       "    .dataframe tbody tr th {\n",
       "        vertical-align: top;\n",
       "    }\n",
       "\n",
       "    .dataframe thead th {\n",
       "        text-align: right;\n",
       "    }\n",
       "</style>\n",
       "<table border=\"1\" class=\"dataframe\">\n",
       "  <thead>\n",
       "    <tr style=\"text-align: right;\">\n",
       "      <th></th>\n",
       "      <th>loss</th>\n",
       "      <th>val_loss</th>\n",
       "    </tr>\n",
       "  </thead>\n",
       "  <tbody>\n",
       "    <tr>\n",
       "      <th>0</th>\n",
       "      <td>1172.520630</td>\n",
       "      <td>1106.527344</td>\n",
       "    </tr>\n",
       "    <tr>\n",
       "      <th>1</th>\n",
       "      <td>1175.989624</td>\n",
       "      <td>1106.517700</td>\n",
       "    </tr>\n",
       "    <tr>\n",
       "      <th>2</th>\n",
       "      <td>1176.004395</td>\n",
       "      <td>1106.643311</td>\n",
       "    </tr>\n",
       "    <tr>\n",
       "      <th>3</th>\n",
       "      <td>1175.974121</td>\n",
       "      <td>1106.542114</td>\n",
       "    </tr>\n",
       "    <tr>\n",
       "      <th>4</th>\n",
       "      <td>1175.999756</td>\n",
       "      <td>1106.668335</td>\n",
       "    </tr>\n",
       "  </tbody>\n",
       "</table>\n",
       "</div>"
      ],
      "text/plain": [
       "          loss     val_loss\n",
       "0  1172.520630  1106.527344\n",
       "1  1175.989624  1106.517700\n",
       "2  1176.004395  1106.643311\n",
       "3  1175.974121  1106.542114\n",
       "4  1175.999756  1106.668335"
      ]
     },
     "metadata": {},
     "output_type": "display_data"
    },
    {
     "name": "stdout",
     "output_type": "stream",
     "text": [
      "Wall time: 23min 31s\n"
     ]
    }
   ],
   "source": [
    "%%time\n",
    "\n",
    "history = model.fit(\n",
    "  x = x_train,\n",
    "  y = y_train,\n",
    "  validation_split=0.1,  # use 10% of the examples as a validation set\n",
    "  batch_size = 1000,\n",
    "  epochs = 5\n",
    ")\n",
    "\n",
    "history = pd.DataFrame(history.history)\n",
    "display(history)"
   ]
  },
  {
   "cell_type": "code",
   "execution_count": 15,
   "metadata": {},
   "outputs": [
    {
     "name": "stdout",
     "output_type": "stream",
     "text": [
      "Model: \"sequential\"\n",
      "_________________________________________________________________\n",
      "Layer (type)                 Output Shape              Param #   \n",
      "=================================================================\n",
      "dense (Dense)                (None, 3)                 12        \n",
      "_________________________________________________________________\n",
      "dense_1 (Dense)              (None, 5)                 20        \n",
      "_________________________________________________________________\n",
      "dense_2 (Dense)              (None, 5)                 30        \n",
      "_________________________________________________________________\n",
      "dense_3 (Dense)              (None, 1)                 6         \n",
      "=================================================================\n",
      "Total params: 68\n",
      "Trainable params: 68\n",
      "Non-trainable params: 0\n",
      "_________________________________________________________________\n"
     ]
    }
   ],
   "source": [
    "tf.keras.backend.clear_session()\n",
    "tf.random.set_seed(0)\n",
    "\n",
    "model = tf.keras.Sequential()\n",
    "\n",
    "    # Input layer\n",
    "model.add(tf.keras.layers.Dense(\n",
    "    units=3,                      # Number of neurons in the hidden layer\n",
    "    input_shape=(3,),             # Input dimension\n",
    "    activation='relu'             # Activation function (e.g., 'relu')\n",
    "))\n",
    "model.add(tf.keras.layers.Dense(\n",
    "    units = 5,\n",
    "    activation = 'relu'\n",
    "))\n",
    "model.add(tf.keras.layers.Dense(\n",
    "    units = 5,\n",
    "    activation = 'relu'\n",
    "))\n",
    "\n",
    "    # Output layer\n",
    "model.add(tf.keras.layers.Dense(\n",
    "    units=1,                      # Output dimension (1 for regression)\n",
    "    activation='linear'           # Linear activation for regression\n",
    "))\n",
    "\n",
    "optimizer = tf.keras.optimizers.SGD(learning_rate=0.0001)\n",
    "\n",
    "model.compile(loss='mse', optimizer=optimizer)\n",
    "model.summary()"
   ]
  },
  {
   "cell_type": "code",
   "execution_count": 16,
   "metadata": {},
   "outputs": [
    {
     "name": "stdout",
     "output_type": "stream",
     "text": [
      "Epoch 1/5\n",
      "298116/298116 [==============================] - 325s 990us/step - loss: 355.6231 - val_loss: 823.9524\n",
      "Epoch 2/5\n",
      "298116/298116 [==============================] - 260s 872us/step - loss: 917.3526 - val_loss: 152.1604\n",
      "Epoch 3/5\n",
      "298116/298116 [==============================] - 259s 868us/step - loss: 660.3944 - val_loss: 1106.5032\n",
      "Epoch 4/5\n",
      "298116/298116 [==============================] - 255s 856us/step - loss: 1172.8932 - val_loss: 1106.5353\n",
      "Epoch 5/5\n",
      "298116/298116 [==============================] - 244s 820us/step - loss: 1172.7766 - val_loss: 1106.6313\n"
     ]
    },
    {
     "data": {
      "text/html": [
       "<div>\n",
       "<style scoped>\n",
       "    .dataframe tbody tr th:only-of-type {\n",
       "        vertical-align: middle;\n",
       "    }\n",
       "\n",
       "    .dataframe tbody tr th {\n",
       "        vertical-align: top;\n",
       "    }\n",
       "\n",
       "    .dataframe thead th {\n",
       "        text-align: right;\n",
       "    }\n",
       "</style>\n",
       "<table border=\"1\" class=\"dataframe\">\n",
       "  <thead>\n",
       "    <tr style=\"text-align: right;\">\n",
       "      <th></th>\n",
       "      <th>loss</th>\n",
       "      <th>val_loss</th>\n",
       "    </tr>\n",
       "  </thead>\n",
       "  <tbody>\n",
       "    <tr>\n",
       "      <th>0</th>\n",
       "      <td>396.502960</td>\n",
       "      <td>823.952393</td>\n",
       "    </tr>\n",
       "    <tr>\n",
       "      <th>1</th>\n",
       "      <td>836.764099</td>\n",
       "      <td>152.160370</td>\n",
       "    </tr>\n",
       "    <tr>\n",
       "      <th>2</th>\n",
       "      <td>763.317932</td>\n",
       "      <td>1106.503174</td>\n",
       "    </tr>\n",
       "    <tr>\n",
       "      <th>3</th>\n",
       "      <td>1175.975830</td>\n",
       "      <td>1106.535278</td>\n",
       "    </tr>\n",
       "    <tr>\n",
       "      <th>4</th>\n",
       "      <td>1175.998291</td>\n",
       "      <td>1106.631348</td>\n",
       "    </tr>\n",
       "  </tbody>\n",
       "</table>\n",
       "</div>"
      ],
      "text/plain": [
       "          loss     val_loss\n",
       "0   396.502960   823.952393\n",
       "1   836.764099   152.160370\n",
       "2   763.317932  1106.503174\n",
       "3  1175.975830  1106.535278\n",
       "4  1175.998291  1106.631348"
      ]
     },
     "metadata": {},
     "output_type": "display_data"
    },
    {
     "name": "stdout",
     "output_type": "stream",
     "text": [
      "Wall time: 22min 57s\n"
     ]
    }
   ],
   "source": [
    "%%time\n",
    "\n",
    "history = model.fit(\n",
    "  x = x_train,\n",
    "  y = y_train,\n",
    "  validation_split=0.1,  # use 10% of the examples as a validation set\n",
    "  batch_size = 1000,\n",
    "  epochs = 5\n",
    ")\n",
    "\n",
    "history = pd.DataFrame(history.history)\n",
    "display(history)"
   ]
  },
  {
   "cell_type": "code",
   "execution_count": 17,
   "metadata": {},
   "outputs": [
    {
     "name": "stdout",
     "output_type": "stream",
     "text": [
      "Model: \"sequential\"\n",
      "_________________________________________________________________\n",
      "Layer (type)                 Output Shape              Param #   \n",
      "=================================================================\n",
      "dense (Dense)                (None, 3)                 12        \n",
      "_________________________________________________________________\n",
      "dense_1 (Dense)              (None, 5)                 20        \n",
      "_________________________________________________________________\n",
      "dense_2 (Dense)              (None, 5)                 30        \n",
      "_________________________________________________________________\n",
      "dense_3 (Dense)              (None, 1)                 6         \n",
      "=================================================================\n",
      "Total params: 68\n",
      "Trainable params: 68\n",
      "Non-trainable params: 0\n",
      "_________________________________________________________________\n"
     ]
    }
   ],
   "source": [
    "tf.keras.backend.clear_session()\n",
    "tf.random.set_seed(0)\n",
    "\n",
    "model = tf.keras.Sequential()\n",
    "\n",
    "    # Input layer\n",
    "model.add(tf.keras.layers.Dense(\n",
    "    units=3,                      # Number of neurons in the hidden layer\n",
    "    input_shape=(3,),             # Input dimension\n",
    "    activation='relu'             # Activation function (e.g., 'relu')\n",
    "))\n",
    "model.add(tf.keras.layers.Dense(\n",
    "    units = 5,\n",
    "    activation = 'relu'\n",
    "))\n",
    "model.add(tf.keras.layers.Dense(\n",
    "    units = 5,\n",
    "    activation = 'relu'\n",
    "))\n",
    "\n",
    "    # Output layer\n",
    "model.add(tf.keras.layers.Dense(\n",
    "    units=1,                      # Output dimension (1 for regression)\n",
    "    activation='linear'           # Linear activation for regression\n",
    "))\n",
    "\n",
    "optimizer = tf.keras.optimizers.SGD(learning_rate=0.005)\n",
    "\n",
    "model.compile(loss='mse', optimizer=optimizer)\n",
    "model.summary()"
   ]
  },
  {
   "cell_type": "code",
   "execution_count": 18,
   "metadata": {},
   "outputs": [
    {
     "name": "stdout",
     "output_type": "stream",
     "text": [
      "Epoch 1/5\n",
      "298116/298116 [==============================] - 337s 1ms/step - loss: 1172.9035 - val_loss: 1106.5146\n",
      "Epoch 2/5\n",
      "298116/298116 [==============================] - 289s 969us/step - loss: 1172.7626 - val_loss: 1106.2987\n",
      "Epoch 3/5\n",
      "298116/298116 [==============================] - 280s 939us/step - loss: 1172.8716 - val_loss: 1106.9038\n",
      "Epoch 4/5\n",
      "298116/298116 [==============================] - 269s 903us/step - loss: 1172.9001 - val_loss: 1106.4403\n",
      "Epoch 5/5\n",
      "298116/298116 [==============================] - 257s 862us/step - loss: 1172.7835 - val_loss: 1106.6802\n"
     ]
    },
    {
     "data": {
      "text/html": [
       "<div>\n",
       "<style scoped>\n",
       "    .dataframe tbody tr th:only-of-type {\n",
       "        vertical-align: middle;\n",
       "    }\n",
       "\n",
       "    .dataframe tbody tr th {\n",
       "        vertical-align: top;\n",
       "    }\n",
       "\n",
       "    .dataframe thead th {\n",
       "        text-align: right;\n",
       "    }\n",
       "</style>\n",
       "<table border=\"1\" class=\"dataframe\">\n",
       "  <thead>\n",
       "    <tr style=\"text-align: right;\">\n",
       "      <th></th>\n",
       "      <th>loss</th>\n",
       "      <th>val_loss</th>\n",
       "    </tr>\n",
       "  </thead>\n",
       "  <tbody>\n",
       "    <tr>\n",
       "      <th>0</th>\n",
       "      <td>1176.051758</td>\n",
       "      <td>1106.514648</td>\n",
       "    </tr>\n",
       "    <tr>\n",
       "      <th>1</th>\n",
       "      <td>1175.992188</td>\n",
       "      <td>1106.298706</td>\n",
       "    </tr>\n",
       "    <tr>\n",
       "      <th>2</th>\n",
       "      <td>1176.008423</td>\n",
       "      <td>1106.903809</td>\n",
       "    </tr>\n",
       "    <tr>\n",
       "      <th>3</th>\n",
       "      <td>1175.982300</td>\n",
       "      <td>1106.440308</td>\n",
       "    </tr>\n",
       "    <tr>\n",
       "      <th>4</th>\n",
       "      <td>1176.003784</td>\n",
       "      <td>1106.680176</td>\n",
       "    </tr>\n",
       "  </tbody>\n",
       "</table>\n",
       "</div>"
      ],
      "text/plain": [
       "          loss     val_loss\n",
       "0  1176.051758  1106.514648\n",
       "1  1175.992188  1106.298706\n",
       "2  1176.008423  1106.903809\n",
       "3  1175.982300  1106.440308\n",
       "4  1176.003784  1106.680176"
      ]
     },
     "metadata": {},
     "output_type": "display_data"
    },
    {
     "name": "stdout",
     "output_type": "stream",
     "text": [
      "Wall time: 24min 28s\n"
     ]
    }
   ],
   "source": [
    "%%time\n",
    "\n",
    "history = model.fit(\n",
    "  x = x_train,\n",
    "  y = y_train,\n",
    "  validation_split=0.1,  # use 10% of the examples as a validation set\n",
    "  batch_size = 1000,\n",
    "  epochs = 5\n",
    ")\n",
    "\n",
    "history = pd.DataFrame(history.history)\n",
    "display(history)"
   ]
  },
  {
   "cell_type": "code",
   "execution_count": 19,
   "metadata": {},
   "outputs": [
    {
     "name": "stdout",
     "output_type": "stream",
     "text": [
      "Model: \"sequential\"\n",
      "_________________________________________________________________\n",
      "Layer (type)                 Output Shape              Param #   \n",
      "=================================================================\n",
      "dense (Dense)                (None, 3)                 12        \n",
      "_________________________________________________________________\n",
      "dense_1 (Dense)              (None, 5)                 20        \n",
      "_________________________________________________________________\n",
      "dense_2 (Dense)              (None, 5)                 30        \n",
      "_________________________________________________________________\n",
      "dense_3 (Dense)              (None, 1)                 6         \n",
      "=================================================================\n",
      "Total params: 68\n",
      "Trainable params: 68\n",
      "Non-trainable params: 0\n",
      "_________________________________________________________________\n"
     ]
    }
   ],
   "source": [
    "tf.keras.backend.clear_session()\n",
    "tf.random.set_seed(0)\n",
    "\n",
    "model = tf.keras.Sequential()\n",
    "\n",
    "    # Input layer\n",
    "model.add(tf.keras.layers.Dense(\n",
    "    units=3,                      # Number of neurons in the hidden layer\n",
    "    input_shape=(3,),             # Input dimension\n",
    "    activation='relu'             # Activation function (e.g., 'relu')\n",
    "))\n",
    "model.add(tf.keras.layers.Dense(\n",
    "    units = 5,\n",
    "    activation = 'relu'\n",
    "))\n",
    "model.add(tf.keras.layers.Dense(\n",
    "    units = 5,\n",
    "    activation = 'relu'\n",
    "))\n",
    "\n",
    "    # Output layer\n",
    "model.add(tf.keras.layers.Dense(\n",
    "    units=1,                      # Output dimension (1 for regression)\n",
    "    activation='linear'           # Linear activation for regression\n",
    "))\n",
    "\n",
    "optimizer = tf.keras.optimizers.SGD(learning_rate=0.0001)\n",
    "\n",
    "model.compile(loss='mse', optimizer=optimizer)\n",
    "model.summary()"
   ]
  },
  {
   "cell_type": "code",
   "execution_count": 20,
   "metadata": {},
   "outputs": [
    {
     "name": "stdout",
     "output_type": "stream",
     "text": [
      "Epoch 1/5\n",
      "596232/596232 [==============================] - 537s 849us/step - loss: 298.0416 - val_loss: 107.8314\n",
      "Epoch 2/5\n",
      "596232/596232 [==============================] - 475s 797us/step - loss: 235.2736 - val_loss: 104.4915\n",
      "Epoch 3/5\n",
      "596232/596232 [==============================] - 475s 797us/step - loss: 500.0249 - val_loss: 1106.8782\n",
      "Epoch 4/5\n",
      "596232/596232 [==============================] - 456s 764us/step - loss: 1175.1125 - val_loss: 1106.2618\n",
      "Epoch 5/5\n",
      "596232/596232 [==============================] - 451s 757us/step - loss: 1174.9886 - val_loss: 1106.6112\n"
     ]
    },
    {
     "data": {
      "text/html": [
       "<div>\n",
       "<style scoped>\n",
       "    .dataframe tbody tr th:only-of-type {\n",
       "        vertical-align: middle;\n",
       "    }\n",
       "\n",
       "    .dataframe tbody tr th {\n",
       "        vertical-align: top;\n",
       "    }\n",
       "\n",
       "    .dataframe thead th {\n",
       "        text-align: right;\n",
       "    }\n",
       "</style>\n",
       "<table border=\"1\" class=\"dataframe\">\n",
       "  <thead>\n",
       "    <tr style=\"text-align: right;\">\n",
       "      <th></th>\n",
       "      <th>loss</th>\n",
       "      <th>val_loss</th>\n",
       "    </tr>\n",
       "  </thead>\n",
       "  <tbody>\n",
       "    <tr>\n",
       "      <th>0</th>\n",
       "      <td>252.200806</td>\n",
       "      <td>107.831429</td>\n",
       "    </tr>\n",
       "    <tr>\n",
       "      <th>1</th>\n",
       "      <td>223.895767</td>\n",
       "      <td>104.491531</td>\n",
       "    </tr>\n",
       "    <tr>\n",
       "      <th>2</th>\n",
       "      <td>691.433533</td>\n",
       "      <td>1106.878174</td>\n",
       "    </tr>\n",
       "    <tr>\n",
       "      <th>3</th>\n",
       "      <td>1174.589233</td>\n",
       "      <td>1106.261841</td>\n",
       "    </tr>\n",
       "    <tr>\n",
       "      <th>4</th>\n",
       "      <td>1174.590820</td>\n",
       "      <td>1106.611206</td>\n",
       "    </tr>\n",
       "  </tbody>\n",
       "</table>\n",
       "</div>"
      ],
      "text/plain": [
       "          loss     val_loss\n",
       "0   252.200806   107.831429\n",
       "1   223.895767   104.491531\n",
       "2   691.433533  1106.878174\n",
       "3  1174.589233  1106.261841\n",
       "4  1174.590820  1106.611206"
      ]
     },
     "metadata": {},
     "output_type": "display_data"
    },
    {
     "name": "stdout",
     "output_type": "stream",
     "text": [
      "Wall time: 40min 21s\n"
     ]
    }
   ],
   "source": [
    "%%time\n",
    "\n",
    "history = model.fit(\n",
    "  x = x_train,\n",
    "  y = y_train,\n",
    "  validation_split=0.1,  # use 10% of the examples as a validation set\n",
    "  batch_size = 500,\n",
    "  epochs = 5\n",
    ")\n",
    "\n",
    "history = pd.DataFrame(history.history)\n",
    "display(history)"
   ]
  },
  {
   "cell_type": "code",
   "execution_count": 21,
   "metadata": {},
   "outputs": [
    {
     "name": "stdout",
     "output_type": "stream",
     "text": [
      "Model: \"sequential\"\n",
      "_________________________________________________________________\n",
      "Layer (type)                 Output Shape              Param #   \n",
      "=================================================================\n",
      "dense (Dense)                (None, 3)                 12        \n",
      "_________________________________________________________________\n",
      "dense_1 (Dense)              (None, 5)                 20        \n",
      "_________________________________________________________________\n",
      "dense_2 (Dense)              (None, 5)                 30        \n",
      "_________________________________________________________________\n",
      "dense_3 (Dense)              (None, 1)                 6         \n",
      "=================================================================\n",
      "Total params: 68\n",
      "Trainable params: 68\n",
      "Non-trainable params: 0\n",
      "_________________________________________________________________\n"
     ]
    }
   ],
   "source": [
    "tf.keras.backend.clear_session()\n",
    "tf.random.set_seed(0)\n",
    "\n",
    "model = tf.keras.Sequential()\n",
    "\n",
    "    # Input layer\n",
    "model.add(tf.keras.layers.Dense(\n",
    "    units=3,                      # Number of neurons in the hidden layer\n",
    "    input_shape=(3,),             # Input dimension\n",
    "    activation='relu'             # Activation function (e.g., 'relu')\n",
    "))\n",
    "model.add(tf.keras.layers.Dense(\n",
    "    units = 5,\n",
    "    activation = 'relu'\n",
    "))\n",
    "model.add(tf.keras.layers.Dense(\n",
    "    units = 5,\n",
    "    activation = 'relu'\n",
    "))\n",
    "\n",
    "    # Output layer\n",
    "model.add(tf.keras.layers.Dense(\n",
    "    units=1,                      # Output dimension (1 for regression)\n",
    "    activation='linear'           # Linear activation for regression\n",
    "))\n",
    "\n",
    "optimizer = tf.keras.optimizers.Adam(learning_rate=0.0001)\n",
    "\n",
    "model.compile(loss='mse', optimizer=optimizer)\n",
    "model.summary()"
   ]
  },
  {
   "cell_type": "code",
   "execution_count": 22,
   "metadata": {},
   "outputs": [
    {
     "name": "stdout",
     "output_type": "stream",
     "text": [
      "Epoch 1/5\n",
      "298116/298116 [==============================] - 349s 1ms/step - loss: 509.7940 - val_loss: 102.9825\n",
      "Epoch 2/5\n",
      "298116/298116 [==============================] - 292s 978us/step - loss: 156.6893 - val_loss: 99.1763\n",
      "Epoch 3/5\n",
      "298116/298116 [==============================] - 295s 989us/step - loss: 154.5900 - val_loss: 98.7016\n",
      "Epoch 4/5\n",
      "298116/298116 [==============================] - 279s 937us/step - loss: 154.4574 - val_loss: 101.2368\n",
      "Epoch 5/5\n",
      "298116/298116 [==============================] - 275s 921us/step - loss: 154.6203 - val_loss: 98.3555\n"
     ]
    },
    {
     "data": {
      "text/html": [
       "<div>\n",
       "<style scoped>\n",
       "    .dataframe tbody tr th:only-of-type {\n",
       "        vertical-align: middle;\n",
       "    }\n",
       "\n",
       "    .dataframe tbody tr th {\n",
       "        vertical-align: top;\n",
       "    }\n",
       "\n",
       "    .dataframe thead th {\n",
       "        text-align: right;\n",
       "    }\n",
       "</style>\n",
       "<table border=\"1\" class=\"dataframe\">\n",
       "  <thead>\n",
       "    <tr style=\"text-align: right;\">\n",
       "      <th></th>\n",
       "      <th>loss</th>\n",
       "      <th>val_loss</th>\n",
       "    </tr>\n",
       "  </thead>\n",
       "  <tbody>\n",
       "    <tr>\n",
       "      <th>0</th>\n",
       "      <td>292.549927</td>\n",
       "      <td>102.982491</td>\n",
       "    </tr>\n",
       "    <tr>\n",
       "      <th>1</th>\n",
       "      <td>156.088333</td>\n",
       "      <td>99.176292</td>\n",
       "    </tr>\n",
       "    <tr>\n",
       "      <th>2</th>\n",
       "      <td>154.686432</td>\n",
       "      <td>98.701591</td>\n",
       "    </tr>\n",
       "    <tr>\n",
       "      <th>3</th>\n",
       "      <td>154.777863</td>\n",
       "      <td>101.236839</td>\n",
       "    </tr>\n",
       "    <tr>\n",
       "      <th>4</th>\n",
       "      <td>154.601028</td>\n",
       "      <td>98.355545</td>\n",
       "    </tr>\n",
       "  </tbody>\n",
       "</table>\n",
       "</div>"
      ],
      "text/plain": [
       "         loss    val_loss\n",
       "0  292.549927  102.982491\n",
       "1  156.088333   99.176292\n",
       "2  154.686432   98.701591\n",
       "3  154.777863  101.236839\n",
       "4  154.601028   98.355545"
      ]
     },
     "metadata": {},
     "output_type": "display_data"
    },
    {
     "name": "stdout",
     "output_type": "stream",
     "text": [
      "Wall time: 25min 21s\n"
     ]
    }
   ],
   "source": [
    "%%time\n",
    "\n",
    "history = model.fit(\n",
    "  x = x_train,\n",
    "  y = y_train,\n",
    "  validation_split=0.1,  # use 10% of the examples as a validation set\n",
    "  batch_size = 1000,\n",
    "  epochs = 5\n",
    ")\n",
    "\n",
    "history = pd.DataFrame(history.history)\n",
    "display(history)"
   ]
  },
  {
   "cell_type": "code",
   "execution_count": 24,
   "metadata": {},
   "outputs": [],
   "source": [
    "# calculate mse\n",
    "\n",
    "def calculate_mse(y_pred, y_true):\n",
    "\n",
    "    mse = np.array([])\n",
    "\n",
    "    y_pred_im = np.reshape(y_pred, (y_true.shape[0], 94640))\n",
    "    y_true_im = np.reshape(y_true,  (y_true.shape[0], 94640))\n",
    "\n",
    "    for i in range(y_pred_im.shape[0]):\n",
    "\n",
    "        image_pred = y_pred_im[i]\n",
    "        image_true = y_true_im[i]\n",
    "        diff = np.subtract(image_true, image_pred)\n",
    "        se = np.square(diff)\n",
    "        mse_im = np.average(se)\n",
    "\n",
    "        mse = np.append(mse, mse_im)\n",
    "    \n",
    "    mse_overall = np.average(mse)\n",
    "    return mse_overall"
   ]
  },
  {
   "cell_type": "code",
   "execution_count": 25,
   "metadata": {},
   "outputs": [],
   "source": [
    "# calculate mae \n",
    "\n",
    "def calculate_mae(y_pred, y_true):\n",
    "\n",
    "    mae = np.array([])\n",
    "\n",
    "    y_pred_im = np.reshape(y_pred, (y_true.shape[0], 94640))\n",
    "    y_true_im = np.reshape(y_true,  (y_true.shape[0], 94640))\n",
    "\n",
    "    for i in range(y_pred_im.shape[0]):\n",
    "\n",
    "        image_pred = y_pred_im[i]\n",
    "        image_true = y_true_im[i]\n",
    "\n",
    "        mae_for_image = np.average(np.abs(np.subtract(image_true, image_pred)))\n",
    "\n",
    "    mae = np.append(mae, mae_for_image)\n",
    "\n",
    "    mae_overall = np.average(mae)\n",
    "\n",
    "    return mae_overall"
   ]
  },
  {
   "cell_type": "code",
   "execution_count": 26,
   "metadata": {},
   "outputs": [],
   "source": [
    "# calculate r2\n",
    "\n",
    "def calculate_r2(y_pred, y_true):\n",
    "\n",
    "    r2_overall = r2_score(y_true, y_pred)\n",
    "    \n",
    "    return r2_overall"
   ]
  },
  {
   "cell_type": "code",
   "execution_count": 27,
   "metadata": {},
   "outputs": [
    {
     "name": "stdout",
     "output_type": "stream",
     "text": [
      "Training MSE 147.61460403018145\n",
      "Training RMSE:  12.14967505862529\n",
      "Training MAE:  2.505235641844577\n",
      "Training R2:  0.8732261514044113\n"
     ]
    }
   ],
   "source": [
    "# y_pred = model.predict(x_train)\n",
    "\n",
    "mse = calculate_mse(y_pred, y_train_as_im)\n",
    "rmse = np.sqrt(mse)\n",
    "mae = calculate_mae(y_pred, y_train_as_im)\n",
    "r2 = calculate_r2(y_pred, y_train)\n",
    "\n",
    "print(\"Training MSE\", mse)\n",
    "print(\"Training RMSE: \", rmse)\n",
    "print(\"Training MAE: \", mae)\n",
    "print(\"Training R2: \", r2)"
   ]
  },
  {
   "cell_type": "code",
   "execution_count": 28,
   "metadata": {},
   "outputs": [
    {
     "name": "stdout",
     "output_type": "stream",
     "text": [
      "Testing MSE 113.55523729044879\n",
      "Testing RMSE:  10.656229975486115\n",
      "Testing MAE:  3.809051565900256\n",
      "Testing R2:  0.8978403792749294\n"
     ]
    }
   ],
   "source": [
    "y_pred_ts = model.predict(x_test)\n",
    "\n",
    "mse = calculate_mse(y_pred_ts, y_test_as_im)\n",
    "rmse = np.sqrt(mse)\n",
    "mae = calculate_mae(y_pred_ts, y_test_as_im)\n",
    "r2 = calculate_r2(y_pred_ts, y_test)\n",
    "\n",
    "print(\"Testing MSE\", mse)\n",
    "print(\"Testing RMSE: \", rmse)\n",
    "print(\"Testing MAE: \", mae)\n",
    "print(\"Testing R2: \", r2)"
   ]
  },
  {
   "cell_type": "code",
   "execution_count": null,
   "metadata": {},
   "outputs": [],
   "source": []
  }
 ],
 "metadata": {
  "kernelspec": {
   "display_name": "Python 3",
   "language": "python",
   "name": "python3"
  },
  "language_info": {
   "codemirror_mode": {
    "name": "ipython",
    "version": 3
   },
   "file_extension": ".py",
   "mimetype": "text/x-python",
   "name": "python",
   "nbconvert_exporter": "python",
   "pygments_lexer": "ipython3",
   "version": "3.8.5"
  }
 },
 "nbformat": 4,
 "nbformat_minor": 4
}
