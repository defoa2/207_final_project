{
 "cells": [
  {
   "cell_type": "markdown",
   "metadata": {},
   "source": [
    "# run with a couple of images from data uploaded on google drive using colab"
   ]
  },
  {
   "cell_type": "code",
   "execution_count": null,
   "metadata": {},
   "outputs": [],
   "source": [
    "import numpy as np\n",
    "import matplotlib.pyplot as plt\n",
    "from PIL import Image\n",
    "import requests\n",
    "import os\n",
    "import pandas as pd\n",
    "import seaborn as sns\n",
    "import pickle\n",
    "\n",
    "import tensorflow as tf\n",
    "from tensorflow import keras\n",
    "from keras import metrics\n",
    "\n",
    "\n",
    "from sklearn import tree\n",
    "from sklearn.tree import DecisionTreeRegressor\n",
    "from sklearn.metrics import mean_squared_error"
   ]
  },
  {
   "cell_type": "code",
   "execution_count": null,
   "metadata": {},
   "outputs": [],
   "source": [
    "from google.colab import drive\n",
    "drive.mount('/content/drive')"
   ]
  },
  {
   "cell_type": "code",
   "execution_count": null,
   "metadata": {},
   "outputs": [],
   "source": [
    "# generate a list of dates\n",
    "def generate_dates(dates_list, num_dates):\n",
    "  \"\"\"\n",
    "  take in number of dates to create\n",
    "  return list of year, month, days\n",
    "\n",
    "  \"\"\"\n",
    "\n",
    "  # dates_data = pd.read_csv('/content/drive/My Drive/207_data/saved_data/N_seaice_extent_daily_v3.0.csv', usecols = [0, 1, 2], header = 0, skiprows = 1, names = ['Year', 'Month', 'Day'])\n",
    "  dates_data = dates_list\n",
    "\n",
    "  dates_sample = dates_data.sample(n=num_dates, random_state = 0)\n",
    "\n",
    "  return dates_sample"
   ]
  },
  {
   "cell_type": "code",
   "execution_count": null,
   "metadata": {},
   "outputs": [],
   "source": [
    "# dictionary for producing month numbers\n",
    "months = {1:'Jan', 2:'Feb', 3:'Mar', 4:'Apr', 5:'May', 6:'Jun', 7:'Jul', 8:'Aug', 9:'Sep', 10:'Oct', 11:'Nov', 12:'Dec'}\n",
    "\n",
    "\n",
    "# define path\n",
    "path = '207_data/'\n",
    "\n",
    "# call images from google folder and create list of input image data\n",
    "def open_images(list_dates):\n",
    "  \"\"\"\n",
    "  take list of generated dates\n",
    "  crop images to clean data\n",
    "  return array of image data\n",
    "\n",
    "  \"\"\"\n",
    "  image_data = []\n",
    "\n",
    "  for i in list_dates.index:\n",
    "    year = str(list_dates['Year'][i])\n",
    "    month_num = list_dates['Month'][i]\n",
    "    month = months[month_num]\n",
    "    day = list_dates['Day'][i]\n",
    "    file_name = f\"{year}_{month_num}_{day}.png\"\n",
    "\n",
    "    im = Image.open(os.path.join(path, year, month, file_name))\n",
    "    im_dat = np.array(im.convert('RGB').getdata())\n",
    "    im_dat = np.reshape(im_dat, (430, 400, 3))\n",
    "    im_dat = im_dat[2:340, 50:330]\n",
    "\n",
    "    image_data.append(im_dat)\n",
    "\n",
    "  image_data = np.reshape(image_data, (len(image_data), 338, 280, 3))\n",
    "  return image_data\n"
   ]
  },
  {
   "cell_type": "code",
   "execution_count": null,
   "metadata": {},
   "outputs": [],
   "source": [
    "# create a dataframe of reference colors for sea ice concentration percentage\n",
    "sic_color_mapping = np.load('207_data/saved_data/sic_mapping.npy')\n",
    "\n",
    "sic_color_mapping = np.concatenate((sic_color_mapping[:, :3], sic_color_mapping[:, -1:]), axis=1)\n",
    "\n",
    "sic_color_df = pd.DataFrame(sic_color_mapping, columns = [\"Red\", \"Green\", \"Blue\", \"Percent\"])\n",
    "\n",
    "# create a reference list from data frame records\n",
    "list_mst = sic_color_df[['Red', 'Green', 'Blue']].values.tolist()\n",
    "\n",
    "# sea ice concentration image array\n",
    "def sic_output(x_data):\n",
    "  \"\"\"\n",
    "  take list of image data with 3 channels\n",
    "  return list of sea ice concentration image arrays\n",
    "\n",
    "  \"\"\"\n",
    "  sic_images_arr = []\n",
    "\n",
    "  for i in range(x_data.shape[0]):\n",
    "    flattened_pix = x_data[i].reshape(94640, 3)\n",
    "\n",
    "    sc_image = []\n",
    "\n",
    "    for pixel_to_search in flattened_pix:\n",
    "      df_idx = np.where(list(pixel_to_search.tolist() == plist for plist in list_mst))[0]\n",
    "      if df_idx.size == 0:\n",
    "        percent = 0\n",
    "      else:\n",
    "        percent = sic_color_df['Percent'].iloc[df_idx].values[0]\n",
    "      sc_image.append(percent)\n",
    "\n",
    "    sc_image = np.reshape(sc_image, (338, 280))\n",
    "\n",
    "    sic_images_arr.append(sc_image)\n",
    "\n",
    "  sic_images_arr = np.reshape(sic_images_arr, (len(sic_images_arr), 338, 280))\n",
    "\n",
    "  return sic_images_arr"
   ]
  },
  {
   "cell_type": "code",
   "execution_count": null,
   "metadata": {},
   "outputs": [],
   "source": [
    "# csv of valid dates from NOAA website\n",
    "\n",
    "dates_data = pd.read_csv('207_data/saved_data/N_seaice_extent_daily_v3.0.csv', usecols = [0, 1, 2], header = 0, skiprows = 1, names = ['Year', 'Month', 'Day'])"
   ]
  },
  {
   "cell_type": "code",
   "execution_count": null,
   "metadata": {},
   "outputs": [],
   "source": [
    "# create training data\n",
    "\n",
    "number_of_images = # whatever you want\n",
    "\n",
    "train_inputs = generate_dates(dates_data.iloc[:-2961], number_of_images) # need to change to 3500 for training to randonly select (save 1500 most recent images for testing for 5000 total)\n",
    "train_sic_transform = train_inputs[['Month', 'Day']]\n",
    "train_sic_transform['Year'] = train_inputs['Year'] + 4\n",
    "\n",
    "\n",
    "intersection = pd.merge(train_inputs, train_sic_transform, on = ['Year', 'Month', 'Day'])\n",
    "\n",
    "train_inputs_im_only = pd.concat([train_inputs, intersection]).drop_duplicates(keep=False)\n",
    "train_inputs_im_only\n",
    "\n",
    "train_inputs_sic_only = pd.concat([train_sic_transform, intersection]).drop_duplicates(keep=False)\n",
    "train_inputs_sic_only\n",
    "\n",
    "train_inputs_sorted = train_inputs.sort_values(by =['Year', 'Month', 'Day'])\n",
    "train_sic_dates_sorted = train_sic_transform.sort_values(by =['Year', 'Month', 'Day'])"
   ]
  },
  {
   "cell_type": "code",
   "execution_count": null,
   "metadata": {},
   "outputs": [],
   "source": [
    "# build ANN\n",
    "\n",
    "def build_ann():\n",
    "  \"\"\"\n",
    "  add hidden layer to regression model\n",
    "  \"\"\"\n"
   ]
  },
  {
   "cell_type": "code",
   "execution_count": null,
   "metadata": {},
   "outputs": [],
   "source": []
  }
 ],
 "metadata": {
  "kernelspec": {
   "display_name": "Python 3",
   "language": "python",
   "name": "python3"
  },
  "language_info": {
   "codemirror_mode": {
    "name": "ipython",
    "version": 3
   },
   "file_extension": ".py",
   "mimetype": "text/x-python",
   "name": "python",
   "nbconvert_exporter": "python",
   "pygments_lexer": "ipython3",
   "version": "3.8.5"
  }
 },
 "nbformat": 4,
 "nbformat_minor": 4
}
